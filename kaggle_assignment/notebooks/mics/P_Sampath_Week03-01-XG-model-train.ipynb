{
 "cells": [
  {
   "cell_type": "code",
   "execution_count": 2,
   "metadata": {},
   "outputs": [
    {
     "ename": "ModuleNotFoundError",
     "evalue": "No module named 'src'",
     "output_type": "error",
     "traceback": [
      "\u001b[0;31m\u001b[0m",
      "\u001b[0;31mModuleNotFoundError\u001b[0mTraceback (most recent call last)",
      "\u001b[0;32m<ipython-input-2-3aaf1f037855>\u001b[0m in \u001b[0;36m<module>\u001b[0;34m\u001b[0m\n\u001b[1;32m      6\u001b[0m \u001b[0;32mimport\u001b[0m \u001b[0mpandas\u001b[0m \u001b[0;32mas\u001b[0m \u001b[0mpd\u001b[0m\u001b[0;34m\u001b[0m\u001b[0;34m\u001b[0m\u001b[0m\n\u001b[1;32m      7\u001b[0m \u001b[0;32mimport\u001b[0m \u001b[0mnumpy\u001b[0m \u001b[0;32mas\u001b[0m \u001b[0mnp\u001b[0m\u001b[0;34m\u001b[0m\u001b[0;34m\u001b[0m\u001b[0m\n\u001b[0;32m----> 8\u001b[0;31m \u001b[0;32mfrom\u001b[0m \u001b[0msrc\u001b[0m\u001b[0;34m.\u001b[0m\u001b[0mdata\u001b[0m \u001b[0;32mimport\u001b[0m \u001b[0mclean_and_split_nba_data\u001b[0m \u001b[0;32mas\u001b[0m \u001b[0mclean\u001b[0m\u001b[0;34m\u001b[0m\u001b[0;34m\u001b[0m\u001b[0m\n\u001b[0m\u001b[1;32m      9\u001b[0m \u001b[0;32mfrom\u001b[0m \u001b[0msrc\u001b[0m\u001b[0;34m.\u001b[0m\u001b[0mmodels\u001b[0m \u001b[0;32mimport\u001b[0m \u001b[0mplot_validation_curve\u001b[0m \u001b[0;32mas\u001b[0m \u001b[0mvc\u001b[0m\u001b[0;34m\u001b[0m\u001b[0;34m\u001b[0m\u001b[0m\n\u001b[1;32m     10\u001b[0m \u001b[0;32mfrom\u001b[0m \u001b[0msrc\u001b[0m\u001b[0;34m.\u001b[0m\u001b[0mmodels\u001b[0m \u001b[0;32mimport\u001b[0m \u001b[0meval_model\u001b[0m \u001b[0;32mas\u001b[0m \u001b[0mevm\u001b[0m\u001b[0;34m\u001b[0m\u001b[0;34m\u001b[0m\u001b[0m\n",
      "\u001b[0;31mModuleNotFoundError\u001b[0m: No module named 'src'"
     ]
    }
   ],
   "source": [
    "import os\n",
    "import sys\n",
    "# module_path = os.path.abspath(os.path.join('..'))\n",
    "# if module_path not in sys.path:\n",
    "#     sys.path.append(module_path)\n",
    "import pandas as pd\n",
    "import numpy as np\n",
    "from src.data import clean_and_split_nba_data as clean\n",
    "from src.models import plot_validation_curve as vc\n",
    "from src.models import eval_model as evm\n",
    "import xgboost as xgb\n",
    "from hyperopt import Trials, STATUS_OK, tpe, hp, fmin\n",
    "%load_ext autoreload\n",
    "%autoreload 2"
   ]
  },
  {
   "cell_type": "code",
   "execution_count": 16,
   "metadata": {},
   "outputs": [
    {
     "data": {
      "text/plain": [
       "'/home/jovyan/work'"
      ]
     },
     "execution_count": 16,
     "metadata": {},
     "output_type": "execute_result"
    }
   ],
   "source": [
    "import os\n",
    "import sys\n",
    "module_path = os.path.abspath(os.path.join('..'))\n",
    "if module_path not in sys.path:\n",
    "    sys.path.append(module_path)\n",
    "module_path"
   ]
  },
  {
   "cell_type": "code",
   "execution_count": 19,
   "metadata": {},
   "outputs": [
    {
     "data": {
      "text/plain": [
       "'/home/jovyan/work'"
      ]
     },
     "execution_count": 19,
     "metadata": {},
     "output_type": "execute_result"
    }
   ],
   "source": [
    "os.path.abspath(os.path.join('..'))"
   ]
  },
  {
   "cell_type": "code",
   "execution_count": 20,
   "metadata": {},
   "outputs": [
    {
     "data": {
      "text/plain": [
       "['/home/jovyan/work/notebooks',\n",
       " '/opt/conda/lib/python37.zip',\n",
       " '/opt/conda/lib/python3.7',\n",
       " '/opt/conda/lib/python3.7/lib-dynload',\n",
       " '',\n",
       " '/opt/conda/lib/python3.7/site-packages',\n",
       " '/opt/conda/lib/python3.7/site-packages/IPython/extensions',\n",
       " '/home/jovyan/.ipython',\n",
       " '/home/jovyan/work']"
      ]
     },
     "execution_count": 20,
     "metadata": {},
     "output_type": "execute_result"
    }
   ],
   "source": [
    "sys.path"
   ]
  },
  {
   "cell_type": "code",
   "execution_count": null,
   "metadata": {},
   "outputs": [],
   "source": [
    "df = pd.read_csv(\"../data/raw/train.csv\")\n",
    "df"
   ]
  },
  {
   "cell_type": "code",
   "execution_count": null,
   "metadata": {},
   "outputs": [],
   "source": [
    "x_data, x_train, x_val, x_test, y_data , y_train, y_val,  y_test = clean.clean_and_split_nba_data(df)"
   ]
  },
  {
   "cell_type": "code",
   "execution_count": null,
   "metadata": {},
   "outputs": [],
   "source": [
    "evm.eval_model(xgb.XGBClassifier(random_state=8, verbosity=1,use_label_encoder=False,objective ='binary:logistic',eval_metric='auc'),x_train,y_train,x_val,y_val)"
   ]
  },
  {
   "cell_type": "code",
   "execution_count": null,
   "metadata": {},
   "outputs": [],
   "source": [
    "vc.plot_validation_curve(estimator=xgb.XGBClassifier(random_state=8, verbosity=1,use_label_encoder=False,objective ='binary:logistic',eval_metric='auc'),\n",
    "                    hyperparameter='min_child_weight',\n",
    "                    hyperparameter_value=[1,2,3,5,10,15,20,30,40,50,100,500,550,560,570,580,590,600,700],\n",
    "                    x=x_data,\n",
    "                    y=y_data,\n",
    "                    title=\"XGBoost\",\n",
    "                    cv=5)"
   ]
  },
  {
   "cell_type": "code",
   "execution_count": null,
   "metadata": {},
   "outputs": [],
   "source": [
    "vc.plot_validation_curve(estimator=xgb.XGBClassifier(random_state=8, \n",
    "                                                     verbosity=1,\n",
    "                                                     use_label_encoder=False,\n",
    "                                                     objective ='binary:logistic',\n",
    "                                                     eval_metric='auc'),\n",
    "                    hyperparameter='min_child_weight',\n",
    "                    hyperparameter_value=[200,300,350,400,450,500,550],\n",
    "                    x=x_data,\n",
    "                    y=y_data,\n",
    "                    title=\"XGBoost\",\n",
    "                    cv=5)"
   ]
  },
  {
   "cell_type": "code",
   "execution_count": null,
   "metadata": {},
   "outputs": [],
   "source": [
    "np.arange( 0.1, 1.0, 0.05)"
   ]
  },
  {
   "cell_type": "code",
   "execution_count": null,
   "metadata": {},
   "outputs": [],
   "source": [
    "vc.plot_validation_curve(estimator=xgb.XGBClassifier(random_state=8, \n",
    "                                                     verbosity=1,\n",
    "                                                     use_label_encoder=False,\n",
    "                                                     objective ='binary:logistic',\n",
    "                                                     eval_metric='auc',\n",
    "                                                    min_child_weight=200\n",
    "                                                    \n",
    "                                                    ),\n",
    "                    hyperparameter='colsample_bytree',\n",
    "                    hyperparameter_value=np.arange( 0.1, 1.0, 0.05),\n",
    "                    x=x_data,\n",
    "                    y=y_data,\n",
    "                    title=\"XGBoost\",\n",
    "                    cv=5)"
   ]
  },
  {
   "cell_type": "code",
   "execution_count": null,
   "metadata": {},
   "outputs": [],
   "source": [
    "vc.plot_validation_curve(estimator=xgb.XGBClassifier(random_state=8, \n",
    "                                                     verbosity=1,\n",
    "                                                     use_label_encoder=False,\n",
    "                                                     objective ='binary:logistic',\n",
    "                                                     eval_metric='auc',\n",
    "                                                    min_child_weight=200\n",
    "                                                    \n",
    "                                                    ),\n",
    "                    hyperparameter='colsample_bytree',\n",
    "                    hyperparameter_value=np.arange( 0.75, 0.80, 0.05),\n",
    "                    x=x_data,\n",
    "                    y=y_data,\n",
    "                    title=\"XGBoost\",\n",
    "                    cv=5)"
   ]
  },
  {
   "cell_type": "code",
   "execution_count": null,
   "metadata": {},
   "outputs": [],
   "source": [
    "vc.plot_validation_curve(estimator=xgb.XGBClassifier(random_state=8, \n",
    "                                                     verbosity=1,\n",
    "                                                     use_label_encoder=False,\n",
    "                                                     objective ='binary:logistic',\n",
    "                                                     eval_metric='auc',\n",
    "                                                    min_child_weight=200,\n",
    "                                                     colsample_bytree=0.77\n",
    "                                                    \n",
    "                                                    ),\n",
    "                    hyperparameter='subsample',\n",
    "                    hyperparameter_value=np.arange( 0.1, 1.0, 0.05),\n",
    "                    x=x_data,\n",
    "                    y=y_data,\n",
    "                    title=\"XGBoost\",\n",
    "                    cv=5)"
   ]
  },
  {
   "cell_type": "code",
   "execution_count": null,
   "metadata": {},
   "outputs": [],
   "source": [
    "vc.plot_validation_curve(estimator=xgb.XGBClassifier(random_state=8, \n",
    "                                                     verbosity=1,\n",
    "                                                     use_label_encoder=False,\n",
    "                                                     objective ='binary:logistic',\n",
    "                                                     eval_metric='auc',\n",
    "                                                    min_child_weight=200,\n",
    "                                                     colsample_bytree=0.77\n",
    "                                                    \n",
    "                                                    ),\n",
    "                    hyperparameter='subsample',\n",
    "                    hyperparameter_value=np.arange( 0.3, 0.4, 0.05),\n",
    "                    x=x_data,\n",
    "                    y=y_data,\n",
    "                    title=\"XGBoost\",\n",
    "                    cv=5)"
   ]
  },
  {
   "cell_type": "code",
   "execution_count": null,
   "metadata": {},
   "outputs": [],
   "source": [
    "vc.plot_validation_curve(estimator=xgb.XGBClassifier(random_state=8, \n",
    "                                                     verbosity=1,\n",
    "                                                     use_label_encoder=False,\n",
    "                                                     objective ='binary:logistic',\n",
    "                                                     eval_metric='auc',\n",
    "                                                    min_child_weight=200,\n",
    "                                                     colsample_bytree=0.77,\n",
    "                                                     subsample=0.3\n",
    "                                                    \n",
    "                                                    ),\n",
    "                    hyperparameter='reg_lambda',\n",
    "                    hyperparameter_value=np.arange( 0.1, 1.0, 0.05),\n",
    "                    x=x_data,\n",
    "                    y=y_data,\n",
    "                    title=\"XGBoost\",\n",
    "                    cv=5)"
   ]
  },
  {
   "cell_type": "code",
   "execution_count": null,
   "metadata": {},
   "outputs": [],
   "source": [
    "vc.plot_validation_curve(estimator=xgb.XGBClassifier(random_state=8, \n",
    "                                                     verbosity=1,\n",
    "                                                     use_label_encoder=False,\n",
    "                                                     objective ='binary:logistic',\n",
    "                                                     eval_metric='auc',\n",
    "                                                    min_child_weight=200,\n",
    "                                                     colsample_bytree=0.77,\n",
    "                                                     subsample=0.3\n",
    "                                                    \n",
    "                                                    ),\n",
    "                    hyperparameter='reg_alpha',\n",
    "                    hyperparameter_value=np.arange( 0.1, 1.0, 0.05),\n",
    "                    x=x_data,\n",
    "                    y=y_data,\n",
    "                    title=\"XGBoost\",\n",
    "                    cv=5)"
   ]
  },
  {
   "cell_type": "code",
   "execution_count": null,
   "metadata": {},
   "outputs": [],
   "source": [
    "vc.plot_validation_curve(estimator=xgb.XGBClassifier(random_state=8, \n",
    "                                                     verbosity=1,\n",
    "                                                     use_label_encoder=False,\n",
    "                                                     objective ='binary:logistic',\n",
    "                                                     eval_metric='auc',\n",
    "                                                    min_child_weight=200,\n",
    "                                                     colsample_bytree=0.77,\n",
    "                                                     subsample=0.3\n",
    "                                                    \n",
    "                                                    ),\n",
    "                    hyperparameter='max_depth',\n",
    "                    hyperparameter_value=range(1,50,1),\n",
    "                    x=x_data,\n",
    "                    y=y_data,\n",
    "                    title=\"XGBoost\",\n",
    "                    cv=5)"
   ]
  },
  {
   "cell_type": "code",
   "execution_count": null,
   "metadata": {},
   "outputs": [],
   "source": [
    "vc.plot_validation_curve(estimator=xgb.XGBClassifier(random_state=8, \n",
    "                                                     verbosity=1,\n",
    "                                                     use_label_encoder=False,\n",
    "                                                     objective ='binary:logistic',\n",
    "                                                     eval_metric='auc',\n",
    "                                                    min_child_weight=200,\n",
    "                                                     colsample_bytree=0.77,\n",
    "                                                     subsample=0.3\n",
    "                                                    \n",
    "                                                    ),\n",
    "                    hyperparameter='learning_rate',\n",
    "                    hyperparameter_value=np.arange( 0.1, 1.0, 0.05),\n",
    "                    x=x_data,\n",
    "                    y=y_data,\n",
    "                    title=\"XGBoost\",\n",
    "                    cv=5)"
   ]
  },
  {
   "cell_type": "code",
   "execution_count": null,
   "metadata": {},
   "outputs": [],
   "source": [
    "xgboost1=xgb.XGBClassifier(random_state=8, \n",
    "                verbosity=1,\n",
    "                use_label_encoder=False,\n",
    "                objective ='binary:logistic',\n",
    "                eval_metric='auc',\n",
    "                min_child_weight=200,\n",
    "                colsample_bytree=0.77,\n",
    "                subsample=0.3)\n",
    "evm.eval_model(xgboost1,x_train,y_train,x_val,y_val)"
   ]
  },
  {
   "cell_type": "code",
   "execution_count": null,
   "metadata": {},
   "outputs": [],
   "source": [
    "evm.get_performance(xgboost1, x_test, y_test, \"Test\", True)"
   ]
  },
  {
   "cell_type": "code",
   "execution_count": null,
   "metadata": {},
   "outputs": [],
   "source": []
  }
 ],
 "metadata": {
  "kernelspec": {
   "display_name": "Python 3",
   "language": "python",
   "name": "python3"
  },
  "language_info": {
   "codemirror_mode": {
    "name": "ipython",
    "version": 3
   },
   "file_extension": ".py",
   "mimetype": "text/x-python",
   "name": "python",
   "nbconvert_exporter": "python",
   "pygments_lexer": "ipython3",
   "version": "3.7.6"
  }
 },
 "nbformat": 4,
 "nbformat_minor": 5
}
