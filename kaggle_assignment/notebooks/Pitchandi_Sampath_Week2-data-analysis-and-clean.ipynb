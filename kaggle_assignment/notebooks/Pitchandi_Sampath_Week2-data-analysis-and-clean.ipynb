{
 "cells": [
  {
   "cell_type": "markdown",
   "id": "stunning-teaching",
   "metadata": {},
   "source": [
    "##### Import Package"
   ]
  },
  {
   "cell_type": "code",
   "execution_count": 1,
   "id": "handed-technique",
   "metadata": {},
   "outputs": [],
   "source": [
    "import pandas as pd\n",
    "import numpy as np\n",
    "from data import explore_dataset as ed"
   ]
  },
  {
   "cell_type": "code",
   "execution_count": 2,
   "id": "apart-eleven",
   "metadata": {},
   "outputs": [
    {
     "name": "stdout",
     "output_type": "stream",
     "text": [
      "=== dataframe info ===\n",
      "<class 'pandas.core.frame.DataFrame'>\n",
      "RangeIndex: 8000 entries, 0 to 7999\n",
      "Data columns (total 22 columns):\n",
      " #   Column       Non-Null Count  Dtype  \n",
      "---  ------       --------------  -----  \n",
      " 0   Id_old       8000 non-null   int64  \n",
      " 1   Id           8000 non-null   int64  \n",
      " 2   GP           8000 non-null   int64  \n",
      " 3   MIN          8000 non-null   float64\n",
      " 4   PTS          8000 non-null   float64\n",
      " 5   FGM          8000 non-null   float64\n",
      " 6   FGA          8000 non-null   float64\n",
      " 7   FG%          8000 non-null   float64\n",
      " 8   3P Made      8000 non-null   float64\n",
      " 9   3PA          8000 non-null   float64\n",
      " 10  3P%          8000 non-null   float64\n",
      " 11  FTM          8000 non-null   float64\n",
      " 12  FTA          8000 non-null   float64\n",
      " 13  FT%          8000 non-null   float64\n",
      " 14  OREB         8000 non-null   float64\n",
      " 15  DREB         8000 non-null   float64\n",
      " 16  REB          8000 non-null   float64\n",
      " 17  AST          8000 non-null   float64\n",
      " 18  STL          8000 non-null   float64\n",
      " 19  BLK          8000 non-null   float64\n",
      " 20  TOV          8000 non-null   float64\n",
      " 21  TARGET_5Yrs  8000 non-null   int64  \n",
      "dtypes: float64(18), int64(4)\n",
      "memory usage: 1.3 MB\n",
      "None\n",
      "=== dataframe shape ===\n",
      "(8000, 22)\n",
      "=== Target Value Count ===\n",
      "1    6669\n",
      "0    1331\n",
      "Name: TARGET_5Yrs, dtype: int64\n",
      "=== dataframe describe ===\n",
      "             Id_old           Id           GP          MIN          PTS  \\\n",
      "count   8000.000000   8000.00000  8000.000000  8000.000000  8000.000000   \n",
      "mean    6856.971000   7798.50000    62.777875    18.576662     7.267088   \n",
      "std     3977.447579   2309.54541    17.118774     8.935263     4.318732   \n",
      "min        4.000000   3799.00000    -8.000000     2.900000     0.800000   \n",
      "25%     3413.750000   5798.75000    51.000000    12.000000     4.100000   \n",
      "50%     6787.500000   7798.50000    63.000000    16.800000     6.300000   \n",
      "75%    10299.250000   9798.25000    74.000000    23.500000     9.500000   \n",
      "max    13798.000000  11798.00000   123.000000    73.800000    34.200000   \n",
      "\n",
      "               FGM          FGA          FG%      3P Made          3PA  \\\n",
      "count  8000.000000  8000.000000  8000.000000  8000.000000  8000.000000   \n",
      "mean      2.807037     6.231212    44.608900     0.264525     0.816562   \n",
      "std       1.693373     3.584559     6.155453     0.384093     1.060964   \n",
      "min       0.300000     0.800000    21.300000    -1.100000    -3.100000   \n",
      "25%       1.600000     3.600000    40.400000     0.000000     0.100000   \n",
      "50%       2.400000     5.400000    44.400000     0.300000     0.800000   \n",
      "75%       3.700000     8.100000    48.700000     0.500000     1.500000   \n",
      "max      13.100000    28.900000    67.200000     1.700000     4.700000   \n",
      "\n",
      "               3P%          FTM          FTA          FT%         OREB  \\\n",
      "count  8000.000000  8000.000000  8000.000000  8000.000000  8000.000000   \n",
      "mean     19.583700     1.392525     1.947788    71.365825     1.077838   \n",
      "std      16.003155     0.926153     1.252352    10.430447     0.785670   \n",
      "min     -38.500000     0.000000     0.000000   -13.300000     0.000000   \n",
      "25%       8.400000     0.700000     1.000000    65.000000     0.500000   \n",
      "50%      19.500000     1.200000     1.700000    71.400000     0.900000   \n",
      "75%      30.600000     1.900000     2.600000    77.500000     1.500000   \n",
      "max      82.100000     8.100000    11.100000   168.900000     5.500000   \n",
      "\n",
      "              DREB          REB          AST          STL          BLK  \\\n",
      "count  8000.000000  8000.000000  8000.000000  8000.000000  8000.000000   \n",
      "mean      2.168500     3.245300     1.624513     0.648687     0.245212   \n",
      "std       1.392224     2.085154     1.355986     0.407626     0.821037   \n",
      "min       0.200000     0.300000     0.000000     0.000000   -17.900000   \n",
      "25%       1.100000     1.700000     0.700000     0.300000     0.100000   \n",
      "50%       1.900000     2.800000     1.300000     0.600000     0.200000   \n",
      "75%       2.900000     4.300000     2.200000     0.900000     0.400000   \n",
      "max      11.000000    15.900000    12.800000     3.600000    18.900000   \n",
      "\n",
      "               TOV  TARGET_5Yrs  \n",
      "count  8000.000000  8000.000000  \n",
      "mean      1.257763     0.833625  \n",
      "std       0.723270     0.372440  \n",
      "min       0.100000     0.000000  \n",
      "25%       0.700000     1.000000  \n",
      "50%       1.100000     1.000000  \n",
      "75%       1.600000     1.000000  \n",
      "max       5.300000     1.000000  \n"
     ]
    }
   ],
   "source": [
    "ed.explore('train.csv')"
   ]
  },
  {
   "cell_type": "code",
   "execution_count": null,
   "id": "worse-device",
   "metadata": {},
   "outputs": [],
   "source": []
  },
  {
   "cell_type": "code",
   "execution_count": null,
   "id": "elementary-sheriff",
   "metadata": {},
   "outputs": [],
   "source": []
  }
 ],
 "metadata": {
  "kernelspec": {
   "display_name": "Python 3",
   "language": "python",
   "name": "python3"
  },
  "language_info": {
   "codemirror_mode": {
    "name": "ipython",
    "version": 3
   },
   "file_extension": ".py",
   "mimetype": "text/x-python",
   "name": "python",
   "nbconvert_exporter": "python",
   "pygments_lexer": "ipython3",
   "version": "3.9.1"
  }
 },
 "nbformat": 4,
 "nbformat_minor": 5
}
