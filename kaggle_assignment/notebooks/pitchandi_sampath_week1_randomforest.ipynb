{
 "cells": [
  {
   "cell_type": "code",
   "execution_count": 1,
   "id": "animal-supervisor",
   "metadata": {},
   "outputs": [],
   "source": [
    "import pandas as pd\n",
    "import numpy as np\n",
    "from sklearn.model_selection import train_test_split\n",
    "from sklearn.ensemble import RandomForestClassifier\n",
    "from sklearn.metrics import plot_confusion_matrix\n",
    "import matplotlib.pyplot as plt\n",
    "from sklearn.metrics import accuracy_score\n",
    "from sklearn.metrics import f1_score\n",
    "from sklearn.model_selection import cross_val_score\n",
    "from joblib import dump"
   ]
  },
  {
   "cell_type": "code",
   "execution_count": 2,
   "id": "structured-knitting",
   "metadata": {},
   "outputs": [],
   "source": [
    "df=pd.read_csv('../data/raw/train.csv')"
   ]
  },
  {
   "cell_type": "code",
   "execution_count": 3,
   "id": "biological-caution",
   "metadata": {},
   "outputs": [
    {
     "name": "stdout",
     "output_type": "stream",
     "text": [
      "   Id_old    Id  GP   MIN   PTS  FGM  FGA   FG%  3P Made  3PA  ...  FTA   FT%  \\\n",
      "0   10556  3799  80  24.3   7.8  3.0  6.4  45.7      0.1  0.3  ...  2.9  72.1   \n",
      "1    5342  3800  75  21.8  10.5  4.2  7.9  55.1     -0.3 -1.0  ...  3.6  67.8   \n",
      "2    5716  3801  85  19.1   4.5  1.9  4.5  42.8      0.4  1.2  ...  0.6  75.7   \n",
      "3   13790  3802  63  19.1   8.2  3.5  6.7  52.5      0.3  0.8  ...  1.5  66.9   \n",
      "4    5470  3803  63  17.8   3.7  1.7  3.4  50.8      0.5  1.4  ...  0.5  54.0   \n",
      "\n",
      "   OREB  DREB  REB  AST  STL  BLK  TOV  TARGET_5Yrs  \n",
      "0   2.2   2.0  3.8  3.2  1.1  0.2  1.6            1  \n",
      "1   3.6   3.7  6.6  0.7  0.5  0.6  1.4            1  \n",
      "2   0.6   1.8  2.4  0.8  0.4  0.2  0.6            1  \n",
      "3   0.8   2.0  3.0  1.8  0.4  0.1  1.9            1  \n",
      "4   2.4   2.7  4.9  0.4  0.4  0.6  0.7            1  \n",
      "\n",
      "[5 rows x 22 columns]\n"
     ]
    }
   ],
   "source": [
    "print(df.head(5))"
   ]
  },
  {
   "cell_type": "code",
   "execution_count": 4,
   "id": "suitable-sweet",
   "metadata": {},
   "outputs": [
    {
     "data": {
      "text/plain": [
       "(8000, 22)"
      ]
     },
     "execution_count": 4,
     "metadata": {},
     "output_type": "execute_result"
    }
   ],
   "source": [
    "df.shape"
   ]
  },
  {
   "cell_type": "code",
   "execution_count": 5,
   "id": "played-woman",
   "metadata": {},
   "outputs": [
    {
     "name": "stdout",
     "output_type": "stream",
     "text": [
      "<class 'pandas.core.frame.DataFrame'>\n",
      "RangeIndex: 8000 entries, 0 to 7999\n",
      "Data columns (total 22 columns):\n",
      " #   Column       Non-Null Count  Dtype  \n",
      "---  ------       --------------  -----  \n",
      " 0   Id_old       8000 non-null   int64  \n",
      " 1   Id           8000 non-null   int64  \n",
      " 2   GP           8000 non-null   int64  \n",
      " 3   MIN          8000 non-null   float64\n",
      " 4   PTS          8000 non-null   float64\n",
      " 5   FGM          8000 non-null   float64\n",
      " 6   FGA          8000 non-null   float64\n",
      " 7   FG%          8000 non-null   float64\n",
      " 8   3P Made      8000 non-null   float64\n",
      " 9   3PA          8000 non-null   float64\n",
      " 10  3P%          8000 non-null   float64\n",
      " 11  FTM          8000 non-null   float64\n",
      " 12  FTA          8000 non-null   float64\n",
      " 13  FT%          8000 non-null   float64\n",
      " 14  OREB         8000 non-null   float64\n",
      " 15  DREB         8000 non-null   float64\n",
      " 16  REB          8000 non-null   float64\n",
      " 17  AST          8000 non-null   float64\n",
      " 18  STL          8000 non-null   float64\n",
      " 19  BLK          8000 non-null   float64\n",
      " 20  TOV          8000 non-null   float64\n",
      " 21  TARGET_5Yrs  8000 non-null   int64  \n",
      "dtypes: float64(18), int64(4)\n",
      "memory usage: 1.3 MB\n"
     ]
    }
   ],
   "source": [
    "df.info()"
   ]
  },
  {
   "cell_type": "code",
   "execution_count": 6,
   "id": "western-electronics",
   "metadata": {},
   "outputs": [
    {
     "data": {
      "text/html": [
       "<div>\n",
       "<style scoped>\n",
       "    .dataframe tbody tr th:only-of-type {\n",
       "        vertical-align: middle;\n",
       "    }\n",
       "\n",
       "    .dataframe tbody tr th {\n",
       "        vertical-align: top;\n",
       "    }\n",
       "\n",
       "    .dataframe thead th {\n",
       "        text-align: right;\n",
       "    }\n",
       "</style>\n",
       "<table border=\"1\" class=\"dataframe\">\n",
       "  <thead>\n",
       "    <tr style=\"text-align: right;\">\n",
       "      <th></th>\n",
       "      <th>Id_old</th>\n",
       "      <th>Id</th>\n",
       "      <th>GP</th>\n",
       "      <th>MIN</th>\n",
       "      <th>PTS</th>\n",
       "      <th>FGM</th>\n",
       "      <th>FGA</th>\n",
       "      <th>FG%</th>\n",
       "      <th>3P Made</th>\n",
       "      <th>3PA</th>\n",
       "      <th>...</th>\n",
       "      <th>FTA</th>\n",
       "      <th>FT%</th>\n",
       "      <th>OREB</th>\n",
       "      <th>DREB</th>\n",
       "      <th>REB</th>\n",
       "      <th>AST</th>\n",
       "      <th>STL</th>\n",
       "      <th>BLK</th>\n",
       "      <th>TOV</th>\n",
       "      <th>TARGET_5Yrs</th>\n",
       "    </tr>\n",
       "  </thead>\n",
       "  <tbody>\n",
       "    <tr>\n",
       "      <th>count</th>\n",
       "      <td>8000.000000</td>\n",
       "      <td>8000.00000</td>\n",
       "      <td>8000.000000</td>\n",
       "      <td>8000.000000</td>\n",
       "      <td>8000.000000</td>\n",
       "      <td>8000.000000</td>\n",
       "      <td>8000.000000</td>\n",
       "      <td>8000.000000</td>\n",
       "      <td>8000.000000</td>\n",
       "      <td>8000.000000</td>\n",
       "      <td>...</td>\n",
       "      <td>8000.000000</td>\n",
       "      <td>8000.000000</td>\n",
       "      <td>8000.000000</td>\n",
       "      <td>8000.000000</td>\n",
       "      <td>8000.000000</td>\n",
       "      <td>8000.000000</td>\n",
       "      <td>8000.000000</td>\n",
       "      <td>8000.000000</td>\n",
       "      <td>8000.000000</td>\n",
       "      <td>8000.000000</td>\n",
       "    </tr>\n",
       "    <tr>\n",
       "      <th>mean</th>\n",
       "      <td>6856.971000</td>\n",
       "      <td>7798.50000</td>\n",
       "      <td>62.777875</td>\n",
       "      <td>18.576662</td>\n",
       "      <td>7.267088</td>\n",
       "      <td>2.807037</td>\n",
       "      <td>6.231212</td>\n",
       "      <td>44.608900</td>\n",
       "      <td>0.264525</td>\n",
       "      <td>0.816562</td>\n",
       "      <td>...</td>\n",
       "      <td>1.947788</td>\n",
       "      <td>71.365825</td>\n",
       "      <td>1.077838</td>\n",
       "      <td>2.168500</td>\n",
       "      <td>3.245300</td>\n",
       "      <td>1.624513</td>\n",
       "      <td>0.648687</td>\n",
       "      <td>0.245212</td>\n",
       "      <td>1.257763</td>\n",
       "      <td>0.833625</td>\n",
       "    </tr>\n",
       "    <tr>\n",
       "      <th>std</th>\n",
       "      <td>3977.447579</td>\n",
       "      <td>2309.54541</td>\n",
       "      <td>17.118774</td>\n",
       "      <td>8.935263</td>\n",
       "      <td>4.318732</td>\n",
       "      <td>1.693373</td>\n",
       "      <td>3.584559</td>\n",
       "      <td>6.155453</td>\n",
       "      <td>0.384093</td>\n",
       "      <td>1.060964</td>\n",
       "      <td>...</td>\n",
       "      <td>1.252352</td>\n",
       "      <td>10.430447</td>\n",
       "      <td>0.785670</td>\n",
       "      <td>1.392224</td>\n",
       "      <td>2.085154</td>\n",
       "      <td>1.355986</td>\n",
       "      <td>0.407626</td>\n",
       "      <td>0.821037</td>\n",
       "      <td>0.723270</td>\n",
       "      <td>0.372440</td>\n",
       "    </tr>\n",
       "    <tr>\n",
       "      <th>min</th>\n",
       "      <td>4.000000</td>\n",
       "      <td>3799.00000</td>\n",
       "      <td>-8.000000</td>\n",
       "      <td>2.900000</td>\n",
       "      <td>0.800000</td>\n",
       "      <td>0.300000</td>\n",
       "      <td>0.800000</td>\n",
       "      <td>21.300000</td>\n",
       "      <td>-1.100000</td>\n",
       "      <td>-3.100000</td>\n",
       "      <td>...</td>\n",
       "      <td>0.000000</td>\n",
       "      <td>-13.300000</td>\n",
       "      <td>0.000000</td>\n",
       "      <td>0.200000</td>\n",
       "      <td>0.300000</td>\n",
       "      <td>0.000000</td>\n",
       "      <td>0.000000</td>\n",
       "      <td>-17.900000</td>\n",
       "      <td>0.100000</td>\n",
       "      <td>0.000000</td>\n",
       "    </tr>\n",
       "    <tr>\n",
       "      <th>25%</th>\n",
       "      <td>3413.750000</td>\n",
       "      <td>5798.75000</td>\n",
       "      <td>51.000000</td>\n",
       "      <td>12.000000</td>\n",
       "      <td>4.100000</td>\n",
       "      <td>1.600000</td>\n",
       "      <td>3.600000</td>\n",
       "      <td>40.400000</td>\n",
       "      <td>0.000000</td>\n",
       "      <td>0.100000</td>\n",
       "      <td>...</td>\n",
       "      <td>1.000000</td>\n",
       "      <td>65.000000</td>\n",
       "      <td>0.500000</td>\n",
       "      <td>1.100000</td>\n",
       "      <td>1.700000</td>\n",
       "      <td>0.700000</td>\n",
       "      <td>0.300000</td>\n",
       "      <td>0.100000</td>\n",
       "      <td>0.700000</td>\n",
       "      <td>1.000000</td>\n",
       "    </tr>\n",
       "    <tr>\n",
       "      <th>50%</th>\n",
       "      <td>6787.500000</td>\n",
       "      <td>7798.50000</td>\n",
       "      <td>63.000000</td>\n",
       "      <td>16.800000</td>\n",
       "      <td>6.300000</td>\n",
       "      <td>2.400000</td>\n",
       "      <td>5.400000</td>\n",
       "      <td>44.400000</td>\n",
       "      <td>0.300000</td>\n",
       "      <td>0.800000</td>\n",
       "      <td>...</td>\n",
       "      <td>1.700000</td>\n",
       "      <td>71.400000</td>\n",
       "      <td>0.900000</td>\n",
       "      <td>1.900000</td>\n",
       "      <td>2.800000</td>\n",
       "      <td>1.300000</td>\n",
       "      <td>0.600000</td>\n",
       "      <td>0.200000</td>\n",
       "      <td>1.100000</td>\n",
       "      <td>1.000000</td>\n",
       "    </tr>\n",
       "    <tr>\n",
       "      <th>75%</th>\n",
       "      <td>10299.250000</td>\n",
       "      <td>9798.25000</td>\n",
       "      <td>74.000000</td>\n",
       "      <td>23.500000</td>\n",
       "      <td>9.500000</td>\n",
       "      <td>3.700000</td>\n",
       "      <td>8.100000</td>\n",
       "      <td>48.700000</td>\n",
       "      <td>0.500000</td>\n",
       "      <td>1.500000</td>\n",
       "      <td>...</td>\n",
       "      <td>2.600000</td>\n",
       "      <td>77.500000</td>\n",
       "      <td>1.500000</td>\n",
       "      <td>2.900000</td>\n",
       "      <td>4.300000</td>\n",
       "      <td>2.200000</td>\n",
       "      <td>0.900000</td>\n",
       "      <td>0.400000</td>\n",
       "      <td>1.600000</td>\n",
       "      <td>1.000000</td>\n",
       "    </tr>\n",
       "    <tr>\n",
       "      <th>max</th>\n",
       "      <td>13798.000000</td>\n",
       "      <td>11798.00000</td>\n",
       "      <td>123.000000</td>\n",
       "      <td>73.800000</td>\n",
       "      <td>34.200000</td>\n",
       "      <td>13.100000</td>\n",
       "      <td>28.900000</td>\n",
       "      <td>67.200000</td>\n",
       "      <td>1.700000</td>\n",
       "      <td>4.700000</td>\n",
       "      <td>...</td>\n",
       "      <td>11.100000</td>\n",
       "      <td>168.900000</td>\n",
       "      <td>5.500000</td>\n",
       "      <td>11.000000</td>\n",
       "      <td>15.900000</td>\n",
       "      <td>12.800000</td>\n",
       "      <td>3.600000</td>\n",
       "      <td>18.900000</td>\n",
       "      <td>5.300000</td>\n",
       "      <td>1.000000</td>\n",
       "    </tr>\n",
       "  </tbody>\n",
       "</table>\n",
       "<p>8 rows × 22 columns</p>\n",
       "</div>"
      ],
      "text/plain": [
       "             Id_old           Id           GP          MIN          PTS  \\\n",
       "count   8000.000000   8000.00000  8000.000000  8000.000000  8000.000000   \n",
       "mean    6856.971000   7798.50000    62.777875    18.576662     7.267088   \n",
       "std     3977.447579   2309.54541    17.118774     8.935263     4.318732   \n",
       "min        4.000000   3799.00000    -8.000000     2.900000     0.800000   \n",
       "25%     3413.750000   5798.75000    51.000000    12.000000     4.100000   \n",
       "50%     6787.500000   7798.50000    63.000000    16.800000     6.300000   \n",
       "75%    10299.250000   9798.25000    74.000000    23.500000     9.500000   \n",
       "max    13798.000000  11798.00000   123.000000    73.800000    34.200000   \n",
       "\n",
       "               FGM          FGA          FG%      3P Made          3PA  ...  \\\n",
       "count  8000.000000  8000.000000  8000.000000  8000.000000  8000.000000  ...   \n",
       "mean      2.807037     6.231212    44.608900     0.264525     0.816562  ...   \n",
       "std       1.693373     3.584559     6.155453     0.384093     1.060964  ...   \n",
       "min       0.300000     0.800000    21.300000    -1.100000    -3.100000  ...   \n",
       "25%       1.600000     3.600000    40.400000     0.000000     0.100000  ...   \n",
       "50%       2.400000     5.400000    44.400000     0.300000     0.800000  ...   \n",
       "75%       3.700000     8.100000    48.700000     0.500000     1.500000  ...   \n",
       "max      13.100000    28.900000    67.200000     1.700000     4.700000  ...   \n",
       "\n",
       "               FTA          FT%         OREB         DREB          REB  \\\n",
       "count  8000.000000  8000.000000  8000.000000  8000.000000  8000.000000   \n",
       "mean      1.947788    71.365825     1.077838     2.168500     3.245300   \n",
       "std       1.252352    10.430447     0.785670     1.392224     2.085154   \n",
       "min       0.000000   -13.300000     0.000000     0.200000     0.300000   \n",
       "25%       1.000000    65.000000     0.500000     1.100000     1.700000   \n",
       "50%       1.700000    71.400000     0.900000     1.900000     2.800000   \n",
       "75%       2.600000    77.500000     1.500000     2.900000     4.300000   \n",
       "max      11.100000   168.900000     5.500000    11.000000    15.900000   \n",
       "\n",
       "               AST          STL          BLK          TOV  TARGET_5Yrs  \n",
       "count  8000.000000  8000.000000  8000.000000  8000.000000  8000.000000  \n",
       "mean      1.624513     0.648687     0.245212     1.257763     0.833625  \n",
       "std       1.355986     0.407626     0.821037     0.723270     0.372440  \n",
       "min       0.000000     0.000000   -17.900000     0.100000     0.000000  \n",
       "25%       0.700000     0.300000     0.100000     0.700000     1.000000  \n",
       "50%       1.300000     0.600000     0.200000     1.100000     1.000000  \n",
       "75%       2.200000     0.900000     0.400000     1.600000     1.000000  \n",
       "max      12.800000     3.600000    18.900000     5.300000     1.000000  \n",
       "\n",
       "[8 rows x 22 columns]"
      ]
     },
     "execution_count": 6,
     "metadata": {},
     "output_type": "execute_result"
    }
   ],
   "source": [
    "df.describe()"
   ]
  },
  {
   "cell_type": "code",
   "execution_count": 7,
   "id": "personalized-environment",
   "metadata": {},
   "outputs": [],
   "source": [
    "df_cleaned = df.drop(['Id_old','Id'],axis=1)"
   ]
  },
  {
   "cell_type": "code",
   "execution_count": 8,
   "id": "concrete-wichita",
   "metadata": {},
   "outputs": [],
   "source": [
    "x=df_cleaned.drop('TARGET_5Yrs',axis=1)\n",
    "y=df_cleaned['TARGET_5Yrs']"
   ]
  },
  {
   "cell_type": "code",
   "execution_count": 9,
   "id": "stone-communications",
   "metadata": {},
   "outputs": [
    {
     "data": {
      "text/plain": [
       "1    0.833625\n",
       "0    0.166375\n",
       "Name: TARGET_5Yrs, dtype: float64"
      ]
     },
     "execution_count": 9,
     "metadata": {},
     "output_type": "execute_result"
    }
   ],
   "source": [
    "y.value_counts(normalize=True)"
   ]
  },
  {
   "cell_type": "code",
   "execution_count": 10,
   "id": "olive-charter",
   "metadata": {},
   "outputs": [],
   "source": [
    "x_data , x_val ,y_data,  y_val = train_test_split(x, y, test_size=0.2, random_state = 8)\n",
    "x_train , x_test , y_train, y_test = train_test_split(x_data, y_data, test_size=0.2, random_state = 8)"
   ]
  },
  {
   "cell_type": "code",
   "execution_count": 11,
   "id": "answering-manufacturer",
   "metadata": {},
   "outputs": [],
   "source": [
    "np.save('../data/processed/X_train', x_train)\n",
    "np.save('../data/processed/X_val',   x_val)\n",
    "np.save('../data/processed/X_test',  x_test)\n",
    "np.save('../data/processed/y_train', y_train)\n",
    "np.save('../data/processed/y_val',   y_val)\n",
    "np.save('../data/processed/y_test',  y_test)"
   ]
  },
  {
   "cell_type": "code",
   "execution_count": 12,
   "id": "recognized-genealogy",
   "metadata": {},
   "outputs": [
    {
     "name": "stdout",
     "output_type": "stream",
     "text": [
      "(5120, 19) (5120,)\n",
      "(1280, 19) (1280,)\n",
      "(1600, 19) (1600,)\n"
     ]
    }
   ],
   "source": [
    "print(x_train.shape,y_train.shape)\n",
    "print(x_test.shape,y_test.shape)\n",
    "print(x_val.shape,y_val.shape)"
   ]
  },
  {
   "cell_type": "code",
   "execution_count": 13,
   "id": "ethical-drilling",
   "metadata": {},
   "outputs": [
    {
     "data": {
      "text/plain": [
       "1    0.837109\n",
       "0    0.162891\n",
       "Name: TARGET_5Yrs, dtype: float64"
      ]
     },
     "execution_count": 13,
     "metadata": {},
     "output_type": "execute_result"
    }
   ],
   "source": [
    "y_train.value_counts(normalize=True)"
   ]
  },
  {
   "cell_type": "code",
   "execution_count": 14,
   "id": "hearing-round",
   "metadata": {},
   "outputs": [
    {
     "data": {
      "text/plain": [
       "1    0.8125\n",
       "0    0.1875\n",
       "Name: TARGET_5Yrs, dtype: float64"
      ]
     },
     "execution_count": 14,
     "metadata": {},
     "output_type": "execute_result"
    }
   ],
   "source": [
    "y_test.value_counts(normalize=True)"
   ]
  },
  {
   "cell_type": "code",
   "execution_count": 15,
   "id": "diagnostic-friday",
   "metadata": {},
   "outputs": [
    {
     "data": {
      "text/plain": [
       "1    0.839375\n",
       "0    0.160625\n",
       "Name: TARGET_5Yrs, dtype: float64"
      ]
     },
     "execution_count": 15,
     "metadata": {},
     "output_type": "execute_result"
    }
   ],
   "source": [
    "y_val.value_counts(normalize=True)"
   ]
  },
  {
   "cell_type": "code",
   "execution_count": 16,
   "id": "serious-acrobat",
   "metadata": {},
   "outputs": [],
   "source": [
    "y_shape = (len(x_train),1)"
   ]
  },
  {
   "cell_type": "code",
   "execution_count": 17,
   "id": "monetary-lightning",
   "metadata": {},
   "outputs": [],
   "source": [
    "y_base = np.full(y_shape,y_train.mode())"
   ]
  },
  {
   "cell_type": "code",
   "execution_count": 18,
   "id": "suitable-tactics",
   "metadata": {},
   "outputs": [
    {
     "data": {
      "text/plain": [
       "(5120, 1)"
      ]
     },
     "execution_count": 18,
     "metadata": {},
     "output_type": "execute_result"
    }
   ],
   "source": [
    "y_base.shape"
   ]
  },
  {
   "cell_type": "code",
   "execution_count": 19,
   "id": "effective-audio",
   "metadata": {},
   "outputs": [
    {
     "data": {
      "text/plain": [
       "0.837109375"
      ]
     },
     "execution_count": 19,
     "metadata": {},
     "output_type": "execute_result"
    }
   ],
   "source": [
    "accuracy_score(y_train, y_base)"
   ]
  },
  {
   "cell_type": "code",
   "execution_count": 20,
   "id": "adult-passenger",
   "metadata": {},
   "outputs": [
    {
     "data": {
      "text/plain": [
       "0.9113331915798427"
      ]
     },
     "execution_count": 20,
     "metadata": {},
     "output_type": "execute_result"
    }
   ],
   "source": [
    "f1_score(y_train, y_base)"
   ]
  },
  {
   "cell_type": "code",
   "execution_count": 21,
   "id": "developed-barcelona",
   "metadata": {},
   "outputs": [],
   "source": [
    "rf2 = RandomForestClassifier(random_state=8)"
   ]
  },
  {
   "cell_type": "code",
   "execution_count": 22,
   "id": "powerful-fifteen",
   "metadata": {},
   "outputs": [
    {
     "data": {
      "text/plain": [
       "RandomForestClassifier(random_state=8)"
      ]
     },
     "execution_count": 22,
     "metadata": {},
     "output_type": "execute_result"
    }
   ],
   "source": [
    "rf2.fit(x_train,y_train)"
   ]
  },
  {
   "cell_type": "code",
   "execution_count": 23,
   "id": "declared-chamber",
   "metadata": {},
   "outputs": [
    {
     "name": "stdout",
     "output_type": "stream",
     "text": [
      "1.0\n",
      "0.81015625\n"
     ]
    }
   ],
   "source": [
    "print(rf2.score(x_train, y_train))\n",
    "print(rf2.score(x_test, y_test))"
   ]
  },
  {
   "cell_type": "code",
   "execution_count": 24,
   "id": "european-distributor",
   "metadata": {},
   "outputs": [
    {
     "data": {
      "text/plain": [
       "1.0"
      ]
     },
     "execution_count": 24,
     "metadata": {},
     "output_type": "execute_result"
    }
   ],
   "source": [
    "y_train_pred_rf2=rf2.predict(x_train)\n",
    "accuracy_score(y_train,y_train_pred_rf2)"
   ]
  },
  {
   "cell_type": "code",
   "execution_count": 25,
   "id": "connected-piano",
   "metadata": {},
   "outputs": [
    {
     "data": {
      "text/plain": [
       "RandomForestClassifier(random_state=8)"
      ]
     },
     "execution_count": 25,
     "metadata": {},
     "output_type": "execute_result"
    }
   ],
   "source": [
    "rf2.fit(x_test,y_test)"
   ]
  },
  {
   "cell_type": "code",
   "execution_count": 27,
   "id": "pretty-appendix",
   "metadata": {},
   "outputs": [
    {
     "data": {
      "text/plain": [
       "1.0"
      ]
     },
     "execution_count": 27,
     "metadata": {},
     "output_type": "execute_result"
    }
   ],
   "source": [
    "y_test_pred_rf2=rf2.predict(x_test)\n",
    "accuracy_score(y_test,y_test_pred_rf2)"
   ]
  },
  {
   "cell_type": "code",
   "execution_count": 28,
   "id": "valued-medline",
   "metadata": {},
   "outputs": [
    {
     "name": "stdout",
     "output_type": "stream",
     "text": [
      "0.8814453125\n",
      "0.8814453125\n"
     ]
    }
   ],
   "source": [
    "rf3 = RandomForestClassifier(random_state=8, max_depth=10 )\n",
    "rf3.fit(x_train,y_train)\n",
    "\n",
    "\n",
    "print(rf3.score(x_train, y_train))\n",
    "y_train_pred_rf3=rf3.predict(x_train)\n",
    "print(accuracy_score(y_train,y_train_pred_rf3))"
   ]
  },
  {
   "cell_type": "code",
   "execution_count": 31,
   "id": "thousand-credit",
   "metadata": {},
   "outputs": [
    {
     "name": "stdout",
     "output_type": "stream",
     "text": [
      "0.9234375\n",
      "0.9234375\n"
     ]
    }
   ],
   "source": [
    "rf3.fit(x_test,y_test)\n",
    "print(rf3.score(x_test, y_test))\n",
    "y_test_pred_rf3=rf3.predict(x_test)\n",
    "print(accuracy_score(y_test,y_test_pred_rf3))"
   ]
  },
  {
   "cell_type": "code",
   "execution_count": 32,
   "id": "surrounded-parade",
   "metadata": {},
   "outputs": [],
   "source": [
    "def eval_model(mod, xvar, yvar,runtype):\n",
    "  mod.fit(xvar,yvar)\n",
    "  mod_pred=mod.predict(xvar)\n",
    "  print('Accuracy Score',accuracy_score(yvar,mod_pred),'F1 Score',f1_score(yvar,mod_pred), 'R2 Score',mod.score(xvar, yvar),'(',runtype,')')\n",
    "  disp = plot_confusion_matrix(mod, xvar, yvar, cmap=plt.cm.Blues, normalize='true')\n",
    "  disp.ax_.set_title('Confusion matrix '+runtype)\n",
    "  return"
   ]
  },
  {
   "cell_type": "code",
   "execution_count": 33,
   "id": "exclusive-property",
   "metadata": {},
   "outputs": [
    {
     "name": "stdout",
     "output_type": "stream",
     "text": [
      "Accuracy Score 0.8814453125 F1 Score 0.9338707920252751 R2 Score 0.8814453125 ( train )\n",
      "Accuracy Score 0.9234375 F1 Score 0.9550045913682277 R2 Score 0.9234375 ( test )\n"
     ]
    },
    {
     "data": {
      "image/png": "[encoded data removed]",
      "text/plain": [
       "<Figure size 432x288 with 2 Axes>"
      ]
     },
     "metadata": {
      "needs_background": "light"
     },
     "output_type": "display_data"
    },
    {
     "data": {
      "image/png": "[encoded data removed]",
      "text/plain": [
       "<Figure size 432x288 with 2 Axes>"
      ]
     },
     "metadata": {
      "needs_background": "light"
     },
     "output_type": "display_data"
    }
   ],
   "source": [
    "eval_model(rf3,x_train,y_train,\"train\")\n",
    "eval_model(rf3,x_test,y_test,\"test\")"
   ]
  },
  {
   "cell_type": "code",
   "execution_count": 34,
   "id": "painted-poster",
   "metadata": {},
   "outputs": [
    {
     "name": "stdout",
     "output_type": "stream",
     "text": [
      "Accuracy Score 0.99921875 F1 Score 0.9995335820895522 R2 Score 0.99921875 ( train )\n",
      "Accuracy Score 1.0 F1 Score 1.0 R2 Score 1.0 ( test )\n"
     ]
    },
    {
     "data": {
      "image/png": "[encoded data removed]",
      "text/plain": [
       "<Figure size 432x288 with 2 Axes>"
      ]
     },
     "metadata": {
      "needs_background": "light"
     },
     "output_type": "display_data"
    },
    {
     "data": {
      "image/png": "[encoded data removed]",
      "text/plain": [
       "<Figure size 432x288 with 2 Axes>"
      ]
     },
     "metadata": {
      "needs_background": "light"
     },
     "output_type": "display_data"
    }
   ],
   "source": [
    "rf4 = RandomForestClassifier(random_state=8, max_depth=20 )\n",
    "eval_model(rf4,x_train,y_train,\"train\")\n",
    "eval_model(rf4,x_test,y_test,\"test\")"
   ]
  },
  {
   "cell_type": "code",
   "execution_count": 35,
   "id": "correct-finish",
   "metadata": {},
   "outputs": [
    {
     "name": "stdout",
     "output_type": "stream",
     "text": [
      "Accuracy Score 0.965234375 F1 Score 0.9796571428571429 R2 Score 0.965234375 ( train )\n",
      "Accuracy Score 0.9953125 F1 Score 0.9971236816874401 R2 Score 0.9953125 ( test )\n"
     ]
    },
    {
     "data": {
      "image/png": "[encoded data removed]",
      "text/plain": [
       "<Figure size 432x288 with 2 Axes>"
      ]
     },
     "metadata": {
      "needs_background": "light"
     },
     "output_type": "display_data"
    },
    {
     "data": {
      "image/png": "[encoded data removed]",
      "text/plain": [
       "<Figure size 432x288 with 2 Axes>"
      ]
     },
     "metadata": {
      "needs_background": "light"
     },
     "output_type": "display_data"
    }
   ],
   "source": [
    "rf5 = RandomForestClassifier(random_state=8, max_depth=15 )\n",
    "eval_model(rf5,x_train,y_train,\"train\")\n",
    "eval_model(rf5,x_test,y_test,\"test\")"
   ]
  },
  {
   "cell_type": "code",
   "execution_count": 36,
   "id": "employed-belfast",
   "metadata": {},
   "outputs": [
    {
     "name": "stdout",
     "output_type": "stream",
     "text": [
      "Accuracy Score 0.9419921875 F1 Score 0.9665125718795805 R2 Score 0.9419921875 ( train )\n",
      "Accuracy Score 0.9765625 F1 Score 0.985781990521327 R2 Score 0.9765625 ( test )\n"
     ]
    },
    {
     "data": {
      "image/png": "[encoded data removed]",
      "text/plain": [
       "<Figure size 432x288 with 2 Axes>"
      ]
     },
     "metadata": {
      "needs_background": "light"
     },
     "output_type": "display_data"
    },
    {
     "data": {
      "image/png": "[encoded data removed]",
      "text/plain": [
       "<Figure size 432x288 with 2 Axes>"
      ]
     },
     "metadata": {
      "needs_background": "light"
     },
     "output_type": "display_data"
    }
   ],
   "source": [
    "rf6 = RandomForestClassifier(random_state=8, max_depth=15, min_samples_split=5 )\n",
    "eval_model(rf6,x_train,y_train,\"train\")\n",
    "eval_model(rf6,x_test,y_test,\"test\")"
   ]
  },
  {
   "cell_type": "code",
   "execution_count": 37,
   "id": "imperial-carbon",
   "metadata": {},
   "outputs": [
    {
     "name": "stdout",
     "output_type": "stream",
     "text": [
      "Accuracy Score 0.88828125 F1 Score 0.9374316342157076 R2 Score 0.88828125 ( train )\n",
      "Accuracy Score 0.89609375 F1 Score 0.9399005874378672 R2 Score 0.89609375 ( test )\n"
     ]
    },
    {
     "data": {
      "image/png": "[encoded data removed]",
      "text/plain": [
       "<Figure size 432x288 with 2 Axes>"
      ]
     },
     "metadata": {
      "needs_background": "light"
     },
     "output_type": "display_data"
    },
    {
     "data": {
      "image/png": "[encoded data removed]",
      "text/plain": [
       "<Figure size 432x288 with 2 Axes>"
      ]
     },
     "metadata": {
      "needs_background": "light"
     },
     "output_type": "display_data"
    }
   ],
   "source": [
    "rf7 = RandomForestClassifier(random_state=8, max_depth=15, min_samples_split=15 )\n",
    "eval_model(rf7,x_train,y_train,\"train\")\n",
    "eval_model(rf7,x_test,y_test,\"test\")"
   ]
  },
  {
   "cell_type": "code",
   "execution_count": 38,
   "id": "voluntary-oracle",
   "metadata": {},
   "outputs": [
    {
     "name": "stdout",
     "output_type": "stream",
     "text": [
      "Accuracy Score 0.906640625 F1 Score 0.9471706454465074 R2 Score 0.906640625 ( train )\n",
      "Accuracy Score 0.9171875 F1 Score 0.9515096065873742 R2 Score 0.9171875 ( test )\n"
     ]
    },
    {
     "data": {
      "image/png": "[encoded data removed]",
      "text/plain": [
       "<Figure size 432x288 with 2 Axes>"
      ]
     },
     "metadata": {
      "needs_background": "light"
     },
     "output_type": "display_data"
    },
    {
     "data": {
      "image/png": "[encoded data removed]",
      "text/plain": [
       "<Figure size 432x288 with 2 Axes>"
      ]
     },
     "metadata": {
      "needs_background": "light"
     },
     "output_type": "display_data"
    }
   ],
   "source": [
    "rf8 = RandomForestClassifier(random_state=8, max_depth=15, min_samples_split=10 )\n",
    "eval_model(rf8,x_train,y_train,\"train\")\n",
    "eval_model(rf8,x_test,y_test,\"test\")"
   ]
  },
  {
   "cell_type": "code",
   "execution_count": 39,
   "id": "changing-purchase",
   "metadata": {},
   "outputs": [
    {
     "name": "stdout",
     "output_type": "stream",
     "text": [
      "Accuracy Score 0.875 F1 Score 0.9304952215464812 R2 Score 0.875 ( train )\n",
      "Accuracy Score 0.87109375 F1 Score 0.9265033407572383 R2 Score 0.87109375 ( test )\n"
     ]
    },
    {
     "data": {
      "image/png": "[encoded data removed]",
      "text/plain": [
       "<Figure size 432x288 with 2 Axes>"
      ]
     },
     "metadata": {
      "needs_background": "light"
     },
     "output_type": "display_data"
    },
    {
     "data": {
      "image/png": "[encoded data removed]",
      "text/plain": [
       "<Figure size 432x288 with 2 Axes>"
      ]
     },
     "metadata": {
      "needs_background": "light"
     },
     "output_type": "display_data"
    }
   ],
   "source": [
    "rf9 = RandomForestClassifier(random_state=8, max_depth=15, min_samples_split=5,min_samples_leaf=5 )\n",
    "eval_model(rf9,x_train,y_train,\"train\")\n",
    "eval_model(rf9, x_test,y_test,\"test\")"
   ]
  },
  {
   "cell_type": "code",
   "execution_count": 40,
   "id": "rising-tampa",
   "metadata": {},
   "outputs": [
    {
     "name": "stdout",
     "output_type": "stream",
     "text": [
      "Accuracy Score 0.93359375 F1 Score 0.9618491921005387 R2 Score 0.93359375 ( train )\n",
      "Accuracy Score 0.9625 F1 Score 0.9774436090225563 R2 Score 0.9625 ( test )\n"
     ]
    },
    {
     "data": {
      "image/png": "[encoded data removed]",
      "text/plain": [
       "<Figure size 432x288 with 2 Axes>"
      ]
     },
     "metadata": {
      "needs_background": "light"
     },
     "output_type": "display_data"
    },
    {
     "data": {
      "image/png": "[encoded data removed]",
      "text/plain": [
       "<Figure size 432x288 with 2 Axes>"
      ]
     },
     "metadata": {
      "needs_background": "light"
     },
     "output_type": "display_data"
    }
   ],
   "source": [
    "rf10 = RandomForestClassifier(random_state=8, max_depth=15, min_samples_split=5,min_samples_leaf=2 )\n",
    "eval_model(rf10,x_train,y_train,\"train\")\n",
    "eval_model(rf10, x_test,y_test,\"test\")"
   ]
  },
  {
   "cell_type": "code",
   "execution_count": 41,
   "id": "detected-upgrade",
   "metadata": {},
   "outputs": [
    {
     "name": "stdout",
     "output_type": "stream",
     "text": [
      "Accuracy Score 0.9130859375 F1 Score 0.9506487745369857 R2 Score 0.9130859375 ( train )\n",
      "Accuracy Score 0.921875 F1 Score 0.9541284403669724 R2 Score 0.921875 ( test )\n"
     ]
    },
    {
     "data": {
      "image/png": "[encoded data removed]",
      "text/plain": [
       "<Figure size 432x288 with 2 Axes>"
      ]
     },
     "metadata": {
      "needs_background": "light"
     },
     "output_type": "display_data"
    },
    {
     "data": {
      "image/png": "[encoded data removed]",
      "text/plain": [
       "<Figure size 432x288 with 2 Axes>"
      ]
     },
     "metadata": {
      "needs_background": "light"
     },
     "output_type": "display_data"
    }
   ],
   "source": [
    "rf11 = RandomForestClassifier(random_state=8, max_depth=15, min_samples_split=5,min_samples_leaf=3)\n",
    "eval_model(rf11,x_train,y_train,\"train\")\n",
    "eval_model(rf11, x_test,y_test,\"test\")"
   ]
  },
  {
   "cell_type": "code",
   "execution_count": 42,
   "id": "collectible-purchase",
   "metadata": {},
   "outputs": [
    {
     "name": "stdout",
     "output_type": "stream",
     "text": [
      "Accuracy Score 0.9421875 F1 Score 0.9666215606675688 R2 Score 0.9421875 ( train )\n",
      "Accuracy Score 0.96875 F1 Score 0.9811320754716981 R2 Score 0.96875 ( test )\n"
     ]
    },
    {
     "data": {
      "image/png": "[encoded data removed]",
      "text/plain": [
       "<Figure size 432x288 with 2 Axes>"
      ]
     },
     "metadata": {
      "needs_background": "light"
     },
     "output_type": "display_data"
    },
    {
     "data": {
      "image/png": "[encoded data removed]",
      "text/plain": [
       "<Figure size 432x288 with 2 Axes>"
      ]
     },
     "metadata": {
      "needs_background": "light"
     },
     "output_type": "display_data"
    }
   ],
   "source": [
    "rf12 = RandomForestClassifier(random_state=8, max_depth=15, min_samples_leaf=2)\n",
    "eval_model(rf12,x_train,y_train,\"train\")\n",
    "eval_model(rf12, x_test,y_test,\"test\")"
   ]
  },
  {
   "cell_type": "code",
   "execution_count": 43,
   "id": "indoor-ensemble",
   "metadata": {},
   "outputs": [
    {
     "name": "stdout",
     "output_type": "stream",
     "text": [
      "Accuracy Score 0.971484375 F1 Score 0.9832530396880018 R2 Score 0.971484375 ( train )\n",
      "Accuracy Score 0.98671875 F1 Score 0.9918931807343825 R2 Score 0.98671875 ( test )\n"
     ]
    },
    {
     "data": {
      "image/png": "[encoded data removed]",
      "text/plain": [
       "<Figure size 432x288 with 2 Axes>"
      ]
     },
     "metadata": {
      "needs_background": "light"
     },
     "output_type": "display_data"
    },
    {
     "data": {
      "image/png": "[encoded data removed]",
      "text/plain": [
       "<Figure size 432x288 with 2 Axes>"
      ]
     },
     "metadata": {
      "needs_background": "light"
     },
     "output_type": "display_data"
    }
   ],
   "source": [
    "rf13 = RandomForestClassifier(random_state=8, max_depth=20, min_samples_leaf=2)\n",
    "eval_model(rf13,x_train,y_train,\"train\")\n",
    "eval_model(rf13, x_test,y_test,\"test\")"
   ]
  },
  {
   "cell_type": "code",
   "execution_count": 44,
   "id": "settled-glenn",
   "metadata": {},
   "outputs": [
    {
     "name": "stdout",
     "output_type": "stream",
     "text": [
      "Accuracy Score 0.97578125 F1 Score 0.985740570377185 R2 Score 0.97578125 ( train )\n",
      "Accuracy Score 0.984375 F1 Score 0.9904761904761905 R2 Score 0.984375 ( test )\n"
     ]
    },
    {
     "data": {
      "image/png": "[encoded data removed]",
      "text/plain": [
       "<Figure size 432x288 with 2 Axes>"
      ]
     },
     "metadata": {
      "needs_background": "light"
     },
     "output_type": "display_data"
    },
    {
     "data": {
      "image/png": "[encoded data removed]",
      "text/plain": [
       "<Figure size 432x288 with 2 Axes>"
      ]
     },
     "metadata": {
      "needs_background": "light"
     },
     "output_type": "display_data"
    }
   ],
   "source": [
    "rf14 = RandomForestClassifier(random_state=8, max_depth=20, min_samples_leaf=2, n_estimators=500)\n",
    "eval_model(rf14,x_train,y_train,\"train\")\n",
    "eval_model(rf14, x_test,y_test,\"test\")"
   ]
  },
  {
   "cell_type": "code",
   "execution_count": 45,
   "id": "provincial-discipline",
   "metadata": {},
   "outputs": [
    {
     "name": "stdout",
     "output_type": "stream",
     "text": [
      "Accuracy Score 0.985546875 F1 Score 0.9914411288457089 R2 Score 0.985546875 ( train )\n",
      "Accuracy Score 0.98984375 F1 Score 0.9937888198757764 R2 Score 0.98984375 ( test )\n"
     ]
    },
    {
     "data": {
      "image/png": "[encoded data removed]",
      "text/plain": [
       "<Figure size 432x288 with 2 Axes>"
      ]
     },
     "metadata": {
      "needs_background": "light"
     },
     "output_type": "display_data"
    },
    {
     "data": {
      "image/png": "[encoded data removed]",
      "text/plain": [
       "<Figure size 432x288 with 2 Axes>"
      ]
     },
     "metadata": {
      "needs_background": "light"
     },
     "output_type": "display_data"
    }
   ],
   "source": [
    "rf15 = RandomForestClassifier(random_state=8, max_depth=20, min_samples_leaf=2,n_estimators=500, max_features=10)\n",
    "eval_model(rf15,x_train,y_train,\"train\")\n",
    "eval_model(rf15, x_test,y_test,\"test\")"
   ]
  },
  {
   "cell_type": "code",
   "execution_count": 46,
   "id": "differential-literacy",
   "metadata": {},
   "outputs": [
    {
     "name": "stdout",
     "output_type": "stream",
     "text": [
      "Accuracy Score 0.9794921875 F1 Score 0.9878990434481965 R2 Score 0.9794921875 ( train )\n",
      "Accuracy Score 0.98359375 F1 Score 0.9900047596382676 R2 Score 0.98359375 ( test )\n"
     ]
    },
    {
     "data": {
      "image/png": "[encoded data removed]",
      "text/plain": [
       "<Figure size 432x288 with 2 Axes>"
      ]
     },
     "metadata": {
      "needs_background": "light"
     },
     "output_type": "display_data"
    },
    {
     "data": {
      "image/png": "[encoded data removed]",
      "text/plain": [
       "<Figure size 432x288 with 2 Axes>"
      ]
     },
     "metadata": {
      "needs_background": "light"
     },
     "output_type": "display_data"
    }
   ],
   "source": [
    "rf16 = RandomForestClassifier(random_state=8, max_depth=20, min_samples_leaf=2,n_estimators=500, max_features=5)\n",
    "eval_model(rf16,x_train,y_train,\"train\")\n",
    "eval_model(rf16, x_test,y_test,\"test\")"
   ]
  },
  {
   "cell_type": "code",
   "execution_count": 47,
   "id": "fossil-evidence",
   "metadata": {},
   "outputs": [
    {
     "name": "stdout",
     "output_type": "stream",
     "text": [
      "Accuracy Score 0.9876953125 F1 Score 0.9927041111754488 R2 Score 0.9876953125 ( train )\n",
      "Accuracy Score 0.99140625 F1 Score 0.9947393591582974 R2 Score 0.99140625 ( test )\n"
     ]
    },
    {
     "data": {
      "image/png": "[encoded data removed]",
      "text/plain": [
       "<Figure size 432x288 with 2 Axes>"
      ]
     },
     "metadata": {
      "needs_background": "light"
     },
     "output_type": "display_data"
    },
    {
     "data": {
      "image/png": "[encoded data removed]",
      "text/plain": [
       "<Figure size 432x288 with 2 Axes>"
      ]
     },
     "metadata": {
      "needs_background": "light"
     },
     "output_type": "display_data"
    }
   ],
   "source": [
    "rf17 = RandomForestClassifier(random_state=8, max_depth=20, min_samples_leaf=2,n_estimators=500, max_features=15)\n",
    "eval_model(rf17,x_train,y_train,\"train\")\n",
    "eval_model(rf17, x_test,y_test,\"test\")"
   ]
  },
  {
   "cell_type": "code",
   "execution_count": 49,
   "id": "turned-trance",
   "metadata": {},
   "outputs": [],
   "source": [
    "rf18 = RandomForestClassifier(random_state=8, max_depth=20, min_samples_leaf=2,n_estimators=500, max_features=15)\n",
    "scores = cross_val_score(rf18, x, y,cv=10, scoring='f1')"
   ]
  },
  {
   "cell_type": "code",
   "execution_count": 53,
   "id": "forced-attachment",
   "metadata": {},
   "outputs": [
    {
     "name": "stdout",
     "output_type": "stream",
     "text": [
      "Scores [0.90796703 0.90959282 0.91121817 0.90571232 0.91059147 0.90696072\n",
      " 0.90734386 0.90152566 0.91071429 0.90821256]\n",
      "Mean Score 0.9079838894945393\n",
      "Standard Deviation Score 0.002751029872792797\n"
     ]
    }
   ],
   "source": [
    "print('Scores',scores)\n",
    "print('Mean Score',scores.mean())\n",
    "print('Standard Deviation Score',scores.std())"
   ]
  },
  {
   "cell_type": "code",
   "execution_count": 56,
   "id": "injured-commerce",
   "metadata": {},
   "outputs": [],
   "source": [
    "rf18.fit(x,y)\n",
    "cv_rf18=rf18.predict(x)"
   ]
  },
  {
   "cell_type": "code",
   "execution_count": 57,
   "id": "ranking-pasta",
   "metadata": {},
   "outputs": [
    {
     "name": "stdout",
     "output_type": "stream",
     "text": [
      "Accuracy Score 0.983375 F1 Score 0.9901269393511989 R2 Score 0.983375 (Cross Val Score Train)\n"
     ]
    }
   ],
   "source": [
    "print('Accuracy Score',accuracy_score(y,cv_rf18),'F1 Score',f1_score(y,cv_rf18), 'R2 Score',rf18.score(x, y),'(Cross Val Score Train)')"
   ]
  },
  {
   "cell_type": "code",
   "execution_count": 58,
   "id": "decent-officer",
   "metadata": {},
   "outputs": [
    {
     "data": {
      "text/plain": [
       "Text(0.5, 1.0, 'Confusion matrix Cross Val Score Training')"
      ]
     },
     "execution_count": 58,
     "metadata": {},
     "output_type": "execute_result"
    },
    {
     "data": {
      "image/png": "[encoded data removed]",
      "text/plain": [
       "<Figure size 432x288 with 2 Axes>"
      ]
     },
     "metadata": {
      "needs_background": "light"
     },
     "output_type": "display_data"
    }
   ],
   "source": [
    "disp = plot_confusion_matrix(rf18, x, y, cmap=plt.cm.Blues, normalize='true')\n",
    "disp.ax_.set_title('Confusion matrix Cross Val Score Training')"
   ]
  },
  {
   "cell_type": "code",
   "execution_count": 67,
   "id": "described-medline",
   "metadata": {},
   "outputs": [],
   "source": [
    "from sklearn.model_selection import GridSearchCV"
   ]
  },
  {
   "cell_type": "code",
   "execution_count": 155,
   "id": "cooked-study",
   "metadata": {},
   "outputs": [],
   "source": [
    "hyperparam_grid = {\n",
    "    'max_depth': np.arange(10,50,10),\n",
    "    'min_samples_leaf': np.arange(2,20,2),\n",
    "    'n_estimators': np.array([500,550]),\n",
    "    'max_features': np.arange(2,18,3)\n",
    "}\n",
    "\n",
    "# hyperparam_grid = {\n",
    "#     'max_depth': np.arange(10,20,10),\n",
    "#     'min_samples_leaf': np.arange(2,4,1),\n",
    "#     'n_estimators': np.array([500]),\n",
    "#     'max_features': np.arange(10,16,4)\n",
    "# }"
   ]
  },
  {
   "cell_type": "code",
   "execution_count": 156,
   "id": "expired-hunger",
   "metadata": {},
   "outputs": [
    {
     "data": {
      "text/plain": [
       "{'max_depth': array([10, 20, 30, 40]),\n",
       " 'min_samples_leaf': array([ 2,  4,  6,  8, 10, 12, 14, 16, 18]),\n",
       " 'n_estimators': array([500, 550]),\n",
       " 'max_features': array([ 2,  5,  8, 11, 14, 17])}"
      ]
     },
     "execution_count": 156,
     "metadata": {},
     "output_type": "execute_result"
    }
   ],
   "source": [
    "hyperparam_grid"
   ]
  },
  {
   "cell_type": "code",
   "execution_count": 157,
   "id": "proof-shopper",
   "metadata": {},
   "outputs": [],
   "source": [
    "rf19 = RandomForestClassifier(random_state=8)"
   ]
  },
  {
   "cell_type": "code",
   "execution_count": 158,
   "id": "monetary-teach",
   "metadata": {},
   "outputs": [],
   "source": [
    "grid_search_rf = GridSearchCV(rf19, hyperparam_grid, cv=2, scoring='f1', verbose=1)"
   ]
  },
  {
   "cell_type": "code",
   "execution_count": 159,
   "id": "expanded-carpet",
   "metadata": {},
   "outputs": [
    {
     "name": "stdout",
     "output_type": "stream",
     "text": [
      "Fitting 2 folds for each of 432 candidates, totalling 864 fits\n"
     ]
    },
    {
     "data": {
      "text/plain": [
       "GridSearchCV(cv=2, estimator=RandomForestClassifier(random_state=8),\n",
       "             param_grid={'max_depth': array([10, 20, 30, 40]),\n",
       "                         'max_features': array([ 2,  5,  8, 11, 14, 17]),\n",
       "                         'min_samples_leaf': array([ 2,  4,  6,  8, 10, 12, 14, 16, 18]),\n",
       "                         'n_estimators': array([500, 550])},\n",
       "             scoring='f1', verbose=1)"
      ]
     },
     "execution_count": 159,
     "metadata": {},
     "output_type": "execute_result"
    }
   ],
   "source": [
    "grid_search_rf.fit(x_data, y_data)"
   ]
  },
  {
   "cell_type": "code",
   "execution_count": 160,
   "id": "atmospheric-lecture",
   "metadata": {},
   "outputs": [
    {
     "data": {
      "text/plain": [
       "{'max_depth': 10,\n",
       " 'max_features': 2,\n",
       " 'min_samples_leaf': 4,\n",
       " 'n_estimators': 550}"
      ]
     },
     "execution_count": 160,
     "metadata": {},
     "output_type": "execute_result"
    }
   ],
   "source": [
    "grid_search_rf.best_params_"
   ]
  },
  {
   "cell_type": "code",
   "execution_count": 161,
   "id": "convinced-session",
   "metadata": {},
   "outputs": [
    {
     "name": "stdout",
     "output_type": "stream",
     "text": [
      "Accuracy Score 0.84734375 F1 Score 0.9159714457727702 R2 Score 0.9159714457727702 (Grid Search Train)\n"
     ]
    }
   ],
   "source": [
    "gs_rf19=grid_search_rf.predict(x_data)\n",
    "print('Accuracy Score',accuracy_score(y_data,gs_rf19),'F1 Score',f1_score(y_data,gs_rf19), 'R2 Score',grid_search_rf.score(x_data, y_data),'(Grid Search Train)')"
   ]
  },
  {
   "cell_type": "code",
   "execution_count": 162,
   "id": "unavailable-condition",
   "metadata": {},
   "outputs": [
    {
     "data": {
      "text/plain": [
       "Text(0.5, 1.0, 'Confusion matrix Grid Search Train')"
      ]
     },
     "execution_count": 162,
     "metadata": {},
     "output_type": "execute_result"
    },
    {
     "data": {
      "image/png": "[encoded data removed]",
      "text/plain": [
       "<Figure size 432x288 with 2 Axes>"
      ]
     },
     "metadata": {
      "needs_background": "light"
     },
     "output_type": "display_data"
    }
   ],
   "source": [
    "disp = plot_confusion_matrix(grid_search_rf, x_data, y_data, cmap=plt.cm.Blues, normalize='true')\n",
    "disp.ax_.set_title('Confusion matrix Grid Search Train')"
   ]
  },
  {
   "cell_type": "code",
   "execution_count": 164,
   "id": "liked-difficulty",
   "metadata": {},
   "outputs": [
    {
     "name": "stdout",
     "output_type": "stream",
     "text": [
      "Fitting 2 folds for each of 432 candidates, totalling 864 fits\n",
      "Accuracy Score 0.9946875 F1 Score 0.9968182668912596 R2 Score 0.9936567164179104 (Grid Search Train)\n"
     ]
    },
    {
     "data": {
      "text/plain": [
       "Text(0.5, 1.0, 'Confusion matrix Grid Search Train')"
      ]
     },
     "execution_count": 164,
     "metadata": {},
     "output_type": "execute_result"
    },
    {
     "data": {
      "image/png": "[encoded data removed]",
      "text/plain": [
       "<Figure size 432x288 with 2 Axes>"
      ]
     },
     "metadata": {
      "needs_background": "light"
     },
     "output_type": "display_data"
    }
   ],
   "source": [
    "rf20 = RandomForestClassifier(random_state=8)\n",
    "grid_search_rf1 = GridSearchCV(rf20, hyperparam_grid, cv=2, scoring='precision', verbose=1)\n",
    "grid_search_rf1.fit(x_data, y_data)\n",
    "gs_rf20=grid_search_rf1.predict(x_data)\n",
    "print('Accuracy Score',accuracy_score(y_data,gs_rf20),'F1 Score',f1_score(y_data,gs_rf20), 'R2 Score',grid_search_rf1.score(x_data, y_data),'(Grid Search Train)')\n",
    "disp = plot_confusion_matrix(grid_search_rf1, x_data, y_data, cmap=plt.cm.Blues, normalize='true')\n",
    "disp.ax_.set_title('Confusion matrix Grid Search Train')"
   ]
  },
  {
   "cell_type": "code",
   "execution_count": 165,
   "id": "amino-badge",
   "metadata": {},
   "outputs": [
    {
     "data": {
      "text/plain": [
       "{'max_depth': 10,\n",
       " 'max_features': 2,\n",
       " 'min_samples_leaf': 4,\n",
       " 'n_estimators': 550}"
      ]
     },
     "execution_count": 165,
     "metadata": {},
     "output_type": "execute_result"
    }
   ],
   "source": [
    "grid_search_rf.best_params_"
   ]
  },
  {
   "cell_type": "code",
   "execution_count": 166,
   "id": "bearing-notification",
   "metadata": {},
   "outputs": [
    {
     "name": "stdout",
     "output_type": "stream",
     "text": [
      "Fitting 2 folds for each of 432 candidates, totalling 864 fits\n",
      "Accuracy Score 0.99296875 F1 Score 0.9956917185256103 R2 Score 0.9914204003813155 (Grid Search Test)\n"
     ]
    },
    {
     "data": {
      "text/plain": [
       "Text(0.5, 1.0, 'Confusion matrix Grid Search Train')"
      ]
     },
     "execution_count": 166,
     "metadata": {},
     "output_type": "execute_result"
    },
    {
     "data": {
      "image/png": "[encoded data removed]",
      "text/plain": [
       "<Figure size 432x288 with 2 Axes>"
      ]
     },
     "metadata": {
      "needs_background": "light"
     },
     "output_type": "display_data"
    }
   ],
   "source": [
    "grid_search_rf1.fit(x_test, y_test)\n",
    "gs_test_rf20=grid_search_rf1.predict(x_test)\n",
    "print('Accuracy Score',accuracy_score(y_test,gs_test_rf20),'F1 Score',f1_score(y_test,gs_test_rf20), 'R2 Score',grid_search_rf1.score(x_test, y_test),'(Grid Search Test)')\n",
    "disp = plot_confusion_matrix(grid_search_rf1, x_test, y_test, cmap=plt.cm.Blues, normalize='true')\n",
    "disp.ax_.set_title('Confusion matrix Grid Search Test')"
   ]
  },
  {
   "cell_type": "code",
   "execution_count": 168,
   "id": "responsible-underwear",
   "metadata": {},
   "outputs": [
    {
     "name": "stdout",
     "output_type": "stream",
     "text": [
      "Fitting 2 folds for each of 432 candidates, totalling 864 fits\n",
      "Accuracy Score 0.985 F1 Score 0.9911439114391144 R2 Score 0.9824433065106072 (Grid Search Test)\n"
     ]
    },
    {
     "data": {
      "text/plain": [
       "Text(0.5, 1.0, 'Confusion matrix Grid Search Train')"
      ]
     },
     "execution_count": 168,
     "metadata": {},
     "output_type": "execute_result"
    },
    {
     "data": {
      "image/png": "[encoded data removed]",
      "text/plain": [
       "<Figure size 432x288 with 2 Axes>"
      ]
     },
     "metadata": {
      "needs_background": "light"
     },
     "output_type": "display_data"
    }
   ],
   "source": [
    "grid_search_rf1.fit(x_val, y_val)\n",
    "gs_val_rf20=grid_search_rf1.predict(x_val)\n",
    "print('Accuracy Score',accuracy_score(y_val,gs_val_rf20),'F1 Score',f1_score(y_val,gs_val_rf20), 'R2 Score',grid_search_rf1.score(x_val, y_val),'(Grid Search Test)')\n",
    "disp = plot_confusion_matrix(grid_search_rf1, x_val, y_val, cmap=plt.cm.Blues, normalize='true')\n",
    "disp.ax_.set_title('Confusion matrix Grid Search Val')"
   ]
  },
  {
   "cell_type": "code",
   "execution_count": 169,
   "id": "impaired-strike",
   "metadata": {},
   "outputs": [
    {
     "data": {
      "text/plain": [
       "{'max_depth': 10,\n",
       " 'max_features': 2,\n",
       " 'min_samples_leaf': 4,\n",
       " 'n_estimators': 550}"
      ]
     },
     "execution_count": 169,
     "metadata": {},
     "output_type": "execute_result"
    }
   ],
   "source": [
    "grid_search_rf.best_params_"
   ]
  },
  {
   "cell_type": "code",
   "execution_count": null,
   "id": "compliant-prerequisite",
   "metadata": {},
   "outputs": [],
   "source": []
  },
  {
   "cell_type": "code",
   "execution_count": null,
   "id": "difficult-appeal",
   "metadata": {},
   "outputs": [],
   "source": []
  },
  {
   "cell_type": "markdown",
   "id": "varied-developer",
   "metadata": {},
   "source": [
    "# Capture Results on Test Data"
   ]
  },
  {
   "cell_type": "code",
   "execution_count": 172,
   "id": "adopted-article",
   "metadata": {},
   "outputs": [],
   "source": [
    "df_test=pd.read_csv('../data/raw/test.csv')"
   ]
  },
  {
   "cell_type": "code",
   "execution_count": 173,
   "id": "becoming-service",
   "metadata": {},
   "outputs": [
    {
     "data": {
      "text/html": [
       "<div>\n",
       "<style scoped>\n",
       "    .dataframe tbody tr th:only-of-type {\n",
       "        vertical-align: middle;\n",
       "    }\n",
       "\n",
       "    .dataframe tbody tr th {\n",
       "        vertical-align: top;\n",
       "    }\n",
       "\n",
       "    .dataframe thead th {\n",
       "        text-align: right;\n",
       "    }\n",
       "</style>\n",
       "<table border=\"1\" class=\"dataframe\">\n",
       "  <thead>\n",
       "    <tr style=\"text-align: right;\">\n",
       "      <th></th>\n",
       "      <th>Id_old</th>\n",
       "      <th>Id</th>\n",
       "      <th>GP</th>\n",
       "      <th>MIN</th>\n",
       "      <th>PTS</th>\n",
       "      <th>FGM</th>\n",
       "      <th>FGA</th>\n",
       "      <th>FG%</th>\n",
       "      <th>3P Made</th>\n",
       "      <th>3PA</th>\n",
       "      <th>...</th>\n",
       "      <th>FTM</th>\n",
       "      <th>FTA</th>\n",
       "      <th>FT%</th>\n",
       "      <th>OREB</th>\n",
       "      <th>DREB</th>\n",
       "      <th>REB</th>\n",
       "      <th>AST</th>\n",
       "      <th>STL</th>\n",
       "      <th>BLK</th>\n",
       "      <th>TOV</th>\n",
       "    </tr>\n",
       "  </thead>\n",
       "  <tbody>\n",
       "    <tr>\n",
       "      <th>0</th>\n",
       "      <td>1</td>\n",
       "      <td>0</td>\n",
       "      <td>56</td>\n",
       "      <td>9.1</td>\n",
       "      <td>4.0</td>\n",
       "      <td>1.6</td>\n",
       "      <td>3.7</td>\n",
       "      <td>43.7</td>\n",
       "      <td>0.1</td>\n",
       "      <td>0.3</td>\n",
       "      <td>...</td>\n",
       "      <td>0.7</td>\n",
       "      <td>1.2</td>\n",
       "      <td>63.4</td>\n",
       "      <td>1.2</td>\n",
       "      <td>0.8</td>\n",
       "      <td>1.7</td>\n",
       "      <td>0.4</td>\n",
       "      <td>0.2</td>\n",
       "      <td>0.3</td>\n",
       "      <td>0.8</td>\n",
       "    </tr>\n",
       "    <tr>\n",
       "      <th>1</th>\n",
       "      <td>8194</td>\n",
       "      <td>1</td>\n",
       "      <td>43</td>\n",
       "      <td>19.3</td>\n",
       "      <td>10.1</td>\n",
       "      <td>3.7</td>\n",
       "      <td>8.1</td>\n",
       "      <td>46.0</td>\n",
       "      <td>0.6</td>\n",
       "      <td>1.7</td>\n",
       "      <td>...</td>\n",
       "      <td>1.8</td>\n",
       "      <td>2.5</td>\n",
       "      <td>75.3</td>\n",
       "      <td>0.5</td>\n",
       "      <td>0.9</td>\n",
       "      <td>1.5</td>\n",
       "      <td>3.5</td>\n",
       "      <td>0.6</td>\n",
       "      <td>0.0</td>\n",
       "      <td>1.8</td>\n",
       "    </tr>\n",
       "    <tr>\n",
       "      <th>2</th>\n",
       "      <td>3</td>\n",
       "      <td>2</td>\n",
       "      <td>82</td>\n",
       "      <td>33.9</td>\n",
       "      <td>11.3</td>\n",
       "      <td>4.9</td>\n",
       "      <td>10.6</td>\n",
       "      <td>45.6</td>\n",
       "      <td>0.5</td>\n",
       "      <td>1.9</td>\n",
       "      <td>...</td>\n",
       "      <td>1.8</td>\n",
       "      <td>2.7</td>\n",
       "      <td>71.2</td>\n",
       "      <td>1.3</td>\n",
       "      <td>3.3</td>\n",
       "      <td>4.5</td>\n",
       "      <td>2.5</td>\n",
       "      <td>1.3</td>\n",
       "      <td>0.3</td>\n",
       "      <td>2.0</td>\n",
       "    </tr>\n",
       "    <tr>\n",
       "      <th>3</th>\n",
       "      <td>8196</td>\n",
       "      <td>3</td>\n",
       "      <td>86</td>\n",
       "      <td>44.7</td>\n",
       "      <td>18.8</td>\n",
       "      <td>6.8</td>\n",
       "      <td>15.9</td>\n",
       "      <td>42.9</td>\n",
       "      <td>0.5</td>\n",
       "      <td>1.8</td>\n",
       "      <td>...</td>\n",
       "      <td>4.5</td>\n",
       "      <td>6.3</td>\n",
       "      <td>70.9</td>\n",
       "      <td>1.5</td>\n",
       "      <td>3.2</td>\n",
       "      <td>5.0</td>\n",
       "      <td>4.1</td>\n",
       "      <td>0.9</td>\n",
       "      <td>0.1</td>\n",
       "      <td>3.6</td>\n",
       "    </tr>\n",
       "    <tr>\n",
       "      <th>4</th>\n",
       "      <td>8197</td>\n",
       "      <td>4</td>\n",
       "      <td>58</td>\n",
       "      <td>12.3</td>\n",
       "      <td>4.7</td>\n",
       "      <td>1.6</td>\n",
       "      <td>4.0</td>\n",
       "      <td>40.0</td>\n",
       "      <td>0.5</td>\n",
       "      <td>1.7</td>\n",
       "      <td>...</td>\n",
       "      <td>1.1</td>\n",
       "      <td>1.3</td>\n",
       "      <td>76.9</td>\n",
       "      <td>0.2</td>\n",
       "      <td>0.6</td>\n",
       "      <td>0.9</td>\n",
       "      <td>1.5</td>\n",
       "      <td>0.5</td>\n",
       "      <td>-0.4</td>\n",
       "      <td>0.9</td>\n",
       "    </tr>\n",
       "  </tbody>\n",
       "</table>\n",
       "<p>5 rows × 21 columns</p>\n",
       "</div>"
      ],
      "text/plain": [
       "   Id_old  Id  GP   MIN   PTS  FGM   FGA   FG%  3P Made  3PA  ...  FTM  FTA  \\\n",
       "0       1   0  56   9.1   4.0  1.6   3.7  43.7      0.1  0.3  ...  0.7  1.2   \n",
       "1    8194   1  43  19.3  10.1  3.7   8.1  46.0      0.6  1.7  ...  1.8  2.5   \n",
       "2       3   2  82  33.9  11.3  4.9  10.6  45.6      0.5  1.9  ...  1.8  2.7   \n",
       "3    8196   3  86  44.7  18.8  6.8  15.9  42.9      0.5  1.8  ...  4.5  6.3   \n",
       "4    8197   4  58  12.3   4.7  1.6   4.0  40.0      0.5  1.7  ...  1.1  1.3   \n",
       "\n",
       "    FT%  OREB  DREB  REB  AST  STL  BLK  TOV  \n",
       "0  63.4   1.2   0.8  1.7  0.4  0.2  0.3  0.8  \n",
       "1  75.3   0.5   0.9  1.5  3.5  0.6  0.0  1.8  \n",
       "2  71.2   1.3   3.3  4.5  2.5  1.3  0.3  2.0  \n",
       "3  70.9   1.5   3.2  5.0  4.1  0.9  0.1  3.6  \n",
       "4  76.9   0.2   0.6  0.9  1.5  0.5 -0.4  0.9  \n",
       "\n",
       "[5 rows x 21 columns]"
      ]
     },
     "execution_count": 173,
     "metadata": {},
     "output_type": "execute_result"
    }
   ],
   "source": [
    "df_test.head(5)"
   ]
  },
  {
   "cell_type": "code",
   "execution_count": 174,
   "id": "starting-apparatus",
   "metadata": {},
   "outputs": [
    {
     "data": {
      "text/plain": [
       "(3799, 21)"
      ]
     },
     "execution_count": 174,
     "metadata": {},
     "output_type": "execute_result"
    }
   ],
   "source": [
    "df_test.shape"
   ]
  },
  {
   "cell_type": "code",
   "execution_count": 175,
   "id": "killing-flower",
   "metadata": {},
   "outputs": [
    {
     "name": "stdout",
     "output_type": "stream",
     "text": [
      "<class 'pandas.core.frame.DataFrame'>\n",
      "RangeIndex: 3799 entries, 0 to 3798\n",
      "Data columns (total 21 columns):\n",
      " #   Column   Non-Null Count  Dtype  \n",
      "---  ------   --------------  -----  \n",
      " 0   Id_old   3799 non-null   int64  \n",
      " 1   Id       3799 non-null   int64  \n",
      " 2   GP       3799 non-null   int64  \n",
      " 3   MIN      3799 non-null   float64\n",
      " 4   PTS      3799 non-null   float64\n",
      " 5   FGM      3799 non-null   float64\n",
      " 6   FGA      3799 non-null   float64\n",
      " 7   FG%      3799 non-null   float64\n",
      " 8   3P Made  3799 non-null   float64\n",
      " 9   3PA      3799 non-null   float64\n",
      " 10  3P%      3799 non-null   float64\n",
      " 11  FTM      3799 non-null   float64\n",
      " 12  FTA      3799 non-null   float64\n",
      " 13  FT%      3799 non-null   float64\n",
      " 14  OREB     3799 non-null   float64\n",
      " 15  DREB     3799 non-null   float64\n",
      " 16  REB      3799 non-null   float64\n",
      " 17  AST      3799 non-null   float64\n",
      " 18  STL      3799 non-null   float64\n",
      " 19  BLK      3799 non-null   float64\n",
      " 20  TOV      3799 non-null   float64\n",
      "dtypes: float64(18), int64(3)\n",
      "memory usage: 623.4 KB\n"
     ]
    }
   ],
   "source": [
    "df_test.info()"
   ]
  },
  {
   "cell_type": "code",
   "execution_count": 176,
   "id": "innovative-japan",
   "metadata": {},
   "outputs": [
    {
     "data": {
      "text/html": [
       "<div>\n",
       "<style scoped>\n",
       "    .dataframe tbody tr th:only-of-type {\n",
       "        vertical-align: middle;\n",
       "    }\n",
       "\n",
       "    .dataframe tbody tr th {\n",
       "        vertical-align: top;\n",
       "    }\n",
       "\n",
       "    .dataframe thead th {\n",
       "        text-align: right;\n",
       "    }\n",
       "</style>\n",
       "<table border=\"1\" class=\"dataframe\">\n",
       "  <thead>\n",
       "    <tr style=\"text-align: right;\">\n",
       "      <th></th>\n",
       "      <th>Id_old</th>\n",
       "      <th>Id</th>\n",
       "      <th>GP</th>\n",
       "      <th>MIN</th>\n",
       "      <th>PTS</th>\n",
       "      <th>FGM</th>\n",
       "      <th>FGA</th>\n",
       "      <th>FG%</th>\n",
       "      <th>3P Made</th>\n",
       "      <th>3PA</th>\n",
       "      <th>...</th>\n",
       "      <th>FTM</th>\n",
       "      <th>FTA</th>\n",
       "      <th>FT%</th>\n",
       "      <th>OREB</th>\n",
       "      <th>DREB</th>\n",
       "      <th>REB</th>\n",
       "      <th>AST</th>\n",
       "      <th>STL</th>\n",
       "      <th>BLK</th>\n",
       "      <th>TOV</th>\n",
       "    </tr>\n",
       "  </thead>\n",
       "  <tbody>\n",
       "    <tr>\n",
       "      <th>count</th>\n",
       "      <td>3799.000000</td>\n",
       "      <td>3799.000000</td>\n",
       "      <td>3799.000000</td>\n",
       "      <td>3799.000000</td>\n",
       "      <td>3799.000000</td>\n",
       "      <td>3799.000000</td>\n",
       "      <td>3799.000000</td>\n",
       "      <td>3799.000000</td>\n",
       "      <td>3799.000000</td>\n",
       "      <td>3799.000000</td>\n",
       "      <td>...</td>\n",
       "      <td>3799.000000</td>\n",
       "      <td>3799.000000</td>\n",
       "      <td>3799.000000</td>\n",
       "      <td>3799.000000</td>\n",
       "      <td>3799.000000</td>\n",
       "      <td>3799.000000</td>\n",
       "      <td>3799.000000</td>\n",
       "      <td>3799.000000</td>\n",
       "      <td>3799.000000</td>\n",
       "      <td>3799.000000</td>\n",
       "    </tr>\n",
       "    <tr>\n",
       "      <th>mean</th>\n",
       "      <td>7010.614109</td>\n",
       "      <td>1899.000000</td>\n",
       "      <td>62.853909</td>\n",
       "      <td>18.650224</td>\n",
       "      <td>7.328034</td>\n",
       "      <td>2.835404</td>\n",
       "      <td>6.302580</td>\n",
       "      <td>44.599079</td>\n",
       "      <td>0.255962</td>\n",
       "      <td>0.796920</td>\n",
       "      <td>...</td>\n",
       "      <td>1.399842</td>\n",
       "      <td>1.953567</td>\n",
       "      <td>71.612924</td>\n",
       "      <td>1.096025</td>\n",
       "      <td>2.179495</td>\n",
       "      <td>3.275783</td>\n",
       "      <td>1.636483</td>\n",
       "      <td>0.653593</td>\n",
       "      <td>0.257726</td>\n",
       "      <td>1.257910</td>\n",
       "    </tr>\n",
       "    <tr>\n",
       "      <th>std</th>\n",
       "      <td>3954.173641</td>\n",
       "      <td>1096.821164</td>\n",
       "      <td>17.151740</td>\n",
       "      <td>8.727259</td>\n",
       "      <td>4.294724</td>\n",
       "      <td>1.688427</td>\n",
       "      <td>3.579221</td>\n",
       "      <td>6.040168</td>\n",
       "      <td>0.380987</td>\n",
       "      <td>1.052862</td>\n",
       "      <td>...</td>\n",
       "      <td>0.926140</td>\n",
       "      <td>1.250376</td>\n",
       "      <td>10.457336</td>\n",
       "      <td>0.785678</td>\n",
       "      <td>1.371935</td>\n",
       "      <td>2.070646</td>\n",
       "      <td>1.335496</td>\n",
       "      <td>0.410573</td>\n",
       "      <td>0.639660</td>\n",
       "      <td>0.712449</td>\n",
       "    </tr>\n",
       "    <tr>\n",
       "      <th>min</th>\n",
       "      <td>1.000000</td>\n",
       "      <td>0.000000</td>\n",
       "      <td>6.000000</td>\n",
       "      <td>3.700000</td>\n",
       "      <td>0.700000</td>\n",
       "      <td>0.300000</td>\n",
       "      <td>0.800000</td>\n",
       "      <td>25.100000</td>\n",
       "      <td>-1.000000</td>\n",
       "      <td>-2.700000</td>\n",
       "      <td>...</td>\n",
       "      <td>0.000000</td>\n",
       "      <td>0.000000</td>\n",
       "      <td>23.700000</td>\n",
       "      <td>0.000000</td>\n",
       "      <td>0.200000</td>\n",
       "      <td>0.300000</td>\n",
       "      <td>0.000000</td>\n",
       "      <td>0.000000</td>\n",
       "      <td>-7.100000</td>\n",
       "      <td>0.100000</td>\n",
       "    </tr>\n",
       "    <tr>\n",
       "      <th>25%</th>\n",
       "      <td>3644.000000</td>\n",
       "      <td>949.500000</td>\n",
       "      <td>51.000000</td>\n",
       "      <td>12.200000</td>\n",
       "      <td>4.200000</td>\n",
       "      <td>1.600000</td>\n",
       "      <td>3.700000</td>\n",
       "      <td>40.500000</td>\n",
       "      <td>0.000000</td>\n",
       "      <td>0.100000</td>\n",
       "      <td>...</td>\n",
       "      <td>0.700000</td>\n",
       "      <td>1.000000</td>\n",
       "      <td>65.000000</td>\n",
       "      <td>0.500000</td>\n",
       "      <td>1.200000</td>\n",
       "      <td>1.800000</td>\n",
       "      <td>0.600000</td>\n",
       "      <td>0.400000</td>\n",
       "      <td>0.100000</td>\n",
       "      <td>0.700000</td>\n",
       "    </tr>\n",
       "    <tr>\n",
       "      <th>50%</th>\n",
       "      <td>7062.000000</td>\n",
       "      <td>1899.000000</td>\n",
       "      <td>63.000000</td>\n",
       "      <td>17.000000</td>\n",
       "      <td>6.400000</td>\n",
       "      <td>2.500000</td>\n",
       "      <td>5.500000</td>\n",
       "      <td>44.600000</td>\n",
       "      <td>0.300000</td>\n",
       "      <td>0.800000</td>\n",
       "      <td>...</td>\n",
       "      <td>1.200000</td>\n",
       "      <td>1.700000</td>\n",
       "      <td>71.500000</td>\n",
       "      <td>0.900000</td>\n",
       "      <td>1.900000</td>\n",
       "      <td>2.800000</td>\n",
       "      <td>1.300000</td>\n",
       "      <td>0.600000</td>\n",
       "      <td>0.200000</td>\n",
       "      <td>1.100000</td>\n",
       "    </tr>\n",
       "    <tr>\n",
       "      <th>75%</th>\n",
       "      <td>10402.500000</td>\n",
       "      <td>2848.500000</td>\n",
       "      <td>74.000000</td>\n",
       "      <td>23.300000</td>\n",
       "      <td>9.400000</td>\n",
       "      <td>3.700000</td>\n",
       "      <td>8.100000</td>\n",
       "      <td>48.500000</td>\n",
       "      <td>0.500000</td>\n",
       "      <td>1.500000</td>\n",
       "      <td>...</td>\n",
       "      <td>1.900000</td>\n",
       "      <td>2.600000</td>\n",
       "      <td>78.000000</td>\n",
       "      <td>1.500000</td>\n",
       "      <td>2.900000</td>\n",
       "      <td>4.300000</td>\n",
       "      <td>2.300000</td>\n",
       "      <td>0.900000</td>\n",
       "      <td>0.400000</td>\n",
       "      <td>1.600000</td>\n",
       "    </tr>\n",
       "    <tr>\n",
       "      <th>max</th>\n",
       "      <td>13792.000000</td>\n",
       "      <td>3798.000000</td>\n",
       "      <td>126.000000</td>\n",
       "      <td>68.000000</td>\n",
       "      <td>33.000000</td>\n",
       "      <td>13.400000</td>\n",
       "      <td>26.200000</td>\n",
       "      <td>74.600000</td>\n",
       "      <td>1.600000</td>\n",
       "      <td>4.300000</td>\n",
       "      <td>...</td>\n",
       "      <td>7.800000</td>\n",
       "      <td>9.800000</td>\n",
       "      <td>127.100000</td>\n",
       "      <td>6.900000</td>\n",
       "      <td>12.000000</td>\n",
       "      <td>18.500000</td>\n",
       "      <td>9.000000</td>\n",
       "      <td>2.700000</td>\n",
       "      <td>14.800000</td>\n",
       "      <td>5.200000</td>\n",
       "    </tr>\n",
       "  </tbody>\n",
       "</table>\n",
       "<p>8 rows × 21 columns</p>\n",
       "</div>"
      ],
      "text/plain": [
       "             Id_old           Id           GP          MIN          PTS  \\\n",
       "count   3799.000000  3799.000000  3799.000000  3799.000000  3799.000000   \n",
       "mean    7010.614109  1899.000000    62.853909    18.650224     7.328034   \n",
       "std     3954.173641  1096.821164    17.151740     8.727259     4.294724   \n",
       "min        1.000000     0.000000     6.000000     3.700000     0.700000   \n",
       "25%     3644.000000   949.500000    51.000000    12.200000     4.200000   \n",
       "50%     7062.000000  1899.000000    63.000000    17.000000     6.400000   \n",
       "75%    10402.500000  2848.500000    74.000000    23.300000     9.400000   \n",
       "max    13792.000000  3798.000000   126.000000    68.000000    33.000000   \n",
       "\n",
       "               FGM          FGA          FG%      3P Made          3PA  ...  \\\n",
       "count  3799.000000  3799.000000  3799.000000  3799.000000  3799.000000  ...   \n",
       "mean      2.835404     6.302580    44.599079     0.255962     0.796920  ...   \n",
       "std       1.688427     3.579221     6.040168     0.380987     1.052862  ...   \n",
       "min       0.300000     0.800000    25.100000    -1.000000    -2.700000  ...   \n",
       "25%       1.600000     3.700000    40.500000     0.000000     0.100000  ...   \n",
       "50%       2.500000     5.500000    44.600000     0.300000     0.800000  ...   \n",
       "75%       3.700000     8.100000    48.500000     0.500000     1.500000  ...   \n",
       "max      13.400000    26.200000    74.600000     1.600000     4.300000  ...   \n",
       "\n",
       "               FTM          FTA          FT%         OREB         DREB  \\\n",
       "count  3799.000000  3799.000000  3799.000000  3799.000000  3799.000000   \n",
       "mean      1.399842     1.953567    71.612924     1.096025     2.179495   \n",
       "std       0.926140     1.250376    10.457336     0.785678     1.371935   \n",
       "min       0.000000     0.000000    23.700000     0.000000     0.200000   \n",
       "25%       0.700000     1.000000    65.000000     0.500000     1.200000   \n",
       "50%       1.200000     1.700000    71.500000     0.900000     1.900000   \n",
       "75%       1.900000     2.600000    78.000000     1.500000     2.900000   \n",
       "max       7.800000     9.800000   127.100000     6.900000    12.000000   \n",
       "\n",
       "               REB          AST          STL          BLK          TOV  \n",
       "count  3799.000000  3799.000000  3799.000000  3799.000000  3799.000000  \n",
       "mean      3.275783     1.636483     0.653593     0.257726     1.257910  \n",
       "std       2.070646     1.335496     0.410573     0.639660     0.712449  \n",
       "min       0.300000     0.000000     0.000000    -7.100000     0.100000  \n",
       "25%       1.800000     0.600000     0.400000     0.100000     0.700000  \n",
       "50%       2.800000     1.300000     0.600000     0.200000     1.100000  \n",
       "75%       4.300000     2.300000     0.900000     0.400000     1.600000  \n",
       "max      18.500000     9.000000     2.700000    14.800000     5.200000  \n",
       "\n",
       "[8 rows x 21 columns]"
      ]
     },
     "execution_count": 176,
     "metadata": {},
     "output_type": "execute_result"
    }
   ],
   "source": [
    "df_test.describe()"
   ]
  },
  {
   "cell_type": "code",
   "execution_count": 180,
   "id": "stuffed-heather",
   "metadata": {},
   "outputs": [],
   "source": [
    "df_actual_test_cleaned = df_test.drop(['Id_old', 'Id'], axis=1)"
   ]
  },
  {
   "cell_type": "code",
   "execution_count": 181,
   "id": "coupled-administrator",
   "metadata": {},
   "outputs": [
    {
     "data": {
      "text/plain": [
       "(3799, 19)"
      ]
     },
     "execution_count": 181,
     "metadata": {},
     "output_type": "execute_result"
    }
   ],
   "source": [
    "df_actual_test_cleaned.shape"
   ]
  },
  {
   "cell_type": "code",
   "execution_count": 143,
   "id": "forty-number",
   "metadata": {},
   "outputs": [],
   "source": [
    "y_actual_test_pred=rf15.predict(df_actual_test_cleaned)"
   ]
  },
  {
   "cell_type": "code",
   "execution_count": 147,
   "id": "statewide-drinking",
   "metadata": {},
   "outputs": [
    {
     "data": {
      "text/plain": [
       "array([1, 1, 1, ..., 1, 1, 1], dtype=int64)"
      ]
     },
     "execution_count": 147,
     "metadata": {},
     "output_type": "execute_result"
    }
   ],
   "source": [
    "y_actual_test_pred"
   ]
  },
  {
   "cell_type": "code",
   "execution_count": 151,
   "id": "multiple-adjustment",
   "metadata": {},
   "outputs": [
    {
     "data": {
      "text/plain": [
       "(array([0, 1], dtype=int64), array([  60, 3739], dtype=int64))"
      ]
     },
     "execution_count": 151,
     "metadata": {},
     "output_type": "execute_result"
    }
   ],
   "source": [
    "np.unique(y_actual_test_pred,return_counts=True)"
   ]
  },
  {
   "cell_type": "code",
   "execution_count": 166,
   "id": "olive-browser",
   "metadata": {},
   "outputs": [],
   "source": [
    "df_test['TARGET_5Yrs'] = y_actual_test_pred"
   ]
  },
  {
   "cell_type": "code",
   "execution_count": 153,
   "id": "numeric-perry",
   "metadata": {},
   "outputs": [
    {
     "data": {
      "text/html": [
       "<div>\n",
       "<style scoped>\n",
       "    .dataframe tbody tr th:only-of-type {\n",
       "        vertical-align: middle;\n",
       "    }\n",
       "\n",
       "    .dataframe tbody tr th {\n",
       "        vertical-align: top;\n",
       "    }\n",
       "\n",
       "    .dataframe thead th {\n",
       "        text-align: right;\n",
       "    }\n",
       "</style>\n",
       "<table border=\"1\" class=\"dataframe\">\n",
       "  <thead>\n",
       "    <tr style=\"text-align: right;\">\n",
       "      <th></th>\n",
       "      <th>GP</th>\n",
       "      <th>MIN</th>\n",
       "      <th>PTS</th>\n",
       "      <th>FGM</th>\n",
       "      <th>FGA</th>\n",
       "      <th>FG%</th>\n",
       "      <th>3P Made</th>\n",
       "      <th>3PA</th>\n",
       "      <th>3P%</th>\n",
       "      <th>FTM</th>\n",
       "      <th>FTA</th>\n",
       "      <th>FT%</th>\n",
       "      <th>OREB</th>\n",
       "      <th>DREB</th>\n",
       "      <th>REB</th>\n",
       "      <th>AST</th>\n",
       "      <th>STL</th>\n",
       "      <th>BLK</th>\n",
       "      <th>TOV</th>\n",
       "      <th>TARGET_5Yrs</th>\n",
       "    </tr>\n",
       "  </thead>\n",
       "  <tbody>\n",
       "    <tr>\n",
       "      <th>0</th>\n",
       "      <td>56</td>\n",
       "      <td>9.1</td>\n",
       "      <td>4.0</td>\n",
       "      <td>1.6</td>\n",
       "      <td>3.7</td>\n",
       "      <td>43.7</td>\n",
       "      <td>0.1</td>\n",
       "      <td>0.3</td>\n",
       "      <td>7.3</td>\n",
       "      <td>0.7</td>\n",
       "      <td>1.2</td>\n",
       "      <td>63.4</td>\n",
       "      <td>1.2</td>\n",
       "      <td>0.8</td>\n",
       "      <td>1.7</td>\n",
       "      <td>0.4</td>\n",
       "      <td>0.2</td>\n",
       "      <td>0.3</td>\n",
       "      <td>0.8</td>\n",
       "      <td>1</td>\n",
       "    </tr>\n",
       "    <tr>\n",
       "      <th>1</th>\n",
       "      <td>43</td>\n",
       "      <td>19.3</td>\n",
       "      <td>10.1</td>\n",
       "      <td>3.7</td>\n",
       "      <td>8.1</td>\n",
       "      <td>46.0</td>\n",
       "      <td>0.6</td>\n",
       "      <td>1.7</td>\n",
       "      <td>35.1</td>\n",
       "      <td>1.8</td>\n",
       "      <td>2.5</td>\n",
       "      <td>75.3</td>\n",
       "      <td>0.5</td>\n",
       "      <td>0.9</td>\n",
       "      <td>1.5</td>\n",
       "      <td>3.5</td>\n",
       "      <td>0.6</td>\n",
       "      <td>0.0</td>\n",
       "      <td>1.8</td>\n",
       "      <td>1</td>\n",
       "    </tr>\n",
       "    <tr>\n",
       "      <th>2</th>\n",
       "      <td>82</td>\n",
       "      <td>33.9</td>\n",
       "      <td>11.3</td>\n",
       "      <td>4.9</td>\n",
       "      <td>10.6</td>\n",
       "      <td>45.6</td>\n",
       "      <td>0.5</td>\n",
       "      <td>1.9</td>\n",
       "      <td>44.8</td>\n",
       "      <td>1.8</td>\n",
       "      <td>2.7</td>\n",
       "      <td>71.2</td>\n",
       "      <td>1.3</td>\n",
       "      <td>3.3</td>\n",
       "      <td>4.5</td>\n",
       "      <td>2.5</td>\n",
       "      <td>1.3</td>\n",
       "      <td>0.3</td>\n",
       "      <td>2.0</td>\n",
       "      <td>1</td>\n",
       "    </tr>\n",
       "    <tr>\n",
       "      <th>3</th>\n",
       "      <td>86</td>\n",
       "      <td>44.7</td>\n",
       "      <td>18.8</td>\n",
       "      <td>6.8</td>\n",
       "      <td>15.9</td>\n",
       "      <td>42.9</td>\n",
       "      <td>0.5</td>\n",
       "      <td>1.8</td>\n",
       "      <td>13.5</td>\n",
       "      <td>4.5</td>\n",
       "      <td>6.3</td>\n",
       "      <td>70.9</td>\n",
       "      <td>1.5</td>\n",
       "      <td>3.2</td>\n",
       "      <td>5.0</td>\n",
       "      <td>4.1</td>\n",
       "      <td>0.9</td>\n",
       "      <td>0.1</td>\n",
       "      <td>3.6</td>\n",
       "      <td>1</td>\n",
       "    </tr>\n",
       "    <tr>\n",
       "      <th>4</th>\n",
       "      <td>58</td>\n",
       "      <td>12.3</td>\n",
       "      <td>4.7</td>\n",
       "      <td>1.6</td>\n",
       "      <td>4.0</td>\n",
       "      <td>40.0</td>\n",
       "      <td>0.5</td>\n",
       "      <td>1.7</td>\n",
       "      <td>38.7</td>\n",
       "      <td>1.1</td>\n",
       "      <td>1.3</td>\n",
       "      <td>76.9</td>\n",
       "      <td>0.2</td>\n",
       "      <td>0.6</td>\n",
       "      <td>0.9</td>\n",
       "      <td>1.5</td>\n",
       "      <td>0.5</td>\n",
       "      <td>-0.4</td>\n",
       "      <td>0.9</td>\n",
       "      <td>1</td>\n",
       "    </tr>\n",
       "  </tbody>\n",
       "</table>\n",
       "</div>"
      ],
      "text/plain": [
       "   GP   MIN   PTS  FGM   FGA   FG%  3P Made  3PA   3P%  FTM  FTA   FT%  OREB  \\\n",
       "0  56   9.1   4.0  1.6   3.7  43.7      0.1  0.3   7.3  0.7  1.2  63.4   1.2   \n",
       "1  43  19.3  10.1  3.7   8.1  46.0      0.6  1.7  35.1  1.8  2.5  75.3   0.5   \n",
       "2  82  33.9  11.3  4.9  10.6  45.6      0.5  1.9  44.8  1.8  2.7  71.2   1.3   \n",
       "3  86  44.7  18.8  6.8  15.9  42.9      0.5  1.8  13.5  4.5  6.3  70.9   1.5   \n",
       "4  58  12.3   4.7  1.6   4.0  40.0      0.5  1.7  38.7  1.1  1.3  76.9   0.2   \n",
       "\n",
       "   DREB  REB  AST  STL  BLK  TOV  TARGET_5Yrs  \n",
       "0   0.8  1.7  0.4  0.2  0.3  0.8            1  \n",
       "1   0.9  1.5  3.5  0.6  0.0  1.8            1  \n",
       "2   3.3  4.5  2.5  1.3  0.3  2.0            1  \n",
       "3   3.2  5.0  4.1  0.9  0.1  3.6            1  \n",
       "4   0.6  0.9  1.5  0.5 -0.4  0.9            1  "
      ]
     },
     "execution_count": 153,
     "metadata": {},
     "output_type": "execute_result"
    }
   ],
   "source": [
    "df_actual_test_cleaned.head()"
   ]
  },
  {
   "cell_type": "code",
   "execution_count": 167,
   "id": "hearing-browse",
   "metadata": {},
   "outputs": [
    {
     "data": {
      "text/plain": [
       "1    3739\n",
       "0      60\n",
       "Name: TARGET_5Yrs, dtype: int64"
      ]
     },
     "execution_count": 167,
     "metadata": {},
     "output_type": "execute_result"
    }
   ],
   "source": [
    "df_test['TARGET_5Yrs'].value_counts()"
   ]
  },
  {
   "cell_type": "code",
   "execution_count": 168,
   "id": "durable-justice",
   "metadata": {},
   "outputs": [],
   "source": [
    "df_test.to_csv('../data/processed/TestResult.csv',index=True)"
   ]
  },
  {
   "cell_type": "code",
   "execution_count": 185,
   "id": "cooked-dependence",
   "metadata": {},
   "outputs": [],
   "source": [
    "y_actual_test_pred_reg=rf16.predict(df_actual_test_cleaned)"
   ]
  },
  {
   "cell_type": "code",
   "execution_count": 186,
   "id": "worst-spending",
   "metadata": {},
   "outputs": [
    {
     "data": {
      "text/plain": [
       "array([0.83690597, 0.7929326 , 0.94666667, ..., 0.89916667, 0.989     ,\n",
       "       0.74416667])"
      ]
     },
     "execution_count": 186,
     "metadata": {},
     "output_type": "execute_result"
    }
   ],
   "source": [
    "y_actual_test_pred_reg"
   ]
  },
  {
   "cell_type": "code",
   "execution_count": 188,
   "id": "subjective-richmond",
   "metadata": {},
   "outputs": [
    {
     "data": {
      "text/plain": [
       "(array([0., 1.]), array([  61, 3738], dtype=int64))"
      ]
     },
     "execution_count": 188,
     "metadata": {},
     "output_type": "execute_result"
    }
   ],
   "source": [
    "np.unique(y_actual_test_pred_reg.round(),return_counts=True)"
   ]
  },
  {
   "cell_type": "code",
   "execution_count": 189,
   "id": "amber-corruption",
   "metadata": {},
   "outputs": [],
   "source": [
    "df_test['TARGET_5Yrs'] = y_actual_test_pred_reg"
   ]
  },
  {
   "cell_type": "code",
   "execution_count": 191,
   "id": "acting-marsh",
   "metadata": {},
   "outputs": [
    {
     "data": {
      "text/plain": [
       "1.0    0.983943\n",
       "0.0    0.016057\n",
       "Name: TARGET_5Yrs, dtype: float64"
      ]
     },
     "execution_count": 191,
     "metadata": {},
     "output_type": "execute_result"
    }
   ],
   "source": [
    "df_test['TARGET_5Yrs'].round().value_counts(normalize=True)"
   ]
  },
  {
   "cell_type": "code",
   "execution_count": 197,
   "id": "specific-state",
   "metadata": {},
   "outputs": [],
   "source": [
    "df_test.to_csv('../data/processed/TestResult_UsingRegressor.csv',index=False,columns=['Id', 'TARGET_5Yrs'])"
   ]
  },
  {
   "cell_type": "code",
   "execution_count": 183,
   "id": "static-receipt",
   "metadata": {},
   "outputs": [],
   "source": [
    "y_actual_test_pred_rf20=grid_search_rf1.predict(df_actual_test_cleaned)\n",
    "y_actual_test_pred_prob_rf20=grid_search_rf1.predict_proba(df_actual_test_cleaned)"
   ]
  },
  {
   "cell_type": "code",
   "execution_count": 184,
   "id": "smaller-crazy",
   "metadata": {},
   "outputs": [
    {
     "data": {
      "text/plain": [
       "(array([0, 1], dtype=int64), array([  50, 3749], dtype=int64))"
      ]
     },
     "execution_count": 184,
     "metadata": {},
     "output_type": "execute_result"
    }
   ],
   "source": [
    "np.unique(y_actual_test_pred_rf20,return_counts=True)"
   ]
  },
  {
   "cell_type": "code",
   "execution_count": 188,
   "id": "nominated-affiliation",
   "metadata": {},
   "outputs": [
    {
     "data": {
      "text/plain": [
       "(array([0.        , 0.001     , 0.00133333, ..., 0.99866667, 0.999     ,\n",
       "        1.        ]),\n",
       " array([1, 2, 1, ..., 1, 2, 1], dtype=int64))"
      ]
     },
     "execution_count": 188,
     "metadata": {},
     "output_type": "execute_result"
    }
   ],
   "source": [
    "np.unique(y_actual_test_pred_prob_rf20,return_counts=True)"
   ]
  },
  {
   "cell_type": "code",
   "execution_count": 210,
   "id": "sophisticated-calculator",
   "metadata": {},
   "outputs": [
    {
     "data": {
      "text/plain": [
       "array([[0.16809891, 0.83190109],\n",
       "       [0.19944286, 0.80055714],\n",
       "       [0.04450952, 0.95549048],\n",
       "       ...,\n",
       "       [0.10329176, 0.89670824],\n",
       "       [0.01786667, 0.98213333],\n",
       "       [0.20709891, 0.79290109]])"
      ]
     },
     "execution_count": 210,
     "metadata": {},
     "output_type": "execute_result"
    }
   ],
   "source": [
    "y_actual_test_pred_prob_rf20"
   ]
  },
  {
   "cell_type": "code",
   "execution_count": 215,
   "id": "uniform-jaguar",
   "metadata": {},
   "outputs": [
    {
     "data": {
      "text/plain": [
       "array([0.83190109, 0.80055714, 0.95549048, ..., 0.89670824, 0.98213333,\n",
       "       0.79290109])"
      ]
     },
     "execution_count": 215,
     "metadata": {},
     "output_type": "execute_result"
    }
   ],
   "source": [
    "y_actual_test_pred_prob_rf20[:,1]"
   ]
  },
  {
   "cell_type": "code",
   "execution_count": 213,
   "id": "unknown-deficit",
   "metadata": {},
   "outputs": [
    {
     "data": {
      "text/plain": [
       "array([0, 1], dtype=int64)"
      ]
     },
     "execution_count": 213,
     "metadata": {},
     "output_type": "execute_result"
    }
   ],
   "source": [
    "grid_search_rf1.classes_"
   ]
  },
  {
   "cell_type": "code",
   "execution_count": 216,
   "id": "subsequent-citizen",
   "metadata": {},
   "outputs": [],
   "source": [
    "df_test['TARGET_5Yrs_result'] = y_actual_test_pred_rf20"
   ]
  },
  {
   "cell_type": "code",
   "execution_count": 217,
   "id": "junior-alexandria",
   "metadata": {},
   "outputs": [],
   "source": [
    "df_test['TARGET_5Yrs'] = y_actual_test_pred_prob_rf20[:,1]"
   ]
  },
  {
   "cell_type": "code",
   "execution_count": 218,
   "id": "hollow-single",
   "metadata": {},
   "outputs": [
    {
     "data": {
      "text/html": [
       "<div>\n",
       "<style scoped>\n",
       "    .dataframe tbody tr th:only-of-type {\n",
       "        vertical-align: middle;\n",
       "    }\n",
       "\n",
       "    .dataframe tbody tr th {\n",
       "        vertical-align: top;\n",
       "    }\n",
       "\n",
       "    .dataframe thead th {\n",
       "        text-align: right;\n",
       "    }\n",
       "</style>\n",
       "<table border=\"1\" class=\"dataframe\">\n",
       "  <thead>\n",
       "    <tr style=\"text-align: right;\">\n",
       "      <th></th>\n",
       "      <th>Id_old</th>\n",
       "      <th>Id</th>\n",
       "      <th>GP</th>\n",
       "      <th>MIN</th>\n",
       "      <th>PTS</th>\n",
       "      <th>FGM</th>\n",
       "      <th>FGA</th>\n",
       "      <th>FG%</th>\n",
       "      <th>3P Made</th>\n",
       "      <th>3PA</th>\n",
       "      <th>...</th>\n",
       "      <th>FT%</th>\n",
       "      <th>OREB</th>\n",
       "      <th>DREB</th>\n",
       "      <th>REB</th>\n",
       "      <th>AST</th>\n",
       "      <th>STL</th>\n",
       "      <th>BLK</th>\n",
       "      <th>TOV</th>\n",
       "      <th>TARGET_5Yrs</th>\n",
       "      <th>TARGET_5Yrs_result</th>\n",
       "    </tr>\n",
       "  </thead>\n",
       "  <tbody>\n",
       "    <tr>\n",
       "      <th>0</th>\n",
       "      <td>1</td>\n",
       "      <td>0</td>\n",
       "      <td>56</td>\n",
       "      <td>9.1</td>\n",
       "      <td>4.0</td>\n",
       "      <td>1.6</td>\n",
       "      <td>3.7</td>\n",
       "      <td>43.7</td>\n",
       "      <td>0.1</td>\n",
       "      <td>0.3</td>\n",
       "      <td>...</td>\n",
       "      <td>63.4</td>\n",
       "      <td>1.2</td>\n",
       "      <td>0.8</td>\n",
       "      <td>1.7</td>\n",
       "      <td>0.4</td>\n",
       "      <td>0.2</td>\n",
       "      <td>0.3</td>\n",
       "      <td>0.8</td>\n",
       "      <td>0.831901</td>\n",
       "      <td>1</td>\n",
       "    </tr>\n",
       "    <tr>\n",
       "      <th>1</th>\n",
       "      <td>8194</td>\n",
       "      <td>1</td>\n",
       "      <td>43</td>\n",
       "      <td>19.3</td>\n",
       "      <td>10.1</td>\n",
       "      <td>3.7</td>\n",
       "      <td>8.1</td>\n",
       "      <td>46.0</td>\n",
       "      <td>0.6</td>\n",
       "      <td>1.7</td>\n",
       "      <td>...</td>\n",
       "      <td>75.3</td>\n",
       "      <td>0.5</td>\n",
       "      <td>0.9</td>\n",
       "      <td>1.5</td>\n",
       "      <td>3.5</td>\n",
       "      <td>0.6</td>\n",
       "      <td>0.0</td>\n",
       "      <td>1.8</td>\n",
       "      <td>0.800557</td>\n",
       "      <td>1</td>\n",
       "    </tr>\n",
       "    <tr>\n",
       "      <th>2</th>\n",
       "      <td>3</td>\n",
       "      <td>2</td>\n",
       "      <td>82</td>\n",
       "      <td>33.9</td>\n",
       "      <td>11.3</td>\n",
       "      <td>4.9</td>\n",
       "      <td>10.6</td>\n",
       "      <td>45.6</td>\n",
       "      <td>0.5</td>\n",
       "      <td>1.9</td>\n",
       "      <td>...</td>\n",
       "      <td>71.2</td>\n",
       "      <td>1.3</td>\n",
       "      <td>3.3</td>\n",
       "      <td>4.5</td>\n",
       "      <td>2.5</td>\n",
       "      <td>1.3</td>\n",
       "      <td>0.3</td>\n",
       "      <td>2.0</td>\n",
       "      <td>0.955490</td>\n",
       "      <td>1</td>\n",
       "    </tr>\n",
       "    <tr>\n",
       "      <th>3</th>\n",
       "      <td>8196</td>\n",
       "      <td>3</td>\n",
       "      <td>86</td>\n",
       "      <td>44.7</td>\n",
       "      <td>18.8</td>\n",
       "      <td>6.8</td>\n",
       "      <td>15.9</td>\n",
       "      <td>42.9</td>\n",
       "      <td>0.5</td>\n",
       "      <td>1.8</td>\n",
       "      <td>...</td>\n",
       "      <td>70.9</td>\n",
       "      <td>1.5</td>\n",
       "      <td>3.2</td>\n",
       "      <td>5.0</td>\n",
       "      <td>4.1</td>\n",
       "      <td>0.9</td>\n",
       "      <td>0.1</td>\n",
       "      <td>3.6</td>\n",
       "      <td>0.913733</td>\n",
       "      <td>1</td>\n",
       "    </tr>\n",
       "    <tr>\n",
       "      <th>4</th>\n",
       "      <td>8197</td>\n",
       "      <td>4</td>\n",
       "      <td>58</td>\n",
       "      <td>12.3</td>\n",
       "      <td>4.7</td>\n",
       "      <td>1.6</td>\n",
       "      <td>4.0</td>\n",
       "      <td>40.0</td>\n",
       "      <td>0.5</td>\n",
       "      <td>1.7</td>\n",
       "      <td>...</td>\n",
       "      <td>76.9</td>\n",
       "      <td>0.2</td>\n",
       "      <td>0.6</td>\n",
       "      <td>0.9</td>\n",
       "      <td>1.5</td>\n",
       "      <td>0.5</td>\n",
       "      <td>-0.4</td>\n",
       "      <td>0.9</td>\n",
       "      <td>0.831302</td>\n",
       "      <td>1</td>\n",
       "    </tr>\n",
       "  </tbody>\n",
       "</table>\n",
       "<p>5 rows × 23 columns</p>\n",
       "</div>"
      ],
      "text/plain": [
       "   Id_old  Id  GP   MIN   PTS  FGM   FGA   FG%  3P Made  3PA  ...   FT%  OREB  \\\n",
       "0       1   0  56   9.1   4.0  1.6   3.7  43.7      0.1  0.3  ...  63.4   1.2   \n",
       "1    8194   1  43  19.3  10.1  3.7   8.1  46.0      0.6  1.7  ...  75.3   0.5   \n",
       "2       3   2  82  33.9  11.3  4.9  10.6  45.6      0.5  1.9  ...  71.2   1.3   \n",
       "3    8196   3  86  44.7  18.8  6.8  15.9  42.9      0.5  1.8  ...  70.9   1.5   \n",
       "4    8197   4  58  12.3   4.7  1.6   4.0  40.0      0.5  1.7  ...  76.9   0.2   \n",
       "\n",
       "   DREB  REB  AST  STL  BLK  TOV  TARGET_5Yrs  TARGET_5Yrs_result  \n",
       "0   0.8  1.7  0.4  0.2  0.3  0.8     0.831901                   1  \n",
       "1   0.9  1.5  3.5  0.6  0.0  1.8     0.800557                   1  \n",
       "2   3.3  4.5  2.5  1.3  0.3  2.0     0.955490                   1  \n",
       "3   3.2  5.0  4.1  0.9  0.1  3.6     0.913733                   1  \n",
       "4   0.6  0.9  1.5  0.5 -0.4  0.9     0.831302                   1  \n",
       "\n",
       "[5 rows x 23 columns]"
      ]
     },
     "execution_count": 218,
     "metadata": {},
     "output_type": "execute_result"
    }
   ],
   "source": [
    "df_test.head()"
   ]
  },
  {
   "cell_type": "code",
   "execution_count": 220,
   "id": "meaningful-malpractice",
   "metadata": {},
   "outputs": [
    {
     "data": {
      "text/plain": [
       "1    3749\n",
       "0      50\n",
       "Name: TARGET_5Yrs_result, dtype: int64"
      ]
     },
     "execution_count": 220,
     "metadata": {},
     "output_type": "execute_result"
    }
   ],
   "source": [
    "df_test['TARGET_5Yrs_result'].value_counts()"
   ]
  },
  {
   "cell_type": "code",
   "execution_count": 221,
   "id": "joint-dover",
   "metadata": {},
   "outputs": [],
   "source": [
    "df_test.to_csv('../data/processed/TestResult_GridSearch.csv',index=True)"
   ]
  },
  {
   "cell_type": "code",
   "execution_count": null,
   "id": "opposed-lease",
   "metadata": {},
   "outputs": [],
   "source": []
  }
 ],
 "metadata": {
  "kernelspec": {
   "display_name": "Python 3",
   "language": "python",
   "name": "python3"
  },
  "language_info": {
   "codemirror_mode": {
    "name": "ipython",
    "version": 3
   },
   "file_extension": ".py",
   "mimetype": "text/x-python",
   "name": "python",
   "nbconvert_exporter": "python",
   "pygments_lexer": "ipython3",
   "version": "3.9.1"
  }
 },
 "nbformat": 4,
 "nbformat_minor": 5
}
