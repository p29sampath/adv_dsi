{
 "cells": [
  {
   "cell_type": "code",
   "execution_count": 1,
   "id": "chicken-secret",
   "metadata": {},
   "outputs": [],
   "source": [
    "import pandas as pd\n",
    "import numpy as np\n",
    "from sklearn.model_selection import train_test_split\n",
    "from sklearn.linear_model import ElasticNet\n",
    "from sklearn.metrics import plot_confusion_matrix\n",
    "import matplotlib.pyplot as plt\n",
    "from sklearn.metrics import accuracy_score"
   ]
  },
  {
   "cell_type": "code",
   "execution_count": 10,
   "id": "saved-stage",
   "metadata": {},
   "outputs": [],
   "source": [
    "x_train = np.load('../data/processed/X_train.npy')\n",
    "x_val   = np.load('../data/processed/X_val.npy'  )\n",
    "x_test  = np.load('../data/processed/X_test.npy' )\n",
    "y_train = np.load('../data/processed/y_train.npy')\n",
    "y_val   = np.load('../data/processed/y_val.npy'  )\n",
    "y_test  = np.load('../data/processed/y_test.npy' )"
   ]
  },
  {
   "cell_type": "code",
   "execution_count": 23,
   "id": "attached-notebook",
   "metadata": {},
   "outputs": [],
   "source": [
    "def eval_model_reg(mod, xvar, yvar,runtype):\n",
    "  mod.fit(xvar,yvar)\n",
    "  mod_pred=mod.predict(xvar)\n",
    "  print('Accuracy Score',accuracy_score(yvar,mod_pred.round()), 'R2 Score',mod.score(xvar, yvar),'Unique Count',np.unique(mod_pred.round(),return_counts=True),'(',runtype,')')\n",
    "  return"
   ]
  },
  {
   "cell_type": "code",
   "execution_count": 29,
   "id": "arbitrary-discussion",
   "metadata": {},
   "outputs": [],
   "source": [
    "en = ElasticNet(random_state=8)"
   ]
  },
  {
   "cell_type": "code",
   "execution_count": 30,
   "id": "meaningful-whale",
   "metadata": {},
   "outputs": [
    {
     "name": "stdout",
     "output_type": "stream",
     "text": [
      "Accuracy Score 0.837109375 R2 Score 0.05314762592117461 Unique Count (array([1.]), array([5120], dtype=int64)) ( train )\n",
      "Accuracy Score 0.8125 R2 Score 0.05679361164313923 Unique Count (array([1.]), array([1280], dtype=int64)) ( test )\n"
     ]
    }
   ],
   "source": [
    "eval_model_reg(en,x_train,y_train,\"train\")\n",
    "eval_model_reg(en, x_test,y_test,\"test\")"
   ]
  },
  {
   "cell_type": "code",
   "execution_count": null,
   "id": "cognitive-clarity",
   "metadata": {},
   "outputs": [],
   "source": [
    "en = ElasticNet(random_state=8,)"
   ]
  }
 ],
 "metadata": {
  "kernelspec": {
   "display_name": "Python 3",
   "language": "python",
   "name": "python3"
  },
  "language_info": {
   "codemirror_mode": {
    "name": "ipython",
    "version": 3
   },
   "file_extension": ".py",
   "mimetype": "text/x-python",
   "name": "python",
   "nbconvert_exporter": "python",
   "pygments_lexer": "ipython3",
   "version": "3.9.1"
  }
 },
 "nbformat": 4,
 "nbformat_minor": 5
}
