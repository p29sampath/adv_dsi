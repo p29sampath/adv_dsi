{
 "cells": [
  {
   "cell_type": "code",
   "execution_count": 2,
   "id": "charming-memorabilia",
   "metadata": {},
   "outputs": [
    {
     "name": "stdout",
     "output_type": "stream",
     "text": [
      "The autoreload extension is already loaded. To reload it, use:\n",
      "  %reload_ext autoreload\n"
     ]
    }
   ],
   "source": [
    "import os\n",
    "import sys\n",
    "module_path = os.path.abspath(os.path.join('..'))\n",
    "if module_path not in sys.path:\n",
    "    sys.path.append(module_path)\n",
    "import pandas as pd\n",
    "import numpy as np\n",
    "from sklearn.model_selection import train_test_split\n",
    "from sklearn.ensemble import RandomForestClassifier\n",
    "from sklearn.metrics import plot_confusion_matrix\n",
    "import matplotlib.pyplot as plt\n",
    "from sklearn.model_selection import cross_val_score\n",
    "from joblib import dump\n",
    "from src.models import eval_model\n",
    "from sklearn.preprocessing import StandardScaler\n",
    "%load_ext autoreload\n",
    "%autoreload 2"
   ]
  },
  {
   "cell_type": "code",
   "execution_count": 3,
   "id": "silver-standing",
   "metadata": {},
   "outputs": [],
   "source": [
    "from src.models import eval_model"
   ]
  },
  {
   "cell_type": "code",
   "execution_count": 5,
   "id": "emerging-lancaster",
   "metadata": {},
   "outputs": [],
   "source": [
    "x_train = np.load('../data/processed/X_train.npy')\n",
    "y_train  = np.load('../data/processed/y_train.npy' )\n",
    "\n",
    "x_test = np.load('../data/processed/x_test.npy')\n",
    "y_test = np.load('../data/processed/y_test.npy' )\n",
    "\n",
    "x_val = np.load('../data/processed/x_val.npy')\n",
    "y_val  = np.load('../data/processed/y_val.npy' )"
   ]
  },
  {
   "cell_type": "code",
   "execution_count": 13,
   "id": "surprising-bronze",
   "metadata": {},
   "outputs": [],
   "source": [
    "from sklearn.linear_model import LinearRegression\n",
    "reg = LinearRegression().fit(x_train,y_train)"
   ]
  },
  {
   "cell_type": "code",
   "execution_count": 15,
   "id": "suited-survivor",
   "metadata": {},
   "outputs": [],
   "source": [
    "def eval_model(mod, xvar, yvar,runtype):\n",
    "\n",
    "  from sklearn.metrics import accuracy_score, confusion_matrix,roc_curve, roc_auc_score, precision_score, recall_score, precision_recall_curve, f1_score, plot_confusion_matrix\n",
    "  import matplotlib.pyplot as plt\n",
    "  \n",
    "\n",
    "\n",
    "  mod_pred_proba =mod.predict(xvar)\n",
    "  mod_pred = mod_pred_proba.round()\n",
    "  print('Accuracy Score ',accuracy_score(yvar,mod_pred),' F1 Score ',f1_score(yvar,mod_pred), ' R2 Score ',mod.score(xvar, yvar),' ROC_AUC_SCORE ',roc_auc_score(yvar, mod_pred_proba),'(',runtype,')')\n",
    "  print(f'Recall score: {recall_score(yvar,mod_pred)}')\n",
    "#   disp = plot_confusion_matrix(mod, xvar, yvar, cmap=plt.cm.Blues)\n",
    "#   disp.ax_.set_title('Confusion matrix '+runtype)\n",
    "  return\n"
   ]
  },
  {
   "cell_type": "code",
   "execution_count": 16,
   "id": "extraordinary-parking",
   "metadata": {},
   "outputs": [
    {
     "name": "stdout",
     "output_type": "stream",
     "text": [
      "Accuracy Score  0.837890625  F1 Score  0.9117021276595746  R2 Score  0.07717937323159862  ROC_AUC_SCORE  0.7068695020651701 ( Train )\n",
      "Recall score: 0.9997666822211853\n",
      "Accuracy Score  0.838125  F1 Score  0.911934716082965  R2 Score  0.06803722021581693  ROC_AUC_SCORE  0.7054999116328795 ( Val )\n",
      "Recall score: 0.9985107967237528\n"
     ]
    }
   ],
   "source": [
    "eval_model(reg,x_train,y_train,\"Train\")\n",
    "eval_model(reg,x_val,y_val,\"Val\")"
   ]
  },
  {
   "cell_type": "code",
   "execution_count": 17,
   "id": "hungry-wyoming",
   "metadata": {},
   "outputs": [
    {
     "name": "stdout",
     "output_type": "stream",
     "text": [
      "Accuracy Score  0.81171875  F1 Score  0.8960758947822338  R2 Score  0.07151438080141692  ROC_AUC_SCORE  0.6966025641025642 ( Test )\n",
      "Recall score: 0.9990384615384615\n"
     ]
    }
   ],
   "source": [
    "eval_model(reg,x_test,y_test,\"Test\")"
   ]
  },
  {
   "cell_type": "code",
   "execution_count": 3,
   "id": "metropolitan-lightweight",
   "metadata": {},
   "outputs": [],
   "source": [
    "from sklearn.linear_model import LinearRegression\n",
    "\n",
    "def calculateVIF(data):\n",
    "    features = list(data.columns)\n",
    "    num_features = len(features)\n",
    "\n",
    "    model = LinearRegression()\n",
    "\n",
    "    result = pd.DataFrame(index = ['VIF'], columns = features)\n",
    "    result = result.fillna(0)\n",
    "\n",
    "    for ite in range(num_features):\n",
    "        x_features = features[:]\n",
    "        y_featue = features[ite]\n",
    "        x_features.remove(y_featue)\n",
    "\n",
    "        x = data[x_features]\n",
    "        y = data[y_featue]\n",
    "\n",
    "        model.fit(data[x_features], data[y_featue])\n",
    "\n",
    "        result[y_featue] = 1/(1 - model.score(data[x_features], data[y_featue]))\n",
    "\n",
    "    return result"
   ]
  },
  {
   "cell_type": "code",
   "execution_count": 19,
   "id": "advisory-toner",
   "metadata": {},
   "outputs": [],
   "source": [
    "df=pd.read_csv('./kaggle_assignment/data/raw/train.csv')\n",
    "df_cleaned = df.drop(['Id_old','Id'],axis=1)\n",
    "x=df_cleaned.drop('TARGET_5Yrs',axis=1)"
   ]
  },
  {
   "cell_type": "code",
   "execution_count": 20,
   "id": "forward-introduction",
   "metadata": {},
   "outputs": [
    {
     "data": {
      "text/html": [
       "<div>\n",
       "<style scoped>\n",
       "    .dataframe tbody tr th:only-of-type {\n",
       "        vertical-align: middle;\n",
       "    }\n",
       "\n",
       "    .dataframe tbody tr th {\n",
       "        vertical-align: top;\n",
       "    }\n",
       "\n",
       "    .dataframe thead th {\n",
       "        text-align: right;\n",
       "    }\n",
       "</style>\n",
       "<table border=\"1\" class=\"dataframe\">\n",
       "  <thead>\n",
       "    <tr style=\"text-align: right;\">\n",
       "      <th></th>\n",
       "      <th>GP</th>\n",
       "      <th>MIN</th>\n",
       "      <th>PTS</th>\n",
       "      <th>FGM</th>\n",
       "      <th>FGA</th>\n",
       "      <th>FG%</th>\n",
       "      <th>3P Made</th>\n",
       "      <th>3PA</th>\n",
       "      <th>3P%</th>\n",
       "      <th>FTM</th>\n",
       "      <th>FTA</th>\n",
       "      <th>FT%</th>\n",
       "      <th>OREB</th>\n",
       "      <th>DREB</th>\n",
       "      <th>REB</th>\n",
       "      <th>AST</th>\n",
       "      <th>STL</th>\n",
       "      <th>BLK</th>\n",
       "      <th>TOV</th>\n",
       "    </tr>\n",
       "  </thead>\n",
       "  <tbody>\n",
       "    <tr>\n",
       "      <th>VIF</th>\n",
       "      <td>1.714412</td>\n",
       "      <td>13.397745</td>\n",
       "      <td>248.284029</td>\n",
       "      <td>199.075827</td>\n",
       "      <td>100.861373</td>\n",
       "      <td>5.812264</td>\n",
       "      <td>29.939912</td>\n",
       "      <td>31.58869</td>\n",
       "      <td>1.778763</td>\n",
       "      <td>77.284367</td>\n",
       "      <td>63.82767</td>\n",
       "      <td>3.265819</td>\n",
       "      <td>22.26328</td>\n",
       "      <td>72.532674</td>\n",
       "      <td>144.136923</td>\n",
       "      <td>4.416166</td>\n",
       "      <td>3.384907</td>\n",
       "      <td>1.330506</td>\n",
       "      <td>5.764583</td>\n",
       "    </tr>\n",
       "  </tbody>\n",
       "</table>\n",
       "</div>"
      ],
      "text/plain": [
       "           GP        MIN         PTS         FGM         FGA       FG%  \\\n",
       "VIF  1.714412  13.397745  248.284029  199.075827  100.861373  5.812264   \n",
       "\n",
       "       3P Made       3PA       3P%        FTM       FTA       FT%      OREB  \\\n",
       "VIF  29.939912  31.58869  1.778763  77.284367  63.82767  3.265819  22.26328   \n",
       "\n",
       "          DREB         REB       AST       STL       BLK       TOV  \n",
       "VIF  72.532674  144.136923  4.416166  3.384907  1.330506  5.764583  "
      ]
     },
     "execution_count": 20,
     "metadata": {},
     "output_type": "execute_result"
    }
   ],
   "source": [
    "calculateVIF(x)"
   ]
  },
  {
   "cell_type": "code",
   "execution_count": 21,
   "id": "restricted-pharmacology",
   "metadata": {},
   "outputs": [
    {
     "data": {
      "text/html": [
       "<div>\n",
       "<style scoped>\n",
       "    .dataframe tbody tr th:only-of-type {\n",
       "        vertical-align: middle;\n",
       "    }\n",
       "\n",
       "    .dataframe tbody tr th {\n",
       "        vertical-align: top;\n",
       "    }\n",
       "\n",
       "    .dataframe thead th {\n",
       "        text-align: right;\n",
       "    }\n",
       "</style>\n",
       "<table border=\"1\" class=\"dataframe\">\n",
       "  <thead>\n",
       "    <tr style=\"text-align: right;\">\n",
       "      <th></th>\n",
       "      <th>GP</th>\n",
       "      <th>MIN</th>\n",
       "      <th>FGM</th>\n",
       "      <th>FGA</th>\n",
       "      <th>FG%</th>\n",
       "      <th>3P Made</th>\n",
       "      <th>3PA</th>\n",
       "      <th>3P%</th>\n",
       "      <th>FTM</th>\n",
       "      <th>FTA</th>\n",
       "      <th>FT%</th>\n",
       "      <th>OREB</th>\n",
       "      <th>DREB</th>\n",
       "      <th>REB</th>\n",
       "      <th>AST</th>\n",
       "      <th>STL</th>\n",
       "      <th>BLK</th>\n",
       "      <th>TOV</th>\n",
       "    </tr>\n",
       "  </thead>\n",
       "  <tbody>\n",
       "    <tr>\n",
       "      <th>VIF</th>\n",
       "      <td>1.710919</td>\n",
       "      <td>13.344454</td>\n",
       "      <td>101.070211</td>\n",
       "      <td>93.269887</td>\n",
       "      <td>5.609194</td>\n",
       "      <td>29.415186</td>\n",
       "      <td>31.568854</td>\n",
       "      <td>1.747469</td>\n",
       "      <td>66.560465</td>\n",
       "      <td>63.821399</td>\n",
       "      <td>3.259018</td>\n",
       "      <td>22.235323</td>\n",
       "      <td>72.373889</td>\n",
       "      <td>144.005474</td>\n",
       "      <td>4.405789</td>\n",
       "      <td>3.384853</td>\n",
       "      <td>1.329888</td>\n",
       "      <td>5.751933</td>\n",
       "    </tr>\n",
       "  </tbody>\n",
       "</table>\n",
       "</div>"
      ],
      "text/plain": [
       "           GP        MIN         FGM        FGA       FG%    3P Made  \\\n",
       "VIF  1.710919  13.344454  101.070211  93.269887  5.609194  29.415186   \n",
       "\n",
       "           3PA       3P%        FTM        FTA       FT%       OREB  \\\n",
       "VIF  31.568854  1.747469  66.560465  63.821399  3.259018  22.235323   \n",
       "\n",
       "          DREB         REB       AST       STL       BLK       TOV  \n",
       "VIF  72.373889  144.005474  4.405789  3.384853  1.329888  5.751933  "
      ]
     },
     "execution_count": 21,
     "metadata": {},
     "output_type": "execute_result"
    }
   ],
   "source": [
    "x = x.drop(['PTS'], axis=1)\n",
    "calculateVIF(x)"
   ]
  },
  {
   "cell_type": "code",
   "execution_count": 22,
   "id": "endless-strain",
   "metadata": {},
   "outputs": [
    {
     "data": {
      "text/html": [
       "<div>\n",
       "<style scoped>\n",
       "    .dataframe tbody tr th:only-of-type {\n",
       "        vertical-align: middle;\n",
       "    }\n",
       "\n",
       "    .dataframe tbody tr th {\n",
       "        vertical-align: top;\n",
       "    }\n",
       "\n",
       "    .dataframe thead th {\n",
       "        text-align: right;\n",
       "    }\n",
       "</style>\n",
       "<table border=\"1\" class=\"dataframe\">\n",
       "  <thead>\n",
       "    <tr style=\"text-align: right;\">\n",
       "      <th></th>\n",
       "      <th>GP</th>\n",
       "      <th>MIN</th>\n",
       "      <th>FGM</th>\n",
       "      <th>FGA</th>\n",
       "      <th>FG%</th>\n",
       "      <th>3P Made</th>\n",
       "      <th>3PA</th>\n",
       "      <th>3P%</th>\n",
       "      <th>FTM</th>\n",
       "      <th>FTA</th>\n",
       "      <th>FT%</th>\n",
       "      <th>OREB</th>\n",
       "      <th>DREB</th>\n",
       "      <th>AST</th>\n",
       "      <th>STL</th>\n",
       "      <th>BLK</th>\n",
       "      <th>TOV</th>\n",
       "    </tr>\n",
       "  </thead>\n",
       "  <tbody>\n",
       "    <tr>\n",
       "      <th>VIF</th>\n",
       "      <td>1.710851</td>\n",
       "      <td>13.334696</td>\n",
       "      <td>100.469945</td>\n",
       "      <td>92.932881</td>\n",
       "      <td>5.589226</td>\n",
       "      <td>29.413284</td>\n",
       "      <td>31.545257</td>\n",
       "      <td>1.737265</td>\n",
       "      <td>66.173494</td>\n",
       "      <td>63.333286</td>\n",
       "      <td>3.255216</td>\n",
       "      <td>4.141201</td>\n",
       "      <td>5.554398</td>\n",
       "      <td>4.396603</td>\n",
       "      <td>3.376394</td>\n",
       "      <td>1.328888</td>\n",
       "      <td>5.69345</td>\n",
       "    </tr>\n",
       "  </tbody>\n",
       "</table>\n",
       "</div>"
      ],
      "text/plain": [
       "           GP        MIN         FGM        FGA       FG%    3P Made  \\\n",
       "VIF  1.710851  13.334696  100.469945  92.932881  5.589226  29.413284   \n",
       "\n",
       "           3PA       3P%        FTM        FTA       FT%      OREB      DREB  \\\n",
       "VIF  31.545257  1.737265  66.173494  63.333286  3.255216  4.141201  5.554398   \n",
       "\n",
       "          AST       STL       BLK      TOV  \n",
       "VIF  4.396603  3.376394  1.328888  5.69345  "
      ]
     },
     "execution_count": 22,
     "metadata": {},
     "output_type": "execute_result"
    }
   ],
   "source": [
    "x = x.drop(['REB'], axis=1)\n",
    "calculateVIF(x)"
   ]
  },
  {
   "cell_type": "code",
   "execution_count": 23,
   "id": "racial-batman",
   "metadata": {},
   "outputs": [
    {
     "data": {
      "text/html": [
       "<div>\n",
       "<style scoped>\n",
       "    .dataframe tbody tr th:only-of-type {\n",
       "        vertical-align: middle;\n",
       "    }\n",
       "\n",
       "    .dataframe tbody tr th {\n",
       "        vertical-align: top;\n",
       "    }\n",
       "\n",
       "    .dataframe thead th {\n",
       "        text-align: right;\n",
       "    }\n",
       "</style>\n",
       "<table border=\"1\" class=\"dataframe\">\n",
       "  <thead>\n",
       "    <tr style=\"text-align: right;\">\n",
       "      <th></th>\n",
       "      <th>GP</th>\n",
       "      <th>MIN</th>\n",
       "      <th>FGA</th>\n",
       "      <th>FG%</th>\n",
       "      <th>3P Made</th>\n",
       "      <th>3PA</th>\n",
       "      <th>3P%</th>\n",
       "      <th>FTM</th>\n",
       "      <th>FTA</th>\n",
       "      <th>FT%</th>\n",
       "      <th>OREB</th>\n",
       "      <th>DREB</th>\n",
       "      <th>AST</th>\n",
       "      <th>STL</th>\n",
       "      <th>BLK</th>\n",
       "      <th>TOV</th>\n",
       "    </tr>\n",
       "  </thead>\n",
       "  <tbody>\n",
       "    <tr>\n",
       "      <th>VIF</th>\n",
       "      <td>1.70308</td>\n",
       "      <td>13.333276</td>\n",
       "      <td>7.390854</td>\n",
       "      <td>1.810382</td>\n",
       "      <td>29.311514</td>\n",
       "      <td>31.391071</td>\n",
       "      <td>1.73329</td>\n",
       "      <td>66.045074</td>\n",
       "      <td>63.039714</td>\n",
       "      <td>3.242674</td>\n",
       "      <td>4.118947</td>\n",
       "      <td>5.545526</td>\n",
       "      <td>4.394019</td>\n",
       "      <td>3.376134</td>\n",
       "      <td>1.328105</td>\n",
       "      <td>5.69246</td>\n",
       "    </tr>\n",
       "  </tbody>\n",
       "</table>\n",
       "</div>"
      ],
      "text/plain": [
       "          GP        MIN       FGA       FG%    3P Made        3PA      3P%  \\\n",
       "VIF  1.70308  13.333276  7.390854  1.810382  29.311514  31.391071  1.73329   \n",
       "\n",
       "           FTM        FTA       FT%      OREB      DREB       AST       STL  \\\n",
       "VIF  66.045074  63.039714  3.242674  4.118947  5.545526  4.394019  3.376134   \n",
       "\n",
       "          BLK      TOV  \n",
       "VIF  1.328105  5.69246  "
      ]
     },
     "execution_count": 23,
     "metadata": {},
     "output_type": "execute_result"
    }
   ],
   "source": [
    "x = x.drop(['FGM'], axis=1)\n",
    "calculateVIF(x)"
   ]
  },
  {
   "cell_type": "code",
   "execution_count": 24,
   "id": "corresponding-rubber",
   "metadata": {},
   "outputs": [
    {
     "data": {
      "text/html": [
       "<div>\n",
       "<style scoped>\n",
       "    .dataframe tbody tr th:only-of-type {\n",
       "        vertical-align: middle;\n",
       "    }\n",
       "\n",
       "    .dataframe tbody tr th {\n",
       "        vertical-align: top;\n",
       "    }\n",
       "\n",
       "    .dataframe thead th {\n",
       "        text-align: right;\n",
       "    }\n",
       "</style>\n",
       "<table border=\"1\" class=\"dataframe\">\n",
       "  <thead>\n",
       "    <tr style=\"text-align: right;\">\n",
       "      <th></th>\n",
       "      <th>GP</th>\n",
       "      <th>MIN</th>\n",
       "      <th>FGA</th>\n",
       "      <th>FG%</th>\n",
       "      <th>3P Made</th>\n",
       "      <th>3PA</th>\n",
       "      <th>3P%</th>\n",
       "      <th>FTA</th>\n",
       "      <th>FT%</th>\n",
       "      <th>OREB</th>\n",
       "      <th>DREB</th>\n",
       "      <th>AST</th>\n",
       "      <th>STL</th>\n",
       "      <th>BLK</th>\n",
       "      <th>TOV</th>\n",
       "    </tr>\n",
       "  </thead>\n",
       "  <tbody>\n",
       "    <tr>\n",
       "      <th>VIF</th>\n",
       "      <td>1.700425</td>\n",
       "      <td>13.319159</td>\n",
       "      <td>7.317016</td>\n",
       "      <td>1.810219</td>\n",
       "      <td>29.308158</td>\n",
       "      <td>31.37767</td>\n",
       "      <td>1.730677</td>\n",
       "      <td>3.868517</td>\n",
       "      <td>1.324642</td>\n",
       "      <td>4.081037</td>\n",
       "      <td>5.542246</td>\n",
       "      <td>4.392643</td>\n",
       "      <td>3.375625</td>\n",
       "      <td>1.327203</td>\n",
       "      <td>5.692099</td>\n",
       "    </tr>\n",
       "  </tbody>\n",
       "</table>\n",
       "</div>"
      ],
      "text/plain": [
       "           GP        MIN       FGA       FG%    3P Made       3PA       3P%  \\\n",
       "VIF  1.700425  13.319159  7.317016  1.810219  29.308158  31.37767  1.730677   \n",
       "\n",
       "          FTA       FT%      OREB      DREB       AST       STL       BLK  \\\n",
       "VIF  3.868517  1.324642  4.081037  5.542246  4.392643  3.375625  1.327203   \n",
       "\n",
       "          TOV  \n",
       "VIF  5.692099  "
      ]
     },
     "execution_count": 24,
     "metadata": {},
     "output_type": "execute_result"
    }
   ],
   "source": [
    "x = x.drop(['FTM'], axis=1)\n",
    "calculateVIF(x)"
   ]
  },
  {
   "cell_type": "code",
   "execution_count": 25,
   "id": "terminal-beast",
   "metadata": {},
   "outputs": [
    {
     "data": {
      "text/html": [
       "<div>\n",
       "<style scoped>\n",
       "    .dataframe tbody tr th:only-of-type {\n",
       "        vertical-align: middle;\n",
       "    }\n",
       "\n",
       "    .dataframe tbody tr th {\n",
       "        vertical-align: top;\n",
       "    }\n",
       "\n",
       "    .dataframe thead th {\n",
       "        text-align: right;\n",
       "    }\n",
       "</style>\n",
       "<table border=\"1\" class=\"dataframe\">\n",
       "  <thead>\n",
       "    <tr style=\"text-align: right;\">\n",
       "      <th></th>\n",
       "      <th>GP</th>\n",
       "      <th>MIN</th>\n",
       "      <th>FGA</th>\n",
       "      <th>FG%</th>\n",
       "      <th>3PA</th>\n",
       "      <th>3P%</th>\n",
       "      <th>FTA</th>\n",
       "      <th>FT%</th>\n",
       "      <th>OREB</th>\n",
       "      <th>DREB</th>\n",
       "      <th>AST</th>\n",
       "      <th>STL</th>\n",
       "      <th>BLK</th>\n",
       "      <th>TOV</th>\n",
       "    </tr>\n",
       "  </thead>\n",
       "  <tbody>\n",
       "    <tr>\n",
       "      <th>VIF</th>\n",
       "      <td>1.698264</td>\n",
       "      <td>13.277574</td>\n",
       "      <td>7.229271</td>\n",
       "      <td>1.646459</td>\n",
       "      <td>2.185307</td>\n",
       "      <td>1.666908</td>\n",
       "      <td>3.864032</td>\n",
       "      <td>1.324479</td>\n",
       "      <td>4.080885</td>\n",
       "      <td>5.542239</td>\n",
       "      <td>4.390932</td>\n",
       "      <td>3.33343</td>\n",
       "      <td>1.326198</td>\n",
       "      <td>5.68571</td>\n",
       "    </tr>\n",
       "  </tbody>\n",
       "</table>\n",
       "</div>"
      ],
      "text/plain": [
       "           GP        MIN       FGA       FG%       3PA       3P%       FTA  \\\n",
       "VIF  1.698264  13.277574  7.229271  1.646459  2.185307  1.666908  3.864032   \n",
       "\n",
       "          FT%      OREB      DREB       AST      STL       BLK      TOV  \n",
       "VIF  1.324479  4.080885  5.542239  4.390932  3.33343  1.326198  5.68571  "
      ]
     },
     "execution_count": 25,
     "metadata": {},
     "output_type": "execute_result"
    }
   ],
   "source": [
    "x = x.drop(['3P Made'], axis=1)\n",
    "calculateVIF(x)"
   ]
  },
  {
   "cell_type": "code",
   "execution_count": 26,
   "id": "seven-union",
   "metadata": {},
   "outputs": [
    {
     "data": {
      "text/html": [
       "<div>\n",
       "<style scoped>\n",
       "    .dataframe tbody tr th:only-of-type {\n",
       "        vertical-align: middle;\n",
       "    }\n",
       "\n",
       "    .dataframe tbody tr th {\n",
       "        vertical-align: top;\n",
       "    }\n",
       "\n",
       "    .dataframe thead th {\n",
       "        text-align: right;\n",
       "    }\n",
       "</style>\n",
       "<table border=\"1\" class=\"dataframe\">\n",
       "  <thead>\n",
       "    <tr style=\"text-align: right;\">\n",
       "      <th></th>\n",
       "      <th>GP</th>\n",
       "      <th>FGA</th>\n",
       "      <th>FG%</th>\n",
       "      <th>3PA</th>\n",
       "      <th>3P%</th>\n",
       "      <th>FTA</th>\n",
       "      <th>FT%</th>\n",
       "      <th>OREB</th>\n",
       "      <th>DREB</th>\n",
       "      <th>AST</th>\n",
       "      <th>STL</th>\n",
       "      <th>BLK</th>\n",
       "      <th>TOV</th>\n",
       "    </tr>\n",
       "  </thead>\n",
       "  <tbody>\n",
       "    <tr>\n",
       "      <th>VIF</th>\n",
       "      <td>1.663796</td>\n",
       "      <td>5.313572</td>\n",
       "      <td>1.626013</td>\n",
       "      <td>2.097974</td>\n",
       "      <td>1.666896</td>\n",
       "      <td>3.848178</td>\n",
       "      <td>1.316268</td>\n",
       "      <td>4.080823</td>\n",
       "      <td>3.756681</td>\n",
       "      <td>4.066983</td>\n",
       "      <td>2.938353</td>\n",
       "      <td>1.324961</td>\n",
       "      <td>5.661401</td>\n",
       "    </tr>\n",
       "  </tbody>\n",
       "</table>\n",
       "</div>"
      ],
      "text/plain": [
       "           GP       FGA       FG%       3PA       3P%       FTA       FT%  \\\n",
       "VIF  1.663796  5.313572  1.626013  2.097974  1.666896  3.848178  1.316268   \n",
       "\n",
       "         OREB      DREB       AST       STL       BLK       TOV  \n",
       "VIF  4.080823  3.756681  4.066983  2.938353  1.324961  5.661401  "
      ]
     },
     "execution_count": 26,
     "metadata": {},
     "output_type": "execute_result"
    }
   ],
   "source": [
    "x = x.drop(['MIN'], axis=1)\n",
    "calculateVIF(x)"
   ]
  },
  {
   "cell_type": "code",
   "execution_count": 29,
   "id": "romantic-ability",
   "metadata": {},
   "outputs": [],
   "source": [
    "y=df_cleaned['TARGET_5Yrs']\n",
    "x_data , x_val ,y_data,  y_val = train_test_split(x, y, test_size=0.2, random_state = 8)\n",
    "x_train , x_test , y_train, y_test = train_test_split(x_data, y_data, test_size=0.2, random_state = 8)"
   ]
  },
  {
   "cell_type": "code",
   "execution_count": 33,
   "id": "hourly-offer",
   "metadata": {},
   "outputs": [
    {
     "name": "stdout",
     "output_type": "stream",
     "text": [
      "Accuracy Score  0.8373046875  F1 Score  0.9114300903774588  R2 Score  0.07305197907549166  ROC_AUC_SCORE  0.7040411534514806 ( Train )\n",
      "Recall score: 1.0\n",
      "Accuracy Score  0.839375  F1 Score  0.9126741420319402  R2 Score  0.07377263651892263  ROC_AUC_SCORE  0.718111782958763 ( Val )\n",
      "Recall score: 1.0\n"
     ]
    }
   ],
   "source": [
    "eval_model(reg,x_train,y_train,\"Train\")\n",
    "eval_model(reg,x_val,y_val,\"Val\")"
   ]
  },
  {
   "cell_type": "code",
   "execution_count": 34,
   "id": "trying-while",
   "metadata": {},
   "outputs": [
    {
     "name": "stdout",
     "output_type": "stream",
     "text": [
      "Accuracy Score  0.81328125  F1 Score  0.896938335489435  R2 Score  0.07986805353710669  ROC_AUC_SCORE  0.7101442307692307 ( Test )\n",
      "Recall score: 1.0\n"
     ]
    }
   ],
   "source": [
    "eval_model(reg,x_test,y_test,\"Test\")"
   ]
  },
  {
   "cell_type": "code",
   "execution_count": null,
   "id": "middle-mozambique",
   "metadata": {},
   "outputs": [],
   "source": []
  },
  {
   "cell_type": "code",
   "execution_count": null,
   "id": "delayed-necessity",
   "metadata": {},
   "outputs": [],
   "source": []
  },
  {
   "cell_type": "code",
   "execution_count": null,
   "id": "established-biology",
   "metadata": {},
   "outputs": [],
   "source": []
  },
  {
   "cell_type": "markdown",
   "id": "preliminary-interface",
   "metadata": {},
   "source": [
    "# Test Result"
   ]
  },
  {
   "cell_type": "code",
   "execution_count": 38,
   "id": "individual-bruce",
   "metadata": {},
   "outputs": [],
   "source": [
    "df_test=pd.read_csv('./kaggle_assignment/data/raw/test.csv')\n",
    "df_actual_test_cleaned = df_test.drop(['Id_old', 'Id', 'PTS', 'REB', 'FGM', 'FTM', '3P Made', 'MIN'], axis=1)\n"
   ]
  },
  {
   "cell_type": "code",
   "execution_count": 39,
   "id": "electrical-membrane",
   "metadata": {},
   "outputs": [],
   "source": [
    "y_actual_test_pred_prob=reg.predict(df_actual_test_cleaned)"
   ]
  },
  {
   "cell_type": "code",
   "execution_count": 40,
   "id": "aware-output",
   "metadata": {},
   "outputs": [],
   "source": [
    "y_actual_test_pred_prob[y_actual_test_pred_prob>1]=1"
   ]
  },
  {
   "cell_type": "code",
   "execution_count": 41,
   "id": "hollywood-worthy",
   "metadata": {},
   "outputs": [
    {
     "data": {
      "text/plain": [
       "(array([0.45837117, 0.50122072, 0.51821311, ..., 0.9992085 , 0.99931308,\n",
       "        1.        ]),\n",
       " array([  1,   1,   1, ...,   1,   1, 181], dtype=int64))"
      ]
     },
     "execution_count": 41,
     "metadata": {},
     "output_type": "execute_result"
    }
   ],
   "source": [
    "np.unique(y_actual_test_pred_prob,return_counts=True)"
   ]
  },
  {
   "cell_type": "code",
   "execution_count": 42,
   "id": "japanese-stroke",
   "metadata": {},
   "outputs": [],
   "source": [
    "df_test['TARGET_5Yrs'] = y_actual_test_pred_prob"
   ]
  },
  {
   "cell_type": "code",
   "execution_count": 43,
   "id": "accessible-camcorder",
   "metadata": {},
   "outputs": [],
   "source": [
    "df_test.to_csv('./kaggle_assignment/data/processed/TestResult_Reg1.csv',index=False,columns=['Id', 'TARGET_5Yrs'])"
   ]
  },
  {
   "cell_type": "markdown",
   "id": "enclosed-weather",
   "metadata": {},
   "source": [
    "# Cross Val Pred"
   ]
  },
  {
   "cell_type": "code",
   "execution_count": 47,
   "id": "valid-celebrity",
   "metadata": {},
   "outputs": [
    {
     "ename": "NotFittedError",
     "evalue": "This LinearRegression instance is not fitted yet. Call 'fit' with appropriate arguments before using this estimator.",
     "output_type": "error",
     "traceback": [
      "\u001b[1;31m---------------------------------------------------------------------------\u001b[0m",
      "\u001b[1;31mNotFittedError\u001b[0m                            Traceback (most recent call last)",
      "\u001b[1;32m<ipython-input-47-03c6b8bfe52e>\u001b[0m in \u001b[0;36m<module>\u001b[1;34m\u001b[0m\n\u001b[1;32m----> 1\u001b[1;33m \u001b[0my_actual_test_pred_prob1\u001b[0m\u001b[1;33m=\u001b[0m\u001b[0mreg2\u001b[0m\u001b[1;33m.\u001b[0m\u001b[0mpredict\u001b[0m\u001b[1;33m(\u001b[0m\u001b[0mdf_actual_test_cleaned\u001b[0m\u001b[1;33m)\u001b[0m\u001b[1;33m\u001b[0m\u001b[1;33m\u001b[0m\u001b[0m\n\u001b[0m",
      "\u001b[1;32mc:\\users\\xauspi\\.virtualenvs\\adv_dsi-a-bxl2fm\\lib\\site-packages\\sklearn\\linear_model\\_base.py\u001b[0m in \u001b[0;36mpredict\u001b[1;34m(self, X)\u001b[0m\n\u001b[0;32m    236\u001b[0m             \u001b[0mReturns\u001b[0m \u001b[0mpredicted\u001b[0m \u001b[0mvalues\u001b[0m\u001b[1;33m.\u001b[0m\u001b[1;33m\u001b[0m\u001b[1;33m\u001b[0m\u001b[0m\n\u001b[0;32m    237\u001b[0m         \"\"\"\n\u001b[1;32m--> 238\u001b[1;33m         \u001b[1;32mreturn\u001b[0m \u001b[0mself\u001b[0m\u001b[1;33m.\u001b[0m\u001b[0m_decision_function\u001b[0m\u001b[1;33m(\u001b[0m\u001b[0mX\u001b[0m\u001b[1;33m)\u001b[0m\u001b[1;33m\u001b[0m\u001b[1;33m\u001b[0m\u001b[0m\n\u001b[0m\u001b[0;32m    239\u001b[0m \u001b[1;33m\u001b[0m\u001b[0m\n\u001b[0;32m    240\u001b[0m     \u001b[0m_preprocess_data\u001b[0m \u001b[1;33m=\u001b[0m \u001b[0mstaticmethod\u001b[0m\u001b[1;33m(\u001b[0m\u001b[0m_preprocess_data\u001b[0m\u001b[1;33m)\u001b[0m\u001b[1;33m\u001b[0m\u001b[1;33m\u001b[0m\u001b[0m\n",
      "\u001b[1;32mc:\\users\\xauspi\\.virtualenvs\\adv_dsi-a-bxl2fm\\lib\\site-packages\\sklearn\\linear_model\\_base.py\u001b[0m in \u001b[0;36m_decision_function\u001b[1;34m(self, X)\u001b[0m\n\u001b[0;32m    216\u001b[0m \u001b[1;33m\u001b[0m\u001b[0m\n\u001b[0;32m    217\u001b[0m     \u001b[1;32mdef\u001b[0m \u001b[0m_decision_function\u001b[0m\u001b[1;33m(\u001b[0m\u001b[0mself\u001b[0m\u001b[1;33m,\u001b[0m \u001b[0mX\u001b[0m\u001b[1;33m)\u001b[0m\u001b[1;33m:\u001b[0m\u001b[1;33m\u001b[0m\u001b[1;33m\u001b[0m\u001b[0m\n\u001b[1;32m--> 218\u001b[1;33m         \u001b[0mcheck_is_fitted\u001b[0m\u001b[1;33m(\u001b[0m\u001b[0mself\u001b[0m\u001b[1;33m)\u001b[0m\u001b[1;33m\u001b[0m\u001b[1;33m\u001b[0m\u001b[0m\n\u001b[0m\u001b[0;32m    219\u001b[0m \u001b[1;33m\u001b[0m\u001b[0m\n\u001b[0;32m    220\u001b[0m         \u001b[0mX\u001b[0m \u001b[1;33m=\u001b[0m \u001b[0mcheck_array\u001b[0m\u001b[1;33m(\u001b[0m\u001b[0mX\u001b[0m\u001b[1;33m,\u001b[0m \u001b[0maccept_sparse\u001b[0m\u001b[1;33m=\u001b[0m\u001b[1;33m[\u001b[0m\u001b[1;34m'csr'\u001b[0m\u001b[1;33m,\u001b[0m \u001b[1;34m'csc'\u001b[0m\u001b[1;33m,\u001b[0m \u001b[1;34m'coo'\u001b[0m\u001b[1;33m]\u001b[0m\u001b[1;33m)\u001b[0m\u001b[1;33m\u001b[0m\u001b[1;33m\u001b[0m\u001b[0m\n",
      "\u001b[1;32mc:\\users\\xauspi\\.virtualenvs\\adv_dsi-a-bxl2fm\\lib\\site-packages\\sklearn\\utils\\validation.py\u001b[0m in \u001b[0;36minner_f\u001b[1;34m(*args, **kwargs)\u001b[0m\n\u001b[0;32m     61\u001b[0m             \u001b[0mextra_args\u001b[0m \u001b[1;33m=\u001b[0m \u001b[0mlen\u001b[0m\u001b[1;33m(\u001b[0m\u001b[0margs\u001b[0m\u001b[1;33m)\u001b[0m \u001b[1;33m-\u001b[0m \u001b[0mlen\u001b[0m\u001b[1;33m(\u001b[0m\u001b[0mall_args\u001b[0m\u001b[1;33m)\u001b[0m\u001b[1;33m\u001b[0m\u001b[1;33m\u001b[0m\u001b[0m\n\u001b[0;32m     62\u001b[0m             \u001b[1;32mif\u001b[0m \u001b[0mextra_args\u001b[0m \u001b[1;33m<=\u001b[0m \u001b[1;36m0\u001b[0m\u001b[1;33m:\u001b[0m\u001b[1;33m\u001b[0m\u001b[1;33m\u001b[0m\u001b[0m\n\u001b[1;32m---> 63\u001b[1;33m                 \u001b[1;32mreturn\u001b[0m \u001b[0mf\u001b[0m\u001b[1;33m(\u001b[0m\u001b[1;33m*\u001b[0m\u001b[0margs\u001b[0m\u001b[1;33m,\u001b[0m \u001b[1;33m**\u001b[0m\u001b[0mkwargs\u001b[0m\u001b[1;33m)\u001b[0m\u001b[1;33m\u001b[0m\u001b[1;33m\u001b[0m\u001b[0m\n\u001b[0m\u001b[0;32m     64\u001b[0m \u001b[1;33m\u001b[0m\u001b[0m\n\u001b[0;32m     65\u001b[0m             \u001b[1;31m# extra_args > 0\u001b[0m\u001b[1;33m\u001b[0m\u001b[1;33m\u001b[0m\u001b[1;33m\u001b[0m\u001b[0m\n",
      "\u001b[1;32mc:\\users\\xauspi\\.virtualenvs\\adv_dsi-a-bxl2fm\\lib\\site-packages\\sklearn\\utils\\validation.py\u001b[0m in \u001b[0;36mcheck_is_fitted\u001b[1;34m(estimator, attributes, msg, all_or_any)\u001b[0m\n\u001b[0;32m   1039\u001b[0m \u001b[1;33m\u001b[0m\u001b[0m\n\u001b[0;32m   1040\u001b[0m     \u001b[1;32mif\u001b[0m \u001b[1;32mnot\u001b[0m \u001b[0mattrs\u001b[0m\u001b[1;33m:\u001b[0m\u001b[1;33m\u001b[0m\u001b[1;33m\u001b[0m\u001b[0m\n\u001b[1;32m-> 1041\u001b[1;33m         \u001b[1;32mraise\u001b[0m \u001b[0mNotFittedError\u001b[0m\u001b[1;33m(\u001b[0m\u001b[0mmsg\u001b[0m \u001b[1;33m%\u001b[0m \u001b[1;33m{\u001b[0m\u001b[1;34m'name'\u001b[0m\u001b[1;33m:\u001b[0m \u001b[0mtype\u001b[0m\u001b[1;33m(\u001b[0m\u001b[0mestimator\u001b[0m\u001b[1;33m)\u001b[0m\u001b[1;33m.\u001b[0m\u001b[0m__name__\u001b[0m\u001b[1;33m}\u001b[0m\u001b[1;33m)\u001b[0m\u001b[1;33m\u001b[0m\u001b[1;33m\u001b[0m\u001b[0m\n\u001b[0m\u001b[0;32m   1042\u001b[0m \u001b[1;33m\u001b[0m\u001b[0m\n\u001b[0;32m   1043\u001b[0m \u001b[1;33m\u001b[0m\u001b[0m\n",
      "\u001b[1;31mNotFittedError\u001b[0m: This LinearRegression instance is not fitted yet. Call 'fit' with appropriate arguments before using this estimator."
     ]
    }
   ],
   "source": [
    "y_actual_test_pred_prob1=reg2.predict(df_actual_test_cleaned)"
   ]
  },
  {
   "cell_type": "code",
   "execution_count": null,
   "id": "molecular-apartment",
   "metadata": {},
   "outputs": [],
   "source": []
  }
 ],
 "metadata": {
  "kernelspec": {
   "display_name": "Python 3",
   "language": "python",
   "name": "python3"
  },
  "language_info": {
   "codemirror_mode": {
    "name": "ipython",
    "version": 3
   },
   "file_extension": ".py",
   "mimetype": "text/x-python",
   "name": "python",
   "nbconvert_exporter": "python",
   "pygments_lexer": "ipython3",
   "version": "3.9.1"
  }
 },
 "nbformat": 4,
 "nbformat_minor": 5
}
