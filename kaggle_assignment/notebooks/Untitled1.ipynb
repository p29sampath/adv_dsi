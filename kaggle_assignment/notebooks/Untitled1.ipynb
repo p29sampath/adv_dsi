{
 "cells": [
  {
   "cell_type": "code",
   "execution_count": 1,
   "id": "productive-earthquake",
   "metadata": {},
   "outputs": [],
   "source": [
    "import sys"
   ]
  },
  {
   "cell_type": "code",
   "execution_count": 4,
   "id": "linear-violation",
   "metadata": {},
   "outputs": [
    {
     "data": {
      "text/plain": [
       "['C:\\\\Users\\\\xauspi\\\\Documents\\\\git_repository\\\\adv_dsi\\\\kaggle_assignment\\\\notebooks',\n",
       " 'C:\\\\Users\\\\xauspi\\\\Documents\\\\git_repository\\\\adv_dsi\\\\kaggle_assignment\\\\notebooks\\\\src',\n",
       " 'C:\\\\Users\\\\xauspi\\\\AppData\\\\Local\\\\Programs\\\\Python\\\\Python39\\\\python39.zip',\n",
       " 'C:\\\\Users\\\\xauspi\\\\AppData\\\\Local\\\\Programs\\\\Python\\\\Python39\\\\DLLs',\n",
       " 'C:\\\\Users\\\\xauspi\\\\AppData\\\\Local\\\\Programs\\\\Python\\\\Python39\\\\lib',\n",
       " 'C:\\\\Users\\\\xauspi\\\\AppData\\\\Local\\\\Programs\\\\Python\\\\Python39',\n",
       " 'c:\\\\users\\\\xauspi\\\\.virtualenvs\\\\kaggle_assignment-dq2gjalz',\n",
       " '',\n",
       " 'c:\\\\users\\\\xauspi\\\\.virtualenvs\\\\kaggle_assignment-dq2gjalz\\\\lib\\\\site-packages',\n",
       " 'c:\\\\users\\\\xauspi\\\\.virtualenvs\\\\kaggle_assignment-dq2gjalz\\\\lib\\\\site-packages\\\\win32',\n",
       " 'c:\\\\users\\\\xauspi\\\\.virtualenvs\\\\kaggle_assignment-dq2gjalz\\\\lib\\\\site-packages\\\\win32\\\\lib',\n",
       " 'c:\\\\users\\\\xauspi\\\\.virtualenvs\\\\kaggle_assignment-dq2gjalz\\\\lib\\\\site-packages\\\\Pythonwin',\n",
       " 'c:\\\\users\\\\xauspi\\\\.virtualenvs\\\\kaggle_assignment-dq2gjalz\\\\lib\\\\site-packages\\\\IPython\\\\extensions',\n",
       " 'C:\\\\Users\\\\xauspi\\\\.ipython',\n",
       " '..\\\\src']"
      ]
     },
     "execution_count": 4,
     "metadata": {},
     "output_type": "execute_result"
    }
   ],
   "source": [
    "sys.path"
   ]
  },
  {
   "cell_type": "code",
   "execution_count": 3,
   "id": "grateful-battle",
   "metadata": {},
   "outputs": [],
   "source": [
    "sys.path.append(\"..\\src\")"
   ]
  },
  {
   "cell_type": "code",
   "execution_count": null,
   "id": "unique-school",
   "metadata": {},
   "outputs": [],
   "source": []
  }
 ],
 "metadata": {
  "kernelspec": {
   "display_name": "Python 3",
   "language": "python",
   "name": "python3"
  },
  "language_info": {
   "codemirror_mode": {
    "name": "ipython",
    "version": 3
   },
   "file_extension": ".py",
   "mimetype": "text/x-python",
   "name": "python",
   "nbconvert_exporter": "python",
   "pygments_lexer": "ipython3",
   "version": "3.9.1"
  }
 },
 "nbformat": 4,
 "nbformat_minor": 5
}
