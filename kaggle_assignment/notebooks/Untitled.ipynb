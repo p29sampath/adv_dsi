{
 "cells": [
  {
   "cell_type": "code",
   "execution_count": 48,
   "id": "inappropriate-charger",
   "metadata": {},
   "outputs": [],
   "source": [
    "import dotenv\n",
    "import os"
   ]
  },
  {
   "cell_type": "code",
   "execution_count": 36,
   "id": "loaded-royalty",
   "metadata": {},
   "outputs": [],
   "source": [
    "project_dir = os.path.join(os.path.dirname('./src/'), os.pardir)"
   ]
  },
  {
   "cell_type": "code",
   "execution_count": 37,
   "id": "chief-merchandise",
   "metadata": {},
   "outputs": [
    {
     "data": {
      "text/plain": [
       "'..'"
      ]
     },
     "execution_count": 37,
     "metadata": {},
     "output_type": "execute_result"
    }
   ],
   "source": [
    " os.pardir"
   ]
  },
  {
   "cell_type": "code",
   "execution_count": 40,
   "id": "subject-anthony",
   "metadata": {},
   "outputs": [
    {
     "data": {
      "text/plain": [
       "'./src\\\\..'"
      ]
     },
     "execution_count": 40,
     "metadata": {},
     "output_type": "execute_result"
    }
   ],
   "source": [
    "project_dir"
   ]
  },
  {
   "cell_type": "code",
   "execution_count": 39,
   "id": "welcome-habitat",
   "metadata": {},
   "outputs": [],
   "source": [
    "dotenv_path = os.path.join(project_dir, '.env')"
   ]
  },
  {
   "cell_type": "code",
   "execution_count": 23,
   "id": "adolescent-three",
   "metadata": {},
   "outputs": [
    {
     "data": {
      "text/plain": [
       "'/..\\\\.env'"
      ]
     },
     "execution_count": 23,
     "metadata": {},
     "output_type": "execute_result"
    }
   ],
   "source": [
    "dotenv_path"
   ]
  },
  {
   "cell_type": "code",
   "execution_count": 49,
   "id": "current-subscriber",
   "metadata": {},
   "outputs": [],
   "source": [
    "import sys"
   ]
  },
  {
   "cell_type": "code",
   "execution_count": 50,
   "id": "dietary-messaging",
   "metadata": {},
   "outputs": [
    {
     "data": {
      "text/plain": [
       "['C:\\\\Users\\\\xauspi\\\\Documents\\\\git_repository\\\\adv_dsi\\\\kaggle_assignment',\n",
       " 'C:\\\\Users\\\\xauspi\\\\Documents\\\\git_repository\\\\adv_dsi\\\\kaggle_assignment\\\\src',\n",
       " 'C:\\\\Users\\\\xauspi\\\\AppData\\\\Local\\\\Programs\\\\Python\\\\Python39\\\\python39.zip',\n",
       " 'C:\\\\Users\\\\xauspi\\\\AppData\\\\Local\\\\Programs\\\\Python\\\\Python39\\\\DLLs',\n",
       " 'C:\\\\Users\\\\xauspi\\\\AppData\\\\Local\\\\Programs\\\\Python\\\\Python39\\\\lib',\n",
       " 'C:\\\\Users\\\\xauspi\\\\AppData\\\\Local\\\\Programs\\\\Python\\\\Python39',\n",
       " 'c:\\\\users\\\\xauspi\\\\.virtualenvs\\\\kaggle_assignment-dq2gjalz',\n",
       " '',\n",
       " 'c:\\\\users\\\\xauspi\\\\.virtualenvs\\\\kaggle_assignment-dq2gjalz\\\\lib\\\\site-packages',\n",
       " 'c:\\\\users\\\\xauspi\\\\.virtualenvs\\\\kaggle_assignment-dq2gjalz\\\\lib\\\\site-packages\\\\win32',\n",
       " 'c:\\\\users\\\\xauspi\\\\.virtualenvs\\\\kaggle_assignment-dq2gjalz\\\\lib\\\\site-packages\\\\win32\\\\lib',\n",
       " 'c:\\\\users\\\\xauspi\\\\.virtualenvs\\\\kaggle_assignment-dq2gjalz\\\\lib\\\\site-packages\\\\Pythonwin',\n",
       " 'c:\\\\users\\\\xauspi\\\\.virtualenvs\\\\kaggle_assignment-dq2gjalz\\\\lib\\\\site-packages\\\\IPython\\\\extensions',\n",
       " 'C:\\\\Users\\\\xauspi\\\\.ipython']"
      ]
     },
     "execution_count": 50,
     "metadata": {},
     "output_type": "execute_result"
    }
   ],
   "source": [
    "sys.path"
   ]
  },
  {
   "cell_type": "code",
   "execution_count": 43,
   "id": "complex-foster",
   "metadata": {},
   "outputs": [],
   "source": [
    "from src.models import eval_model"
   ]
  },
  {
   "cell_type": "code",
   "execution_count": null,
   "id": "agreed-transformation",
   "metadata": {},
   "outputs": [],
   "source": []
  }
 ],
 "metadata": {
  "kernelspec": {
   "display_name": "Python 3",
   "language": "python",
   "name": "python3"
  },
  "language_info": {
   "codemirror_mode": {
    "name": "ipython",
    "version": 3
   },
   "file_extension": ".py",
   "mimetype": "text/x-python",
   "name": "python",
   "nbconvert_exporter": "python",
   "pygments_lexer": "ipython3",
   "version": "3.9.1"
  }
 },
 "nbformat": 4,
 "nbformat_minor": 5
}
