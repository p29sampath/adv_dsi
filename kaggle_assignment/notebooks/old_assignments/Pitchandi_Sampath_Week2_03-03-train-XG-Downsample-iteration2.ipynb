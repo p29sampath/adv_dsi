{
 "cells": [
  {
   "cell_type": "code",
   "execution_count": 1,
   "id": "native-azerbaijan",
   "metadata": {},
   "outputs": [],
   "source": [
    "import os\n",
    "import sys\n",
    "module_path = os.path.abspath(os.path.join('..'))\n",
    "if module_path not in sys.path:\n",
    "    sys.path.append(module_path)\n",
    "    \n",
    "import pandas as pd\n",
    "import numpy as np\n",
    "import xgboost as xgb\n",
    "from joblib import dump\n",
    "from src.models import eval_model as evm\n",
    "from src.models import eval_baseline as evb\n",
    "from sklearn.utils import resample\n",
    "from hyperopt import Trials, STATUS_OK, tpe, hp, fmin\n",
    "from sklearn.metrics import accuracy_score, confusion_matrix,roc_curve, roc_auc_score, precision_score, recall_score, precision_recall_curve, f1_score, plot_confusion_matrix\n",
    "from sklearn.model_selection import cross_val_score , cross_validate \n",
    "%load_ext autoreload\n",
    "%autoreload 2"
   ]
  },
  {
   "cell_type": "markdown",
   "id": "noted-looking",
   "metadata": {},
   "source": [
    "# Case for Down Sample"
   ]
  },
  {
   "cell_type": "code",
   "execution_count": 2,
   "id": "supported-description",
   "metadata": {},
   "outputs": [],
   "source": [
    "from sklearn.model_selection import train_test_split\n",
    "def read_and_split_data(file):\n",
    "    df = pd.read_csv(file)\n",
    "    x=df.drop(['TARGET_5Yrs','TARGET_5Yrs_Inv'],axis=1)\n",
    "    y=df['TARGET_5Yrs_Inv']\n",
    "    x_data , x_test ,y_data,  y_test = train_test_split(x, y, test_size=0.2, random_state = 8, stratify=y)\n",
    "    x_train , x_val , y_train, y_val = train_test_split(x_data, y_data, test_size=0.2, random_state = 8, stratify=y_data)\n",
    "    print('y',y.value_counts())\n",
    "    print('y_train',y_train.value_counts())\n",
    "    print('y_val', y_val.value_counts())\n",
    "    print('y_test',y_test.value_counts())\n",
    "    return x_train , x_val , y_train, y_val, x_test,  y_test"
   ]
  },
  {
   "cell_type": "code",
   "execution_count": 3,
   "id": "higher-margin",
   "metadata": {},
   "outputs": [
    {
     "name": "stdout",
     "output_type": "stream",
     "text": [
      "y 0    1331\n",
      "1    1331\n",
      "Name: TARGET_5Yrs_Inv, dtype: int64\n",
      "y_train 0    852\n",
      "1    851\n",
      "Name: TARGET_5Yrs_Inv, dtype: int64\n",
      "y_val 0    213\n",
      "1    213\n",
      "Name: TARGET_5Yrs_Inv, dtype: int64\n",
      "y_test 1    267\n",
      "0    266\n",
      "Name: TARGET_5Yrs_Inv, dtype: int64\n"
     ]
    }
   ],
   "source": [
    "x_train , x_val , y_train, y_val, x_test,  y_test = read_and_split_data(\"../data/processed/df_cleaned_downsampled_nba_prediction.csv\")"
   ]
  },
  {
   "cell_type": "code",
   "execution_count": 4,
   "id": "unsigned-approval",
   "metadata": {},
   "outputs": [
    {
     "data": {
      "text/plain": [
       "{'max_depth': <hyperopt.pyll.base.Apply at 0x2499c330130>,\n",
       " 'learning_rate': <hyperopt.pyll.base.Apply at 0x249bdab5e50>,\n",
       " 'min_child_weight': <hyperopt.pyll.base.Apply at 0x249bdab5fa0>,\n",
       " 'colsample_bytree': <hyperopt.pyll.base.Apply at 0x249bdac5130>,\n",
       " 'subsample': <hyperopt.pyll.base.Apply at 0x249bdac5280>,\n",
       " 'reg_lambda': <hyperopt.pyll.base.Apply at 0x249bdac53d0>,\n",
       " 'reg_alpha': <hyperopt.pyll.base.Apply at 0x249bdac5520>}"
      ]
     },
     "execution_count": 4,
     "metadata": {},
     "output_type": "execute_result"
    }
   ],
   "source": [
    "space = {\n",
    "    'max_depth': hp.choice('max_depth',range(1,100,1)),\n",
    "    'learning_rate' : hp.quniform('learning_rate', 0.01, 0.5, 0.05),\n",
    "    'min_child_weight' : hp.quniform('min_child_weight', 1, 100, 1),\n",
    "    'colsample_bytree' : hp.quniform('colsample_bytree', 0.1, 1.0, 0.05),\n",
    "    'subsample' : hp.quniform('subsample', 0.1, 1, 0.05),\n",
    "    'reg_lambda' : hp.quniform('reg_lambda', 0.1, 1, 0.05),\n",
    "    'reg_alpha' : hp.quniform('reg_alpha', 0.1, 1, 0.05)\n",
    "}\n",
    "space"
   ]
  },
  {
   "cell_type": "code",
   "execution_count": 5,
   "id": "interim-publication",
   "metadata": {},
   "outputs": [
    {
     "name": "stdout",
     "output_type": "stream",
     "text": [
      "[17:28:51] WARNING: C:/Users/Administrator/workspace/xgboost-win64_release_1.3.0/src/learner.cc:1061: Starting in XGBoost 1.3.0, the default evaluation metric used with the objective 'binary:logistic' was changed from 'error' to 'logloss'. Explicitly set eval_metric if you'd like to restore the old behavior.\n",
      "[17:28:52] WARNING: C:/Users/Administrator/workspace/xgboost-win64_release_1.3.0/src/learner.cc:1061: Starting in XGBoost 1.3.0, the default evaluation metric used with the objective 'binary:logistic' was changed from 'error' to 'logloss'. Explicitly set eval_metric if you'd like to restore the old behavior.\n",
      "[17:28:52] WARNING: C:/Users/Administrator/workspace/xgboost-win64_release_1.3.0/src/learner.cc:1061: Starting in XGBoost 1.3.0, the default evaluation metric used with the objective 'binary:logistic' was changed from 'error' to 'logloss'. Explicitly set eval_metric if you'd like to restore the old behavior.\n",
      "[17:28:52] WARNING: C:/Users/Administrator/workspace/xgboost-win64_release_1.3.0/src/learner.cc:1061: Starting in XGBoost 1.3.0, the default evaluation metric used with the objective 'binary:logistic' was changed from 'error' to 'logloss'. Explicitly set eval_metric if you'd like to restore the old behavior.\n",
      "[17:28:52] WARNING: C:/Users/Administrator/workspace/xgboost-win64_release_1.3.0/src/learner.cc:1061: Starting in XGBoost 1.3.0, the default evaluation metric used with the objective 'binary:logistic' was changed from 'error' to 'logloss'. Explicitly set eval_metric if you'd like to restore the old behavior.\n",
      "[17:28:52] WARNING: C:/Users/Administrator/workspace/xgboost-win64_release_1.3.0/src/learner.cc:1061: Starting in XGBoost 1.3.0, the default evaluation metric used with the objective 'binary:logistic' was changed from 'error' to 'logloss'. Explicitly set eval_metric if you'd like to restore the old behavior.\n",
      "[17:28:52] WARNING: C:/Users/Administrator/workspace/xgboost-win64_release_1.3.0/src/learner.cc:1061: Starting in XGBoost 1.3.0, the default evaluation metric used with the objective 'binary:logistic' was changed from 'error' to 'logloss'. Explicitly set eval_metric if you'd like to restore the old behavior.\n",
      "[17:28:53] WARNING: C:/Users/Administrator/workspace/xgboost-win64_release_1.3.0/src/learner.cc:1061: Starting in XGBoost 1.3.0, the default evaluation metric used with the objective 'binary:logistic' was changed from 'error' to 'logloss'. Explicitly set eval_metric if you'd like to restore the old behavior.\n",
      "[17:28:53] WARNING: C:/Users/Administrator/workspace/xgboost-win64_release_1.3.0/src/learner.cc:1061: Starting in XGBoost 1.3.0, the default evaluation metric used with the objective 'binary:logistic' was changed from 'error' to 'logloss'. Explicitly set eval_metric if you'd like to restore the old behavior.\n",
      "[17:28:53] WARNING: C:/Users/Administrator/workspace/xgboost-win64_release_1.3.0/src/learner.cc:1061: Starting in XGBoost 1.3.0, the default evaluation metric used with the objective 'binary:logistic' was changed from 'error' to 'logloss'. Explicitly set eval_metric if you'd like to restore the old behavior.\n",
      "[17:28:53] WARNING: C:/Users/Administrator/workspace/xgboost-win64_release_1.3.0/src/learner.cc:1061: Starting in XGBoost 1.3.0, the default evaluation metric used with the objective 'binary:logistic' was changed from 'error' to 'logloss'. Explicitly set eval_metric if you'd like to restore the old behavior.\n",
      "[17:28:53] WARNING: C:/Users/Administrator/workspace/xgboost-win64_release_1.3.0/src/learner.cc:1061: Starting in XGBoost 1.3.0, the default evaluation metric used with the objective 'binary:logistic' was changed from 'error' to 'logloss'. Explicitly set eval_metric if you'd like to restore the old behavior.\n",
      "[17:28:53] WARNING: C:/Users/Administrator/workspace/xgboost-win64_release_1.3.0/src/learner.cc:1061: Starting in XGBoost 1.3.0, the default evaluation metric used with the objective 'binary:logistic' was changed from 'error' to 'logloss'. Explicitly set eval_metric if you'd like to restore the old behavior.\n",
      "[17:28:54] WARNING: C:/Users/Administrator/workspace/xgboost-win64_release_1.3.0/src/learner.cc:1061: Starting in XGBoost 1.3.0, the default evaluation metric used with the objective 'binary:logistic' was changed from 'error' to 'logloss'. Explicitly set eval_metric if you'd like to restore the old behavior.\n",
      "[17:28:54] WARNING: C:/Users/Administrator/workspace/xgboost-win64_release_1.3.0/src/learner.cc:1061: Starting in XGBoost 1.3.0, the default evaluation metric used with the objective 'binary:logistic' was changed from 'error' to 'logloss'. Explicitly set eval_metric if you'd like to restore the old behavior.\n",
      "[17:28:54] WARNING: C:/Users/Administrator/workspace/xgboost-win64_release_1.3.0/src/learner.cc:1061: Starting in XGBoost 1.3.0, the default evaluation metric used with the objective 'binary:logistic' was changed from 'error' to 'logloss'. Explicitly set eval_metric if you'd like to restore the old behavior.\n",
      "[17:28:54] WARNING: C:/Users/Administrator/workspace/xgboost-win64_release_1.3.0/src/learner.cc:1061: Starting in XGBoost 1.3.0, the default evaluation metric used with the objective 'binary:logistic' was changed from 'error' to 'logloss'. Explicitly set eval_metric if you'd like to restore the old behavior.\n",
      "[17:28:54] WARNING: C:/Users/Administrator/workspace/xgboost-win64_release_1.3.0/src/learner.cc:1061: Starting in XGBoost 1.3.0, the default evaluation metric used with the objective 'binary:logistic' was changed from 'error' to 'logloss'. Explicitly set eval_metric if you'd like to restore the old behavior.\n",
      "[17:28:54] WARNING: C:/Users/Administrator/workspace/xgboost-win64_release_1.3.0/src/learner.cc:1061: Starting in XGBoost 1.3.0, the default evaluation metric used with the objective 'binary:logistic' was changed from 'error' to 'logloss'. Explicitly set eval_metric if you'd like to restore the old behavior.\n",
      "[17:28:54] WARNING: C:/Users/Administrator/workspace/xgboost-win64_release_1.3.0/src/learner.cc:1061: Starting in XGBoost 1.3.0, the default evaluation metric used with the objective 'binary:logistic' was changed from 'error' to 'logloss'. Explicitly set eval_metric if you'd like to restore the old behavior.\n",
      "[17:28:55] WARNING: C:/Users/Administrator/workspace/xgboost-win64_release_1.3.0/src/learner.cc:1061: Starting in XGBoost 1.3.0, the default evaluation metric used with the objective 'binary:logistic' was changed from 'error' to 'logloss'. Explicitly set eval_metric if you'd like to restore the old behavior.\n",
      "[17:28:55] WARNING: C:/Users/Administrator/workspace/xgboost-win64_release_1.3.0/src/learner.cc:1061: Starting in XGBoost 1.3.0, the default evaluation metric used with the objective 'binary:logistic' was changed from 'error' to 'logloss'. Explicitly set eval_metric if you'd like to restore the old behavior.\n",
      "[17:28:55] WARNING: C:/Users/Administrator/workspace/xgboost-win64_release_1.3.0/src/learner.cc:1061: Starting in XGBoost 1.3.0, the default evaluation metric used with the objective 'binary:logistic' was changed from 'error' to 'logloss'. Explicitly set eval_metric if you'd like to restore the old behavior.\n",
      "[17:28:55] WARNING: C:/Users/Administrator/workspace/xgboost-win64_release_1.3.0/src/learner.cc:1061: Starting in XGBoost 1.3.0, the default evaluation metric used with the objective 'binary:logistic' was changed from 'error' to 'logloss'. Explicitly set eval_metric if you'd like to restore the old behavior.\n",
      "[17:28:56] WARNING: C:/Users/Administrator/workspace/xgboost-win64_release_1.3.0/src/learner.cc:1061: Starting in XGBoost 1.3.0, the default evaluation metric used with the objective 'binary:logistic' was changed from 'error' to 'logloss'. Explicitly set eval_metric if you'd like to restore the old behavior.\n",
      "[17:28:56] WARNING: C:/Users/Administrator/workspace/xgboost-win64_release_1.3.0/src/learner.cc:1061: Starting in XGBoost 1.3.0, the default evaluation metric used with the objective 'binary:logistic' was changed from 'error' to 'logloss'. Explicitly set eval_metric if you'd like to restore the old behavior.\n",
      "[17:28:56] WARNING: C:/Users/Administrator/workspace/xgboost-win64_release_1.3.0/src/learner.cc:1061: Starting in XGBoost 1.3.0, the default evaluation metric used with the objective 'binary:logistic' was changed from 'error' to 'logloss'. Explicitly set eval_metric if you'd like to restore the old behavior.\n",
      "[17:28:56] WARNING: C:/Users/Administrator/workspace/xgboost-win64_release_1.3.0/src/learner.cc:1061: Starting in XGBoost 1.3.0, the default evaluation metric used with the objective 'binary:logistic' was changed from 'error' to 'logloss'. Explicitly set eval_metric if you'd like to restore the old behavior.\n",
      "[17:28:57] WARNING: C:/Users/Administrator/workspace/xgboost-win64_release_1.3.0/src/learner.cc:1061: Starting in XGBoost 1.3.0, the default evaluation metric used with the objective 'binary:logistic' was changed from 'error' to 'logloss'. Explicitly set eval_metric if you'd like to restore the old behavior.\n",
      "[17:28:57] WARNING: C:/Users/Administrator/workspace/xgboost-win64_release_1.3.0/src/learner.cc:1061: Starting in XGBoost 1.3.0, the default evaluation metric used with the objective 'binary:logistic' was changed from 'error' to 'logloss'. Explicitly set eval_metric if you'd like to restore the old behavior.\n",
      "[17:28:57] WARNING: C:/Users/Administrator/workspace/xgboost-win64_release_1.3.0/src/learner.cc:1061: Starting in XGBoost 1.3.0, the default evaluation metric used with the objective 'binary:logistic' was changed from 'error' to 'logloss'. Explicitly set eval_metric if you'd like to restore the old behavior.\n",
      "[17:28:57] WARNING: C:/Users/Administrator/workspace/xgboost-win64_release_1.3.0/src/learner.cc:1061: Starting in XGBoost 1.3.0, the default evaluation metric used with the objective 'binary:logistic' was changed from 'error' to 'logloss'. Explicitly set eval_metric if you'd like to restore the old behavior.\n",
      "[17:28:58] WARNING: C:/Users/Administrator/workspace/xgboost-win64_release_1.3.0/src/learner.cc:1061: Starting in XGBoost 1.3.0, the default evaluation metric used with the objective 'binary:logistic' was changed from 'error' to 'logloss'. Explicitly set eval_metric if you'd like to restore the old behavior.\n",
      "[17:28:58] WARNING: C:/Users/Administrator/workspace/xgboost-win64_release_1.3.0/src/learner.cc:1061: Starting in XGBoost 1.3.0, the default evaluation metric used with the objective 'binary:logistic' was changed from 'error' to 'logloss'. Explicitly set eval_metric if you'd like to restore the old behavior.\n",
      "[17:28:58] WARNING: C:/Users/Administrator/workspace/xgboost-win64_release_1.3.0/src/learner.cc:1061: Starting in XGBoost 1.3.0, the default evaluation metric used with the objective 'binary:logistic' was changed from 'error' to 'logloss'. Explicitly set eval_metric if you'd like to restore the old behavior.\n",
      "[17:28:58] WARNING: C:/Users/Administrator/workspace/xgboost-win64_release_1.3.0/src/learner.cc:1061: Starting in XGBoost 1.3.0, the default evaluation metric used with the objective 'binary:logistic' was changed from 'error' to 'logloss'. Explicitly set eval_metric if you'd like to restore the old behavior.\n",
      "[17:28:58] WARNING: C:/Users/Administrator/workspace/xgboost-win64_release_1.3.0/src/learner.cc:1061: Starting in XGBoost 1.3.0, the default evaluation metric used with the objective 'binary:logistic' was changed from 'error' to 'logloss'. Explicitly set eval_metric if you'd like to restore the old behavior.\n",
      "[17:28:58] WARNING: C:/Users/Administrator/workspace/xgboost-win64_release_1.3.0/src/learner.cc:1061: Starting in XGBoost 1.3.0, the default evaluation metric used with the objective 'binary:logistic' was changed from 'error' to 'logloss'. Explicitly set eval_metric if you'd like to restore the old behavior.\n",
      "[17:28:58] WARNING: C:/Users/Administrator/workspace/xgboost-win64_release_1.3.0/src/learner.cc:1061: Starting in XGBoost 1.3.0, the default evaluation metric used with the objective 'binary:logistic' was changed from 'error' to 'logloss'. Explicitly set eval_metric if you'd like to restore the old behavior.\n",
      "[17:28:59] WARNING: C:/Users/Administrator/workspace/xgboost-win64_release_1.3.0/src/learner.cc:1061: Starting in XGBoost 1.3.0, the default evaluation metric used with the objective 'binary:logistic' was changed from 'error' to 'logloss'. Explicitly set eval_metric if you'd like to restore the old behavior.\n",
      "[17:28:59] WARNING: C:/Users/Administrator/workspace/xgboost-win64_release_1.3.0/src/learner.cc:1061: Starting in XGBoost 1.3.0, the default evaluation metric used with the objective 'binary:logistic' was changed from 'error' to 'logloss'. Explicitly set eval_metric if you'd like to restore the old behavior.\n",
      "[17:28:59] WARNING: C:/Users/Administrator/workspace/xgboost-win64_release_1.3.0/src/learner.cc:1061: Starting in XGBoost 1.3.0, the default evaluation metric used with the objective 'binary:logistic' was changed from 'error' to 'logloss'. Explicitly set eval_metric if you'd like to restore the old behavior.\n",
      "[17:28:59] WARNING: C:/Users/Administrator/workspace/xgboost-win64_release_1.3.0/src/learner.cc:1061: Starting in XGBoost 1.3.0, the default evaluation metric used with the objective 'binary:logistic' was changed from 'error' to 'logloss'. Explicitly set eval_metric if you'd like to restore the old behavior.\n",
      "[17:29:00] WARNING: C:/Users/Administrator/workspace/xgboost-win64_release_1.3.0/src/learner.cc:1061: Starting in XGBoost 1.3.0, the default evaluation metric used with the objective 'binary:logistic' was changed from 'error' to 'logloss'. Explicitly set eval_metric if you'd like to restore the old behavior.\n",
      "[17:29:00] WARNING: C:/Users/Administrator/workspace/xgboost-win64_release_1.3.0/src/learner.cc:1061: Starting in XGBoost 1.3.0, the default evaluation metric used with the objective 'binary:logistic' was changed from 'error' to 'logloss'. Explicitly set eval_metric if you'd like to restore the old behavior.\n",
      "[17:29:00] WARNING: C:/Users/Administrator/workspace/xgboost-win64_release_1.3.0/src/learner.cc:1061: Starting in XGBoost 1.3.0, the default evaluation metric used with the objective 'binary:logistic' was changed from 'error' to 'logloss'. Explicitly set eval_metric if you'd like to restore the old behavior.\n",
      "[17:29:00] WARNING: C:/Users/Administrator/workspace/xgboost-win64_release_1.3.0/src/learner.cc:1061: Starting in XGBoost 1.3.0, the default evaluation metric used with the objective 'binary:logistic' was changed from 'error' to 'logloss'. Explicitly set eval_metric if you'd like to restore the old behavior.\n",
      "[17:29:01] WARNING: C:/Users/Administrator/workspace/xgboost-win64_release_1.3.0/src/learner.cc:1061: Starting in XGBoost 1.3.0, the default evaluation metric used with the objective 'binary:logistic' was changed from 'error' to 'logloss'. Explicitly set eval_metric if you'd like to restore the old behavior.\n",
      "[17:29:01] WARNING: C:/Users/Administrator/workspace/xgboost-win64_release_1.3.0/src/learner.cc:1061: Starting in XGBoost 1.3.0, the default evaluation metric used with the objective 'binary:logistic' was changed from 'error' to 'logloss'. Explicitly set eval_metric if you'd like to restore the old behavior.\n",
      "[17:29:01] WARNING: C:/Users/Administrator/workspace/xgboost-win64_release_1.3.0/src/learner.cc:1061: Starting in XGBoost 1.3.0, the default evaluation metric used with the objective 'binary:logistic' was changed from 'error' to 'logloss'. Explicitly set eval_metric if you'd like to restore the old behavior.\n",
      "100%|█████████████████████████████████████████████████| 5/5 [00:09<00:00,  1.99s/trial, best loss: 0.35943584451324395]\n",
      "Best:  {'colsample_bytree': 0.65, 'learning_rate': 0.1, 'max_depth': 30, 'min_child_weight': 21.0, 'reg_alpha': 0.8500000000000001, 'reg_lambda': 1.0, 'subsample': 1.0}\n"
     ]
    }
   ],
   "source": [
    "def objective(space):\n",
    "   \n",
    "    xgboost = xgb.XGBClassifier(\n",
    "        random_state=8,\n",
    "        max_depth = int(space['max_depth']),\n",
    "        learning_rate = space['learning_rate'],\n",
    "        min_child_weight = space['min_child_weight'],\n",
    "        colsample_bytree = space['colsample_bytree'],\n",
    "        subsample = space['subsample'],\n",
    "        reg_lambda = space['reg_lambda'],\n",
    "        reg_alpha = space['reg_alpha'],\n",
    "        use_label_encoder=False\n",
    "    )\n",
    "    \n",
    "    acc = cross_val_score(xgboost, x_train, y_train, cv=10, scoring=\"accuracy\").mean()\n",
    "\n",
    "    return{'loss': 1-acc, 'status': STATUS_OK }\n",
    "best1 = fmin(\n",
    "    fn=objective,   \n",
    "    space=space,       \n",
    "    algo=tpe.suggest,       \n",
    "    max_evals=5\n",
    ")\n",
    "print(\"Best: \", best1)"
   ]
  },
  {
   "cell_type": "code",
   "execution_count": 6,
   "id": "adjacent-berkeley",
   "metadata": {},
   "outputs": [
    {
     "name": "stdout",
     "output_type": "stream",
     "text": [
      "[17:29:02] WARNING: C:/Users/Administrator/workspace/xgboost-win64_release_1.3.0/src/learner.cc:1061: Starting in XGBoost 1.3.0, the default evaluation metric used with the objective 'binary:logistic' was changed from 'error' to 'logloss'. Explicitly set eval_metric if you'd like to restore the old behavior.\n"
     ]
    },
    {
     "data": {
      "text/html": [
       "<div style=\"padding: 1rem; background: #2E3440; font-family: Ubuntu, 'Helvetica Neue', 'Segoe UI';\"><div style=\"max-width: 100%; height: 2rem; display: flex;\"><span style=\"min-width: 5rem; margin-top: 0.5rem; margin-right: 1rem;\"></span><div style=\"width: 100%; height: 2rem; display: flex; justify-content: space-evenly; padding: 0.25rem; text-align: center; font-weight: 700\"><span style=\"width: 6rem; margin-top: 0.25em; color: #EBCB8B\">AUROC</span><span style=\"width: 6rem; margin-top: 0.25em; color: #A3BE8C;\">Accuracy</span><span style=\"width: 6rem; margin-top: 0.25em; color: #BF616A\">F1</span><span style=\"width: 6rem; margin-top: 0.25em; color: #B48EAD\">Recall</span><span style=\"width: 6rem; margin-top: 0.25em; color: #B48EAD\">Precision</span><span style=\"width: 6rem; margin-top: 0.25em; color: #D08770\">R2</span></div></div><div style=\"max-width: 100%; height: 2rem; display: flex; margin-top: 0.5rem;\"><div style=\"min-width: 5rem; margin-top: 0.5rem; margin-right: 1rem; font-weight: 700; color: ghostwhite;\">Validation</div><div style=\"width: 100%; height: 2rem; display: flex; justify-content: space-evenly; padding: 0.25rem; border-radius: 4px; box-shadow: 0 4px 6px 2px black; text-align: center; background: #3B4252\"><span style=\"width: 6rem; margin-top: 0.25em; color: #EBCB8B\">0.67990258</span><span style=\"width: 6rem; margin-top: 0.25em; color: #A3BE8C\">0.63380282</span><span style=\"width: 6rem; margin-top: 0.25em; color: #BF616A\">0.63207547</span><span style=\"width: 6rem; margin-top: 0.25em; color: #B48EAD\">0.62910798</span><span style=\"width: 6rem; margin-top: 0.25em; color: #B48EAD\">0.63507109</span><span style=\"width: 6rem; margin-top: 0.25em; color: #D08770\">0.63380282</span></div></div><div style=\"max-width: 100%; height: 2rem; display: flex; margin-top: 1.5rem; margin-bottom: 1rem;\"><div style=\"min-width: 5rem; margin-top: 0.5rem; margin-right: 1rem; font-weight: 700; color: ghostwhite;\">Training</div><div style=\"width: 100%; height: 2rem; display: flex; justify-content: space-evenly; padding: 0.25rem; border-radius: 4px; box-shadow: 0 4px 6px 2px black; text-align: center; background: #3B4252\"><span style=\"width: 6rem; margin-top: 0.25em; color: #EBCB8B\">0.89289872</span><span style=\"width: 6rem; margin-top: 0.25em; color: #A3BE8C\">0.80916031</span><span style=\"width: 6rem; margin-top: 0.25em; color: #BF616A\">0.8100526</span><span style=\"width: 6rem; margin-top: 0.25em; color: #B48EAD\">0.81433608</span><span style=\"width: 6rem; margin-top: 0.25em; color: #B48EAD\">0.80581395</span><span style=\"width: 6rem; margin-top: 0.25em; color: #D08770\">0.80916031</span></div></div></div>"
      ],
      "text/plain": [
       "<IPython.core.display.HTML object>"
      ]
     },
     "metadata": {},
     "output_type": "display_data"
    },
    {
     "data": {
      "image/png": "[encoded data removed]",
      "text/plain": [
       "<Figure size 432x288 with 2 Axes>"
      ]
     },
     "metadata": {
      "needs_background": "light"
     },
     "output_type": "display_data"
    },
    {
     "name": "stdout",
     "output_type": "stream",
     "text": [
      "XGBClassifier(base_score=0.5, booster='gbtree', colsample_bylevel=1,\n",
      "              colsample_bynode=1, colsample_bytree=0.65, gamma=0, gpu_id=-1,\n",
      "              importance_type='gain', interaction_constraints='',\n",
      "              learning_rate=0.1, max_delta_step=0, max_depth=30,\n",
      "              min_child_weight=21.0, missing=nan, monotone_constraints='()',\n",
      "              n_estimators=100, n_jobs=8, num_parallel_tree=1, random_state=8,\n",
      "              reg_alpha=0.8500000000000001, reg_lambda=1.0, scale_pos_weight=1,\n",
      "              subsample=1.0, tree_method='exact', use_label_encoder=False,\n",
      "              validate_parameters=1, verbosity=None)\n"
     ]
    },
    {
     "data": {
      "text/plain": [
       "(XGBClassifier(base_score=0.5, booster='gbtree', colsample_bylevel=1,\n",
       "               colsample_bynode=1, colsample_bytree=0.65, gamma=0, gpu_id=-1,\n",
       "               importance_type='gain', interaction_constraints='',\n",
       "               learning_rate=0.1, max_delta_step=0, max_depth=30,\n",
       "               min_child_weight=21.0, missing=nan, monotone_constraints='()',\n",
       "               n_estimators=100, n_jobs=8, num_parallel_tree=1, random_state=8,\n",
       "               reg_alpha=0.8500000000000001, reg_lambda=1.0, scale_pos_weight=1,\n",
       "               subsample=1.0, tree_method='exact', use_label_encoder=False,\n",
       "               validate_parameters=1, verbosity=None),\n",
       " 0.8928987162300084,\n",
       " 0.6799025766492539)"
      ]
     },
     "execution_count": 6,
     "metadata": {},
     "output_type": "execute_result"
    }
   ],
   "source": [
    "xgboost1 = xgb.XGBClassifier(\n",
    "    random_state=8,\n",
    "    max_depth = int(best1['max_depth']),\n",
    "    learning_rate = best1['learning_rate'],\n",
    "    min_child_weight = best1['min_child_weight'],\n",
    "    colsample_bytree = best1['colsample_bytree'],\n",
    "    subsample = best1['subsample'],\n",
    "    reg_lambda = best1['reg_lambda'],\n",
    "    reg_alpha = best1['reg_alpha'],\n",
    "    use_label_encoder=False\n",
    ")\n",
    "evm.eval_model(xgboost1,x_train,y_train,x_val,y_val)"
   ]
  },
  {
   "cell_type": "code",
   "execution_count": 7,
   "id": "provincial-presence",
   "metadata": {},
   "outputs": [
    {
     "name": "stdout",
     "output_type": "stream",
     "text": [
      "[17:29:04] WARNING: C:/Users/Administrator/workspace/xgboost-win64_release_1.3.0/src/learner.cc:1061: Starting in XGBoost 1.3.0, the default evaluation metric used with the objective 'binary:logistic' was changed from 'error' to 'logloss'. Explicitly set eval_metric if you'd like to restore the old behavior.\n",
      "[17:29:04] WARNING: C:/Users/Administrator/workspace/xgboost-win64_release_1.3.0/src/learner.cc:1061: Starting in XGBoost 1.3.0, the default evaluation metric used with the objective 'binary:logistic' was changed from 'error' to 'logloss'. Explicitly set eval_metric if you'd like to restore the old behavior.\n",
      "[17:29:04] WARNING: C:/Users/Administrator/workspace/xgboost-win64_release_1.3.0/src/learner.cc:1061: Starting in XGBoost 1.3.0, the default evaluation metric used with the objective 'binary:logistic' was changed from 'error' to 'logloss'. Explicitly set eval_metric if you'd like to restore the old behavior.\n",
      "[17:29:04] WARNING: C:/Users/Administrator/workspace/xgboost-win64_release_1.3.0/src/learner.cc:1061: Starting in XGBoost 1.3.0, the default evaluation metric used with the objective 'binary:logistic' was changed from 'error' to 'logloss'. Explicitly set eval_metric if you'd like to restore the old behavior.\n",
      "[17:29:05] WARNING: C:/Users/Administrator/workspace/xgboost-win64_release_1.3.0/src/learner.cc:1061: Starting in XGBoost 1.3.0, the default evaluation metric used with the objective 'binary:logistic' was changed from 'error' to 'logloss'. Explicitly set eval_metric if you'd like to restore the old behavior.\n",
      "[17:29:05] WARNING: C:/Users/Administrator/workspace/xgboost-win64_release_1.3.0/src/learner.cc:1061: Starting in XGBoost 1.3.0, the default evaluation metric used with the objective 'binary:logistic' was changed from 'error' to 'logloss'. Explicitly set eval_metric if you'd like to restore the old behavior.\n",
      "[17:29:05] WARNING: C:/Users/Administrator/workspace/xgboost-win64_release_1.3.0/src/learner.cc:1061: Starting in XGBoost 1.3.0, the default evaluation metric used with the objective 'binary:logistic' was changed from 'error' to 'logloss'. Explicitly set eval_metric if you'd like to restore the old behavior.\n",
      "[17:29:05] WARNING: C:/Users/Administrator/workspace/xgboost-win64_release_1.3.0/src/learner.cc:1061: Starting in XGBoost 1.3.0, the default evaluation metric used with the objective 'binary:logistic' was changed from 'error' to 'logloss'. Explicitly set eval_metric if you'd like to restore the old behavior.\n",
      "[17:29:05] WARNING: C:/Users/Administrator/workspace/xgboost-win64_release_1.3.0/src/learner.cc:1061: Starting in XGBoost 1.3.0, the default evaluation metric used with the objective 'binary:logistic' was changed from 'error' to 'logloss'. Explicitly set eval_metric if you'd like to restore the old behavior.\n",
      "[17:29:05] WARNING: C:/Users/Administrator/workspace/xgboost-win64_release_1.3.0/src/learner.cc:1061: Starting in XGBoost 1.3.0, the default evaluation metric used with the objective 'binary:logistic' was changed from 'error' to 'logloss'. Explicitly set eval_metric if you'd like to restore the old behavior.\n",
      "[17:29:05] WARNING: C:/Users/Administrator/workspace/xgboost-win64_release_1.3.0/src/learner.cc:1061: Starting in XGBoost 1.3.0, the default evaluation metric used with the objective 'binary:logistic' was changed from 'error' to 'logloss'. Explicitly set eval_metric if you'd like to restore the old behavior.\n",
      "[17:29:06] WARNING: C:/Users/Administrator/workspace/xgboost-win64_release_1.3.0/src/learner.cc:1061: Starting in XGBoost 1.3.0, the default evaluation metric used with the objective 'binary:logistic' was changed from 'error' to 'logloss'. Explicitly set eval_metric if you'd like to restore the old behavior.\n",
      "[17:29:07] WARNING: C:/Users/Administrator/workspace/xgboost-win64_release_1.3.0/src/learner.cc:1061: Starting in XGBoost 1.3.0, the default evaluation metric used with the objective 'binary:logistic' was changed from 'error' to 'logloss'. Explicitly set eval_metric if you'd like to restore the old behavior.\n",
      "[17:29:07] WARNING: C:/Users/Administrator/workspace/xgboost-win64_release_1.3.0/src/learner.cc:1061: Starting in XGBoost 1.3.0, the default evaluation metric used with the objective 'binary:logistic' was changed from 'error' to 'logloss'. Explicitly set eval_metric if you'd like to restore the old behavior.\n",
      "[17:29:07] WARNING: C:/Users/Administrator/workspace/xgboost-win64_release_1.3.0/src/learner.cc:1061: Starting in XGBoost 1.3.0, the default evaluation metric used with the objective 'binary:logistic' was changed from 'error' to 'logloss'. Explicitly set eval_metric if you'd like to restore the old behavior.\n",
      "[17:29:08] WARNING: C:/Users/Administrator/workspace/xgboost-win64_release_1.3.0/src/learner.cc:1061: Starting in XGBoost 1.3.0, the default evaluation metric used with the objective 'binary:logistic' was changed from 'error' to 'logloss'. Explicitly set eval_metric if you'd like to restore the old behavior.\n",
      "[17:29:08] WARNING: C:/Users/Administrator/workspace/xgboost-win64_release_1.3.0/src/learner.cc:1061: Starting in XGBoost 1.3.0, the default evaluation metric used with the objective 'binary:logistic' was changed from 'error' to 'logloss'. Explicitly set eval_metric if you'd like to restore the old behavior.\n",
      "[17:29:09] WARNING: C:/Users/Administrator/workspace/xgboost-win64_release_1.3.0/src/learner.cc:1061: Starting in XGBoost 1.3.0, the default evaluation metric used with the objective 'binary:logistic' was changed from 'error' to 'logloss'. Explicitly set eval_metric if you'd like to restore the old behavior.\n",
      "[17:29:09] WARNING: C:/Users/Administrator/workspace/xgboost-win64_release_1.3.0/src/learner.cc:1061: Starting in XGBoost 1.3.0, the default evaluation metric used with the objective 'binary:logistic' was changed from 'error' to 'logloss'. Explicitly set eval_metric if you'd like to restore the old behavior.\n",
      "[17:29:09] WARNING: C:/Users/Administrator/workspace/xgboost-win64_release_1.3.0/src/learner.cc:1061: Starting in XGBoost 1.3.0, the default evaluation metric used with the objective 'binary:logistic' was changed from 'error' to 'logloss'. Explicitly set eval_metric if you'd like to restore the old behavior.\n",
      "[17:29:10] WARNING: C:/Users/Administrator/workspace/xgboost-win64_release_1.3.0/src/learner.cc:1061: Starting in XGBoost 1.3.0, the default evaluation metric used with the objective 'binary:logistic' was changed from 'error' to 'logloss'. Explicitly set eval_metric if you'd like to restore the old behavior.\n",
      "[17:29:10] WARNING: C:/Users/Administrator/workspace/xgboost-win64_release_1.3.0/src/learner.cc:1061: Starting in XGBoost 1.3.0, the default evaluation metric used with the objective 'binary:logistic' was changed from 'error' to 'logloss'. Explicitly set eval_metric if you'd like to restore the old behavior.\n",
      "[17:29:10] WARNING: C:/Users/Administrator/workspace/xgboost-win64_release_1.3.0/src/learner.cc:1061: Starting in XGBoost 1.3.0, the default evaluation metric used with the objective 'binary:logistic' was changed from 'error' to 'logloss'. Explicitly set eval_metric if you'd like to restore the old behavior.\n",
      "[17:29:10] WARNING: C:/Users/Administrator/workspace/xgboost-win64_release_1.3.0/src/learner.cc:1061: Starting in XGBoost 1.3.0, the default evaluation metric used with the objective 'binary:logistic' was changed from 'error' to 'logloss'. Explicitly set eval_metric if you'd like to restore the old behavior.\n",
      "[17:29:11] WARNING: C:/Users/Administrator/workspace/xgboost-win64_release_1.3.0/src/learner.cc:1061: Starting in XGBoost 1.3.0, the default evaluation metric used with the objective 'binary:logistic' was changed from 'error' to 'logloss'. Explicitly set eval_metric if you'd like to restore the old behavior.\n",
      "[17:29:11] WARNING: C:/Users/Administrator/workspace/xgboost-win64_release_1.3.0/src/learner.cc:1061: Starting in XGBoost 1.3.0, the default evaluation metric used with the objective 'binary:logistic' was changed from 'error' to 'logloss'. Explicitly set eval_metric if you'd like to restore the old behavior.\n",
      "[17:29:11] WARNING: C:/Users/Administrator/workspace/xgboost-win64_release_1.3.0/src/learner.cc:1061: Starting in XGBoost 1.3.0, the default evaluation metric used with the objective 'binary:logistic' was changed from 'error' to 'logloss'. Explicitly set eval_metric if you'd like to restore the old behavior.\n",
      "[17:29:11] WARNING: C:/Users/Administrator/workspace/xgboost-win64_release_1.3.0/src/learner.cc:1061: Starting in XGBoost 1.3.0, the default evaluation metric used with the objective 'binary:logistic' was changed from 'error' to 'logloss'. Explicitly set eval_metric if you'd like to restore the old behavior.\n",
      "[17:29:11] WARNING: C:/Users/Administrator/workspace/xgboost-win64_release_1.3.0/src/learner.cc:1061: Starting in XGBoost 1.3.0, the default evaluation metric used with the objective 'binary:logistic' was changed from 'error' to 'logloss'. Explicitly set eval_metric if you'd like to restore the old behavior.\n",
      "[17:29:11] WARNING: C:/Users/Administrator/workspace/xgboost-win64_release_1.3.0/src/learner.cc:1061: Starting in XGBoost 1.3.0, the default evaluation metric used with the objective 'binary:logistic' was changed from 'error' to 'logloss'. Explicitly set eval_metric if you'd like to restore the old behavior.\n",
      "[17:29:11] WARNING: C:/Users/Administrator/workspace/xgboost-win64_release_1.3.0/src/learner.cc:1061: Starting in XGBoost 1.3.0, the default evaluation metric used with the objective 'binary:logistic' was changed from 'error' to 'logloss'. Explicitly set eval_metric if you'd like to restore the old behavior.\n",
      "[17:29:12] WARNING: C:/Users/Administrator/workspace/xgboost-win64_release_1.3.0/src/learner.cc:1061: Starting in XGBoost 1.3.0, the default evaluation metric used with the objective 'binary:logistic' was changed from 'error' to 'logloss'. Explicitly set eval_metric if you'd like to restore the old behavior.\n",
      "[17:29:12] WARNING: C:/Users/Administrator/workspace/xgboost-win64_release_1.3.0/src/learner.cc:1061: Starting in XGBoost 1.3.0, the default evaluation metric used with the objective 'binary:logistic' was changed from 'error' to 'logloss'. Explicitly set eval_metric if you'd like to restore the old behavior.\n",
      "[17:29:12] WARNING: C:/Users/Administrator/workspace/xgboost-win64_release_1.3.0/src/learner.cc:1061: Starting in XGBoost 1.3.0, the default evaluation metric used with the objective 'binary:logistic' was changed from 'error' to 'logloss'. Explicitly set eval_metric if you'd like to restore the old behavior.\n",
      "[17:29:12] WARNING: C:/Users/Administrator/workspace/xgboost-win64_release_1.3.0/src/learner.cc:1061: Starting in XGBoost 1.3.0, the default evaluation metric used with the objective 'binary:logistic' was changed from 'error' to 'logloss'. Explicitly set eval_metric if you'd like to restore the old behavior.\n",
      "[17:29:12] WARNING: C:/Users/Administrator/workspace/xgboost-win64_release_1.3.0/src/learner.cc:1061: Starting in XGBoost 1.3.0, the default evaluation metric used with the objective 'binary:logistic' was changed from 'error' to 'logloss'. Explicitly set eval_metric if you'd like to restore the old behavior.\n",
      "[17:29:12] WARNING: C:/Users/Administrator/workspace/xgboost-win64_release_1.3.0/src/learner.cc:1061: Starting in XGBoost 1.3.0, the default evaluation metric used with the objective 'binary:logistic' was changed from 'error' to 'logloss'. Explicitly set eval_metric if you'd like to restore the old behavior.\n",
      "[17:29:13] WARNING: C:/Users/Administrator/workspace/xgboost-win64_release_1.3.0/src/learner.cc:1061: Starting in XGBoost 1.3.0, the default evaluation metric used with the objective 'binary:logistic' was changed from 'error' to 'logloss'. Explicitly set eval_metric if you'd like to restore the old behavior.\n",
      "[17:29:13] WARNING: C:/Users/Administrator/workspace/xgboost-win64_release_1.3.0/src/learner.cc:1061: Starting in XGBoost 1.3.0, the default evaluation metric used with the objective 'binary:logistic' was changed from 'error' to 'logloss'. Explicitly set eval_metric if you'd like to restore the old behavior.\n",
      "[17:29:13] WARNING: C:/Users/Administrator/workspace/xgboost-win64_release_1.3.0/src/learner.cc:1061: Starting in XGBoost 1.3.0, the default evaluation metric used with the objective 'binary:logistic' was changed from 'error' to 'logloss'. Explicitly set eval_metric if you'd like to restore the old behavior.\n",
      "[17:29:13] WARNING: C:/Users/Administrator/workspace/xgboost-win64_release_1.3.0/src/learner.cc:1061: Starting in XGBoost 1.3.0, the default evaluation metric used with the objective 'binary:logistic' was changed from 'error' to 'logloss'. Explicitly set eval_metric if you'd like to restore the old behavior.\n",
      "[17:29:14] WARNING: C:/Users/Administrator/workspace/xgboost-win64_release_1.3.0/src/learner.cc:1061: Starting in XGBoost 1.3.0, the default evaluation metric used with the objective 'binary:logistic' was changed from 'error' to 'logloss'. Explicitly set eval_metric if you'd like to restore the old behavior.\n",
      "[17:29:14] WARNING: C:/Users/Administrator/workspace/xgboost-win64_release_1.3.0/src/learner.cc:1061: Starting in XGBoost 1.3.0, the default evaluation metric used with the objective 'binary:logistic' was changed from 'error' to 'logloss'. Explicitly set eval_metric if you'd like to restore the old behavior.\n",
      "[17:29:15] WARNING: C:/Users/Administrator/workspace/xgboost-win64_release_1.3.0/src/learner.cc:1061: Starting in XGBoost 1.3.0, the default evaluation metric used with the objective 'binary:logistic' was changed from 'error' to 'logloss'. Explicitly set eval_metric if you'd like to restore the old behavior.\n",
      "[17:29:15] WARNING: C:/Users/Administrator/workspace/xgboost-win64_release_1.3.0/src/learner.cc:1061: Starting in XGBoost 1.3.0, the default evaluation metric used with the objective 'binary:logistic' was changed from 'error' to 'logloss'. Explicitly set eval_metric if you'd like to restore the old behavior.\n",
      "[17:29:16] WARNING: C:/Users/Administrator/workspace/xgboost-win64_release_1.3.0/src/learner.cc:1061: Starting in XGBoost 1.3.0, the default evaluation metric used with the objective 'binary:logistic' was changed from 'error' to 'logloss'. Explicitly set eval_metric if you'd like to restore the old behavior.\n",
      "[17:29:16] WARNING: C:/Users/Administrator/workspace/xgboost-win64_release_1.3.0/src/learner.cc:1061: Starting in XGBoost 1.3.0, the default evaluation metric used with the objective 'binary:logistic' was changed from 'error' to 'logloss'. Explicitly set eval_metric if you'd like to restore the old behavior.\n",
      "[17:29:17] WARNING: C:/Users/Administrator/workspace/xgboost-win64_release_1.3.0/src/learner.cc:1061: Starting in XGBoost 1.3.0, the default evaluation metric used with the objective 'binary:logistic' was changed from 'error' to 'logloss'. Explicitly set eval_metric if you'd like to restore the old behavior.\n",
      "[17:29:17] WARNING: C:/Users/Administrator/workspace/xgboost-win64_release_1.3.0/src/learner.cc:1061: Starting in XGBoost 1.3.0, the default evaluation metric used with the objective 'binary:logistic' was changed from 'error' to 'logloss'. Explicitly set eval_metric if you'd like to restore the old behavior.\n",
      "[17:29:18] WARNING: C:/Users/Administrator/workspace/xgboost-win64_release_1.3.0/src/learner.cc:1061: Starting in XGBoost 1.3.0, the default evaluation metric used with the objective 'binary:logistic' was changed from 'error' to 'logloss'. Explicitly set eval_metric if you'd like to restore the old behavior.\n",
      "100%|██████████████████████████████████████████████████| 5/5 [00:14<00:00,  2.87s/trial, best loss: 0.3129126901102437]\n",
      "Best:  {'colsample_bytree': 0.8, 'learning_rate': 0.1, 'max_depth': 28, 'min_child_weight': 46.0, 'reg_alpha': 0.8500000000000001, 'reg_lambda': 1.0, 'subsample': 0.30000000000000004}\n"
     ]
    }
   ],
   "source": [
    "def objective(space):\n",
    "   \n",
    "    xgboost = xgb.XGBClassifier(\n",
    "        random_state=8,\n",
    "        max_depth = int(space['max_depth']),\n",
    "        learning_rate = space['learning_rate'],\n",
    "        min_child_weight = space['min_child_weight'],\n",
    "        colsample_bytree = space['colsample_bytree'],\n",
    "        subsample = space['subsample'],\n",
    "        reg_lambda = space['reg_lambda'],\n",
    "        reg_alpha = space['reg_alpha'],\n",
    "        use_label_encoder=False\n",
    "    )\n",
    "    \n",
    "    acc = cross_val_score(xgboost, x_train, y_train, cv=10, scoring=\"roc_auc\").mean()\n",
    "\n",
    "    return{'loss': 1-acc, 'status': STATUS_OK }\n",
    "best2 = fmin(\n",
    "    fn=objective,   \n",
    "    space=space,       \n",
    "    algo=tpe.suggest,       \n",
    "    max_evals=5\n",
    ")\n",
    "print(\"Best: \", best2)"
   ]
  },
  {
   "cell_type": "code",
   "execution_count": 8,
   "id": "spanish-salem",
   "metadata": {},
   "outputs": [
    {
     "name": "stdout",
     "output_type": "stream",
     "text": [
      "[17:29:19] WARNING: C:/Users/Administrator/workspace/xgboost-win64_release_1.3.0/src/learner.cc:1061: Starting in XGBoost 1.3.0, the default evaluation metric used with the objective 'binary:logistic' was changed from 'error' to 'logloss'. Explicitly set eval_metric if you'd like to restore the old behavior.\n"
     ]
    },
    {
     "data": {
      "text/html": [
       "<div style=\"padding: 1rem; background: #2E3440; font-family: Ubuntu, 'Helvetica Neue', 'Segoe UI';\"><div style=\"max-width: 100%; height: 2rem; display: flex;\"><span style=\"min-width: 5rem; margin-top: 0.5rem; margin-right: 1rem;\"></span><div style=\"width: 100%; height: 2rem; display: flex; justify-content: space-evenly; padding: 0.25rem; text-align: center; font-weight: 700\"><span style=\"width: 6rem; margin-top: 0.25em; color: #EBCB8B\">AUROC</span><span style=\"width: 6rem; margin-top: 0.25em; color: #A3BE8C;\">Accuracy</span><span style=\"width: 6rem; margin-top: 0.25em; color: #BF616A\">F1</span><span style=\"width: 6rem; margin-top: 0.25em; color: #B48EAD\">Recall</span><span style=\"width: 6rem; margin-top: 0.25em; color: #B48EAD\">Precision</span><span style=\"width: 6rem; margin-top: 0.25em; color: #D08770\">R2</span></div></div><div style=\"max-width: 100%; height: 2rem; display: flex; margin-top: 0.5rem;\"><div style=\"min-width: 5rem; margin-top: 0.5rem; margin-right: 1rem; font-weight: 700; color: ghostwhite;\">Validation</div><div style=\"width: 100%; height: 2rem; display: flex; justify-content: space-evenly; padding: 0.25rem; border-radius: 4px; box-shadow: 0 4px 6px 2px black; text-align: center; background: #3B4252\"><span style=\"width: 6rem; margin-top: 0.25em; color: #EBCB8B\">0.68468558</span><span style=\"width: 6rem; margin-top: 0.25em; color: #A3BE8C\">0.63849765</span><span style=\"width: 6rem; margin-top: 0.25em; color: #BF616A\">0.63679245</span><span style=\"width: 6rem; margin-top: 0.25em; color: #B48EAD\">0.63380282</span><span style=\"width: 6rem; margin-top: 0.25em; color: #B48EAD\">0.63981043</span><span style=\"width: 6rem; margin-top: 0.25em; color: #D08770\">0.63849765</span></div></div><div style=\"max-width: 100%; height: 2rem; display: flex; margin-top: 1.5rem; margin-bottom: 1rem;\"><div style=\"min-width: 5rem; margin-top: 0.5rem; margin-right: 1rem; font-weight: 700; color: ghostwhite;\">Training</div><div style=\"width: 100%; height: 2rem; display: flex; justify-content: space-evenly; padding: 0.25rem; border-radius: 4px; box-shadow: 0 4px 6px 2px black; text-align: center; background: #3B4252\"><span style=\"width: 6rem; margin-top: 0.25em; color: #EBCB8B\">0.7109297</span><span style=\"width: 6rem; margin-top: 0.25em; color: #A3BE8C\">0.65296536</span><span style=\"width: 6rem; margin-top: 0.25em; color: #BF616A\">0.65499124</span><span style=\"width: 6rem; margin-top: 0.25em; color: #B48EAD\">0.65922444</span><span style=\"width: 6rem; margin-top: 0.25em; color: #B48EAD\">0.65081206</span><span style=\"width: 6rem; margin-top: 0.25em; color: #D08770\">0.65296536</span></div></div></div>"
      ],
      "text/plain": [
       "<IPython.core.display.HTML object>"
      ]
     },
     "metadata": {},
     "output_type": "display_data"
    },
    {
     "data": {
      "image/png": "[encoded data removed]",
      "text/plain": [
       "<Figure size 432x288 with 2 Axes>"
      ]
     },
     "metadata": {
      "needs_background": "light"
     },
     "output_type": "display_data"
    },
    {
     "name": "stdout",
     "output_type": "stream",
     "text": [
      "XGBClassifier(base_score=0.5, booster='gbtree', colsample_bylevel=1,\n",
      "              colsample_bynode=1, colsample_bytree=0.8, gamma=0, gpu_id=-1,\n",
      "              importance_type='gain', interaction_constraints='',\n",
      "              learning_rate=0.1, max_delta_step=0, max_depth=28,\n",
      "              min_child_weight=46.0, missing=nan, monotone_constraints='()',\n",
      "              n_estimators=100, n_jobs=8, num_parallel_tree=1, random_state=8,\n",
      "              reg_alpha=0.8500000000000001, reg_lambda=1.0, scale_pos_weight=1,\n",
      "              subsample=0.30000000000000004, tree_method='exact',\n",
      "              use_label_encoder=False, validate_parameters=1, verbosity=None)\n"
     ]
    },
    {
     "data": {
      "text/plain": [
       "(XGBClassifier(base_score=0.5, booster='gbtree', colsample_bylevel=1,\n",
       "               colsample_bynode=1, colsample_bytree=0.8, gamma=0, gpu_id=-1,\n",
       "               importance_type='gain', interaction_constraints='',\n",
       "               learning_rate=0.1, max_delta_step=0, max_depth=28,\n",
       "               min_child_weight=46.0, missing=nan, monotone_constraints='()',\n",
       "               n_estimators=100, n_jobs=8, num_parallel_tree=1, random_state=8,\n",
       "               reg_alpha=0.8500000000000001, reg_lambda=1.0, scale_pos_weight=1,\n",
       "               subsample=0.30000000000000004, tree_method='exact',\n",
       "               use_label_encoder=False, validate_parameters=1, verbosity=None),\n",
       " 0.7109296988353939,\n",
       " 0.684685578258282)"
      ]
     },
     "execution_count": 8,
     "metadata": {},
     "output_type": "execute_result"
    }
   ],
   "source": [
    "xgboost2 = xgb.XGBClassifier(\n",
    "    random_state=8,\n",
    "    max_depth = int(best2['max_depth']),\n",
    "    learning_rate = best2['learning_rate'],\n",
    "    min_child_weight = best2['min_child_weight'],\n",
    "    colsample_bytree = best2['colsample_bytree'],\n",
    "    subsample = best2['subsample'],\n",
    "    reg_lambda = best2['reg_lambda'],\n",
    "    reg_alpha = best2['reg_alpha'],\n",
    "    use_label_encoder=False,\n",
    ")\n",
    "evm.eval_model(xgboost2,x_train,y_train,x_val,y_val)"
   ]
  },
  {
   "cell_type": "code",
   "execution_count": 9,
   "id": "unlimited-award",
   "metadata": {},
   "outputs": [
    {
     "name": "stdout",
     "output_type": "stream",
     "text": [
      "[17:29:20] WARNING: C:/Users/Administrator/workspace/xgboost-win64_release_1.3.0/src/learner.cc:1061: Starting in XGBoost 1.3.0, the default evaluation metric used with the objective 'binary:logistic' was changed from 'error' to 'logloss'. Explicitly set eval_metric if you'd like to restore the old behavior.\n",
      "[17:29:20] WARNING: C:/Users/Administrator/workspace/xgboost-win64_release_1.3.0/src/learner.cc:1061: Starting in XGBoost 1.3.0, the default evaluation metric used with the objective 'binary:logistic' was changed from 'error' to 'logloss'. Explicitly set eval_metric if you'd like to restore the old behavior.\n",
      "[17:29:21] WARNING: C:/Users/Administrator/workspace/xgboost-win64_release_1.3.0/src/learner.cc:1061: Starting in XGBoost 1.3.0, the default evaluation metric used with the objective 'binary:logistic' was changed from 'error' to 'logloss'. Explicitly set eval_metric if you'd like to restore the old behavior.\n",
      "[17:29:21] WARNING: C:/Users/Administrator/workspace/xgboost-win64_release_1.3.0/src/learner.cc:1061: Starting in XGBoost 1.3.0, the default evaluation metric used with the objective 'binary:logistic' was changed from 'error' to 'logloss'. Explicitly set eval_metric if you'd like to restore the old behavior.\n",
      "[17:29:21] WARNING: C:/Users/Administrator/workspace/xgboost-win64_release_1.3.0/src/learner.cc:1061: Starting in XGBoost 1.3.0, the default evaluation metric used with the objective 'binary:logistic' was changed from 'error' to 'logloss'. Explicitly set eval_metric if you'd like to restore the old behavior.\n",
      "[17:29:21] WARNING: C:/Users/Administrator/workspace/xgboost-win64_release_1.3.0/src/learner.cc:1061: Starting in XGBoost 1.3.0, the default evaluation metric used with the objective 'binary:logistic' was changed from 'error' to 'logloss'. Explicitly set eval_metric if you'd like to restore the old behavior.\n",
      "[17:29:21] WARNING: C:/Users/Administrator/workspace/xgboost-win64_release_1.3.0/src/learner.cc:1061: Starting in XGBoost 1.3.0, the default evaluation metric used with the objective 'binary:logistic' was changed from 'error' to 'logloss'. Explicitly set eval_metric if you'd like to restore the old behavior.\n",
      "[17:29:22] WARNING: C:/Users/Administrator/workspace/xgboost-win64_release_1.3.0/src/learner.cc:1061: Starting in XGBoost 1.3.0, the default evaluation metric used with the objective 'binary:logistic' was changed from 'error' to 'logloss'. Explicitly set eval_metric if you'd like to restore the old behavior.\n",
      "[17:29:22] WARNING: C:/Users/Administrator/workspace/xgboost-win64_release_1.3.0/src/learner.cc:1061: Starting in XGBoost 1.3.0, the default evaluation metric used with the objective 'binary:logistic' was changed from 'error' to 'logloss'. Explicitly set eval_metric if you'd like to restore the old behavior.\n",
      "[17:29:22] WARNING: C:/Users/Administrator/workspace/xgboost-win64_release_1.3.0/src/learner.cc:1061: Starting in XGBoost 1.3.0, the default evaluation metric used with the objective 'binary:logistic' was changed from 'error' to 'logloss'. Explicitly set eval_metric if you'd like to restore the old behavior.\n",
      "[17:29:22] WARNING: C:/Users/Administrator/workspace/xgboost-win64_release_1.3.0/src/learner.cc:1061: Starting in XGBoost 1.3.0, the default evaluation metric used with the objective 'binary:logistic' was changed from 'error' to 'logloss'. Explicitly set eval_metric if you'd like to restore the old behavior.\n",
      "[17:29:23] WARNING: C:/Users/Administrator/workspace/xgboost-win64_release_1.3.0/src/learner.cc:1061: Starting in XGBoost 1.3.0, the default evaluation metric used with the objective 'binary:logistic' was changed from 'error' to 'logloss'. Explicitly set eval_metric if you'd like to restore the old behavior.\n",
      "[17:29:23] WARNING: C:/Users/Administrator/workspace/xgboost-win64_release_1.3.0/src/learner.cc:1061: Starting in XGBoost 1.3.0, the default evaluation metric used with the objective 'binary:logistic' was changed from 'error' to 'logloss'. Explicitly set eval_metric if you'd like to restore the old behavior.\n",
      "[17:29:23] WARNING: C:/Users/Administrator/workspace/xgboost-win64_release_1.3.0/src/learner.cc:1061: Starting in XGBoost 1.3.0, the default evaluation metric used with the objective 'binary:logistic' was changed from 'error' to 'logloss'. Explicitly set eval_metric if you'd like to restore the old behavior.\n",
      "[17:29:23] WARNING: C:/Users/Administrator/workspace/xgboost-win64_release_1.3.0/src/learner.cc:1061: Starting in XGBoost 1.3.0, the default evaluation metric used with the objective 'binary:logistic' was changed from 'error' to 'logloss'. Explicitly set eval_metric if you'd like to restore the old behavior.\n",
      "[17:29:23] WARNING: C:/Users/Administrator/workspace/xgboost-win64_release_1.3.0/src/learner.cc:1061: Starting in XGBoost 1.3.0, the default evaluation metric used with the objective 'binary:logistic' was changed from 'error' to 'logloss'. Explicitly set eval_metric if you'd like to restore the old behavior.\n",
      "[17:29:23] WARNING: C:/Users/Administrator/workspace/xgboost-win64_release_1.3.0/src/learner.cc:1061: Starting in XGBoost 1.3.0, the default evaluation metric used with the objective 'binary:logistic' was changed from 'error' to 'logloss'. Explicitly set eval_metric if you'd like to restore the old behavior.\n",
      "[17:29:23] WARNING: C:/Users/Administrator/workspace/xgboost-win64_release_1.3.0/src/learner.cc:1061: Starting in XGBoost 1.3.0, the default evaluation metric used with the objective 'binary:logistic' was changed from 'error' to 'logloss'. Explicitly set eval_metric if you'd like to restore the old behavior.\n",
      "[17:29:24] WARNING: C:/Users/Administrator/workspace/xgboost-win64_release_1.3.0/src/learner.cc:1061: Starting in XGBoost 1.3.0, the default evaluation metric used with the objective 'binary:logistic' was changed from 'error' to 'logloss'. Explicitly set eval_metric if you'd like to restore the old behavior.\n",
      "[17:29:24] WARNING: C:/Users/Administrator/workspace/xgboost-win64_release_1.3.0/src/learner.cc:1061: Starting in XGBoost 1.3.0, the default evaluation metric used with the objective 'binary:logistic' was changed from 'error' to 'logloss'. Explicitly set eval_metric if you'd like to restore the old behavior.\n",
      "[17:29:24] WARNING: C:/Users/Administrator/workspace/xgboost-win64_release_1.3.0/src/learner.cc:1061: Starting in XGBoost 1.3.0, the default evaluation metric used with the objective 'binary:logistic' was changed from 'error' to 'logloss'. Explicitly set eval_metric if you'd like to restore the old behavior.\n",
      "[17:29:24] WARNING: C:/Users/Administrator/workspace/xgboost-win64_release_1.3.0/src/learner.cc:1061: Starting in XGBoost 1.3.0, the default evaluation metric used with the objective 'binary:logistic' was changed from 'error' to 'logloss'. Explicitly set eval_metric if you'd like to restore the old behavior.\n",
      "[17:29:24] WARNING: C:/Users/Administrator/workspace/xgboost-win64_release_1.3.0/src/learner.cc:1061: Starting in XGBoost 1.3.0, the default evaluation metric used with the objective 'binary:logistic' was changed from 'error' to 'logloss'. Explicitly set eval_metric if you'd like to restore the old behavior.\n",
      "[17:29:25] WARNING: C:/Users/Administrator/workspace/xgboost-win64_release_1.3.0/src/learner.cc:1061: Starting in XGBoost 1.3.0, the default evaluation metric used with the objective 'binary:logistic' was changed from 'error' to 'logloss'. Explicitly set eval_metric if you'd like to restore the old behavior.\n",
      "[17:29:25] WARNING: C:/Users/Administrator/workspace/xgboost-win64_release_1.3.0/src/learner.cc:1061: Starting in XGBoost 1.3.0, the default evaluation metric used with the objective 'binary:logistic' was changed from 'error' to 'logloss'. Explicitly set eval_metric if you'd like to restore the old behavior.\n",
      "[17:29:25] WARNING: C:/Users/Administrator/workspace/xgboost-win64_release_1.3.0/src/learner.cc:1061: Starting in XGBoost 1.3.0, the default evaluation metric used with the objective 'binary:logistic' was changed from 'error' to 'logloss'. Explicitly set eval_metric if you'd like to restore the old behavior.\n",
      "[17:29:25] WARNING: C:/Users/Administrator/workspace/xgboost-win64_release_1.3.0/src/learner.cc:1061: Starting in XGBoost 1.3.0, the default evaluation metric used with the objective 'binary:logistic' was changed from 'error' to 'logloss'. Explicitly set eval_metric if you'd like to restore the old behavior.\n",
      "[17:29:25] WARNING: C:/Users/Administrator/workspace/xgboost-win64_release_1.3.0/src/learner.cc:1061: Starting in XGBoost 1.3.0, the default evaluation metric used with the objective 'binary:logistic' was changed from 'error' to 'logloss'. Explicitly set eval_metric if you'd like to restore the old behavior.\n",
      "[17:29:25] WARNING: C:/Users/Administrator/workspace/xgboost-win64_release_1.3.0/src/learner.cc:1061: Starting in XGBoost 1.3.0, the default evaluation metric used with the objective 'binary:logistic' was changed from 'error' to 'logloss'. Explicitly set eval_metric if you'd like to restore the old behavior.\n",
      "[17:29:25] WARNING: C:/Users/Administrator/workspace/xgboost-win64_release_1.3.0/src/learner.cc:1061: Starting in XGBoost 1.3.0, the default evaluation metric used with the objective 'binary:logistic' was changed from 'error' to 'logloss'. Explicitly set eval_metric if you'd like to restore the old behavior.\n",
      "[17:29:26] WARNING: C:/Users/Administrator/workspace/xgboost-win64_release_1.3.0/src/learner.cc:1061: Starting in XGBoost 1.3.0, the default evaluation metric used with the objective 'binary:logistic' was changed from 'error' to 'logloss'. Explicitly set eval_metric if you'd like to restore the old behavior.\n",
      "[17:29:26] WARNING: C:/Users/Administrator/workspace/xgboost-win64_release_1.3.0/src/learner.cc:1061: Starting in XGBoost 1.3.0, the default evaluation metric used with the objective 'binary:logistic' was changed from 'error' to 'logloss'. Explicitly set eval_metric if you'd like to restore the old behavior.\n",
      "[17:29:26] WARNING: C:/Users/Administrator/workspace/xgboost-win64_release_1.3.0/src/learner.cc:1061: Starting in XGBoost 1.3.0, the default evaluation metric used with the objective 'binary:logistic' was changed from 'error' to 'logloss'. Explicitly set eval_metric if you'd like to restore the old behavior.\n",
      "[17:29:26] WARNING: C:/Users/Administrator/workspace/xgboost-win64_release_1.3.0/src/learner.cc:1061: Starting in XGBoost 1.3.0, the default evaluation metric used with the objective 'binary:logistic' was changed from 'error' to 'logloss'. Explicitly set eval_metric if you'd like to restore the old behavior.\n",
      "[17:29:26] WARNING: C:/Users/Administrator/workspace/xgboost-win64_release_1.3.0/src/learner.cc:1061: Starting in XGBoost 1.3.0, the default evaluation metric used with the objective 'binary:logistic' was changed from 'error' to 'logloss'. Explicitly set eval_metric if you'd like to restore the old behavior.\n",
      "[17:29:27] WARNING: C:/Users/Administrator/workspace/xgboost-win64_release_1.3.0/src/learner.cc:1061: Starting in XGBoost 1.3.0, the default evaluation metric used with the objective 'binary:logistic' was changed from 'error' to 'logloss'. Explicitly set eval_metric if you'd like to restore the old behavior.\n",
      "[17:29:27] WARNING: C:/Users/Administrator/workspace/xgboost-win64_release_1.3.0/src/learner.cc:1061: Starting in XGBoost 1.3.0, the default evaluation metric used with the objective 'binary:logistic' was changed from 'error' to 'logloss'. Explicitly set eval_metric if you'd like to restore the old behavior.\n",
      "[17:29:27] WARNING: C:/Users/Administrator/workspace/xgboost-win64_release_1.3.0/src/learner.cc:1061: Starting in XGBoost 1.3.0, the default evaluation metric used with the objective 'binary:logistic' was changed from 'error' to 'logloss'. Explicitly set eval_metric if you'd like to restore the old behavior.\n",
      "[17:29:27] WARNING: C:/Users/Administrator/workspace/xgboost-win64_release_1.3.0/src/learner.cc:1061: Starting in XGBoost 1.3.0, the default evaluation metric used with the objective 'binary:logistic' was changed from 'error' to 'logloss'. Explicitly set eval_metric if you'd like to restore the old behavior.\n",
      "[17:29:27] WARNING: C:/Users/Administrator/workspace/xgboost-win64_release_1.3.0/src/learner.cc:1061: Starting in XGBoost 1.3.0, the default evaluation metric used with the objective 'binary:logistic' was changed from 'error' to 'logloss'. Explicitly set eval_metric if you'd like to restore the old behavior.\n",
      "[17:29:27] WARNING: C:/Users/Administrator/workspace/xgboost-win64_release_1.3.0/src/learner.cc:1061: Starting in XGBoost 1.3.0, the default evaluation metric used with the objective 'binary:logistic' was changed from 'error' to 'logloss'. Explicitly set eval_metric if you'd like to restore the old behavior.\n",
      "[17:29:28] WARNING: C:/Users/Administrator/workspace/xgboost-win64_release_1.3.0/src/learner.cc:1061: Starting in XGBoost 1.3.0, the default evaluation metric used with the objective 'binary:logistic' was changed from 'error' to 'logloss'. Explicitly set eval_metric if you'd like to restore the old behavior.\n",
      "[17:29:28] WARNING: C:/Users/Administrator/workspace/xgboost-win64_release_1.3.0/src/learner.cc:1061: Starting in XGBoost 1.3.0, the default evaluation metric used with the objective 'binary:logistic' was changed from 'error' to 'logloss'. Explicitly set eval_metric if you'd like to restore the old behavior.\n",
      "[17:29:28] WARNING: C:/Users/Administrator/workspace/xgboost-win64_release_1.3.0/src/learner.cc:1061: Starting in XGBoost 1.3.0, the default evaluation metric used with the objective 'binary:logistic' was changed from 'error' to 'logloss'. Explicitly set eval_metric if you'd like to restore the old behavior.\n",
      "[17:29:28] WARNING: C:/Users/Administrator/workspace/xgboost-win64_release_1.3.0/src/learner.cc:1061: Starting in XGBoost 1.3.0, the default evaluation metric used with the objective 'binary:logistic' was changed from 'error' to 'logloss'. Explicitly set eval_metric if you'd like to restore the old behavior.\n",
      "[17:29:28] WARNING: C:/Users/Administrator/workspace/xgboost-win64_release_1.3.0/src/learner.cc:1061: Starting in XGBoost 1.3.0, the default evaluation metric used with the objective 'binary:logistic' was changed from 'error' to 'logloss'. Explicitly set eval_metric if you'd like to restore the old behavior.\n",
      "[17:29:28] WARNING: C:/Users/Administrator/workspace/xgboost-win64_release_1.3.0/src/learner.cc:1061: Starting in XGBoost 1.3.0, the default evaluation metric used with the objective 'binary:logistic' was changed from 'error' to 'logloss'. Explicitly set eval_metric if you'd like to restore the old behavior.\n",
      "[17:29:29] WARNING: C:/Users/Administrator/workspace/xgboost-win64_release_1.3.0/src/learner.cc:1061: Starting in XGBoost 1.3.0, the default evaluation metric used with the objective 'binary:logistic' was changed from 'error' to 'logloss'. Explicitly set eval_metric if you'd like to restore the old behavior.\n",
      "[17:29:29] WARNING: C:/Users/Administrator/workspace/xgboost-win64_release_1.3.0/src/learner.cc:1061: Starting in XGBoost 1.3.0, the default evaluation metric used with the objective 'binary:logistic' was changed from 'error' to 'logloss'. Explicitly set eval_metric if you'd like to restore the old behavior.\n",
      "[17:29:29] WARNING: C:/Users/Administrator/workspace/xgboost-win64_release_1.3.0/src/learner.cc:1061: Starting in XGBoost 1.3.0, the default evaluation metric used with the objective 'binary:logistic' was changed from 'error' to 'logloss'. Explicitly set eval_metric if you'd like to restore the old behavior.\n",
      "100%|██████████████████████████████████████████████████| 5/5 [00:09<00:00,  1.81s/trial, best loss: 0.3635362917096664]\n",
      "Best:  {'colsample_bytree': 0.4, 'learning_rate': 0.25, 'max_depth': 21, 'min_child_weight': 70.0, 'reg_alpha': 0.2, 'reg_lambda': 0.35000000000000003, 'subsample': 0.65}\n"
     ]
    }
   ],
   "source": [
    "def objective(space):\n",
    "   \n",
    "    xgboost = xgb.XGBClassifier(\n",
    "        random_state=8,\n",
    "        max_depth = int(space['max_depth']),\n",
    "        learning_rate = space['learning_rate'],\n",
    "        min_child_weight = space['min_child_weight'],\n",
    "        colsample_bytree = space['colsample_bytree'],\n",
    "        subsample = space['subsample'],\n",
    "        reg_lambda = space['reg_lambda'],\n",
    "        reg_alpha = space['reg_alpha'],\n",
    "        use_label_encoder=False,\n",
    "        objective ='binary:logistic'\n",
    "    )\n",
    "    \n",
    "    acc = cross_val_score(xgboost, x_train, y_train, cv=10).mean()\n",
    "\n",
    "    return{'loss': 1-acc, 'status': STATUS_OK }\n",
    "best3 = fmin(\n",
    "    fn=objective,   \n",
    "    space=space,       \n",
    "    algo=tpe.suggest,       \n",
    "    max_evals=5\n",
    ")\n",
    "print(\"Best: \", best3)"
   ]
  },
  {
   "cell_type": "code",
   "execution_count": 10,
   "id": "unlikely-jonathan",
   "metadata": {},
   "outputs": [
    {
     "name": "stdout",
     "output_type": "stream",
     "text": [
      "[17:29:30] WARNING: C:/Users/Administrator/workspace/xgboost-win64_release_1.3.0/src/learner.cc:1061: Starting in XGBoost 1.3.0, the default evaluation metric used with the objective 'binary:logistic' was changed from 'error' to 'logloss'. Explicitly set eval_metric if you'd like to restore the old behavior.\n"
     ]
    },
    {
     "data": {
      "text/html": [
       "<div style=\"padding: 1rem; background: #2E3440; font-family: Ubuntu, 'Helvetica Neue', 'Segoe UI';\"><div style=\"max-width: 100%; height: 2rem; display: flex;\"><span style=\"min-width: 5rem; margin-top: 0.5rem; margin-right: 1rem;\"></span><div style=\"width: 100%; height: 2rem; display: flex; justify-content: space-evenly; padding: 0.25rem; text-align: center; font-weight: 700\"><span style=\"width: 6rem; margin-top: 0.25em; color: #EBCB8B\">AUROC</span><span style=\"width: 6rem; margin-top: 0.25em; color: #A3BE8C;\">Accuracy</span><span style=\"width: 6rem; margin-top: 0.25em; color: #BF616A\">F1</span><span style=\"width: 6rem; margin-top: 0.25em; color: #B48EAD\">Recall</span><span style=\"width: 6rem; margin-top: 0.25em; color: #B48EAD\">Precision</span><span style=\"width: 6rem; margin-top: 0.25em; color: #D08770\">R2</span></div></div><div style=\"max-width: 100%; height: 2rem; display: flex; margin-top: 0.5rem;\"><div style=\"min-width: 5rem; margin-top: 0.5rem; margin-right: 1rem; font-weight: 700; color: ghostwhite;\">Validation</div><div style=\"width: 100%; height: 2rem; display: flex; justify-content: space-evenly; padding: 0.25rem; border-radius: 4px; box-shadow: 0 4px 6px 2px black; text-align: center; background: #3B4252\"><span style=\"width: 6rem; margin-top: 0.25em; color: #EBCB8B\">0.67639798</span><span style=\"width: 6rem; margin-top: 0.25em; color: #A3BE8C\">0.62441315</span><span style=\"width: 6rem; margin-top: 0.25em; color: #BF616A\">0.62264151</span><span style=\"width: 6rem; margin-top: 0.25em; color: #B48EAD\">0.61971831</span><span style=\"width: 6rem; margin-top: 0.25em; color: #B48EAD\">0.62559242</span><span style=\"width: 6rem; margin-top: 0.25em; color: #D08770\">0.62441315</span></div></div><div style=\"max-width: 100%; height: 2rem; display: flex; margin-top: 1.5rem; margin-bottom: 1rem;\"><div style=\"min-width: 5rem; margin-top: 0.5rem; margin-right: 1rem; font-weight: 700; color: ghostwhite;\">Training</div><div style=\"width: 100%; height: 2rem; display: flex; justify-content: space-evenly; padding: 0.25rem; border-radius: 4px; box-shadow: 0 4px 6px 2px black; text-align: center; background: #3B4252\"><span style=\"width: 6rem; margin-top: 0.25em; color: #EBCB8B\">0.74432248</span><span style=\"width: 6rem; margin-top: 0.25em; color: #A3BE8C\">0.68291251</span><span style=\"width: 6rem; margin-top: 0.25em; color: #BF616A\">0.68347011</span><span style=\"width: 6rem; margin-top: 0.25em; color: #B48EAD\">0.68507638</span><span style=\"width: 6rem; margin-top: 0.25em; color: #B48EAD\">0.68187135</span><span style=\"width: 6rem; margin-top: 0.25em; color: #D08770\">0.68291251</span></div></div></div>"
      ],
      "text/plain": [
       "<IPython.core.display.HTML object>"
      ]
     },
     "metadata": {},
     "output_type": "display_data"
    },
    {
     "data": {
      "image/png": "[encoded data removed]",
      "text/plain": [
       "<Figure size 432x288 with 2 Axes>"
      ]
     },
     "metadata": {
      "needs_background": "light"
     },
     "output_type": "display_data"
    },
    {
     "name": "stdout",
     "output_type": "stream",
     "text": [
      "XGBClassifier(base_score=0.5, booster='gbtree', colsample_bylevel=1,\n",
      "              colsample_bynode=1, colsample_bytree=0.4, gamma=0, gpu_id=-1,\n",
      "              importance_type='gain', interaction_constraints='',\n",
      "              learning_rate=0.25, max_delta_step=0, max_depth=21,\n",
      "              min_child_weight=70.0, missing=nan, monotone_constraints='()',\n",
      "              n_estimators=100, n_jobs=8, num_parallel_tree=1, random_state=8,\n",
      "              reg_alpha=0.2, reg_lambda=0.35000000000000003, scale_pos_weight=1,\n",
      "              subsample=0.65, tree_method='exact', use_label_encoder=False,\n",
      "              validate_parameters=1, verbosity=None)\n"
     ]
    },
    {
     "data": {
      "text/plain": [
       "(XGBClassifier(base_score=0.5, booster='gbtree', colsample_bylevel=1,\n",
       "               colsample_bynode=1, colsample_bytree=0.4, gamma=0, gpu_id=-1,\n",
       "               importance_type='gain', interaction_constraints='',\n",
       "               learning_rate=0.25, max_delta_step=0, max_depth=21,\n",
       "               min_child_weight=70.0, missing=nan, monotone_constraints='()',\n",
       "               n_estimators=100, n_jobs=8, num_parallel_tree=1, random_state=8,\n",
       "               reg_alpha=0.2, reg_lambda=0.35000000000000003, scale_pos_weight=1,\n",
       "               subsample=0.65, tree_method='exact', use_label_encoder=False,\n",
       "               validate_parameters=1, verbosity=None),\n",
       " 0.7443224761810188,\n",
       " 0.6763979810002425)"
      ]
     },
     "execution_count": 10,
     "metadata": {},
     "output_type": "execute_result"
    }
   ],
   "source": [
    "xgboost3 = xgb.XGBClassifier(\n",
    "    random_state=8,\n",
    "    max_depth = int(best3['max_depth']),\n",
    "    learning_rate = best3['learning_rate'],\n",
    "    min_child_weight = best3['min_child_weight'],\n",
    "    colsample_bytree = best3['colsample_bytree'],\n",
    "    subsample = best3['subsample'],\n",
    "    reg_lambda = best3['reg_lambda'],\n",
    "    reg_alpha = best3['reg_alpha'],\n",
    "    use_label_encoder=False,\n",
    "    objective ='binary:logistic'\n",
    ")\n",
    "evm.eval_model(xgboost3,x_train,y_train,x_val,y_val)"
   ]
  },
  {
   "cell_type": "code",
   "execution_count": 11,
   "id": "endless-sterling",
   "metadata": {},
   "outputs": [
    {
     "name": "stdout",
     "output_type": "stream",
     "text": [
      "100%|██████████████████████████████████████████████████| 5/5 [00:08<00:00,  1.74s/trial, best loss: 0.3582456140350876]\n",
      "Best:  {'colsample_bytree': 0.9, 'learning_rate': 0.1, 'max_depth': 9, 'min_child_weight': 44.0, 'reg_alpha': 0.55, 'reg_lambda': 0.2, 'subsample': 0.35000000000000003}\n"
     ]
    }
   ],
   "source": [
    "def objective(space):\n",
    "   \n",
    "    xgboost = xgb.XGBClassifier(\n",
    "        random_state=8,\n",
    "        max_depth = int(space['max_depth']),\n",
    "        learning_rate = space['learning_rate'],\n",
    "        min_child_weight = space['min_child_weight'],\n",
    "        colsample_bytree = space['colsample_bytree'],\n",
    "        subsample = space['subsample'],\n",
    "        reg_lambda = space['reg_lambda'],\n",
    "        reg_alpha = space['reg_alpha'],\n",
    "        use_label_encoder=False,\n",
    "        objective ='binary:logistic',\n",
    "        eval_metric ='auc'\n",
    "    )\n",
    "    \n",
    "    acc = cross_val_score(xgboost, x_train, y_train, cv=10).mean()\n",
    "\n",
    "    return{'loss': 1-acc, 'status': STATUS_OK }\n",
    "best4 = fmin(\n",
    "    fn=objective,   \n",
    "    space=space,       \n",
    "    algo=tpe.suggest,       \n",
    "    max_evals=5\n",
    ")\n",
    "print(\"Best: \", best4)"
   ]
  },
  {
   "cell_type": "code",
   "execution_count": 12,
   "id": "signed-sender",
   "metadata": {},
   "outputs": [
    {
     "data": {
      "text/html": [
       "<div style=\"padding: 1rem; background: #2E3440; font-family: Ubuntu, 'Helvetica Neue', 'Segoe UI';\"><div style=\"max-width: 100%; height: 2rem; display: flex;\"><span style=\"min-width: 5rem; margin-top: 0.5rem; margin-right: 1rem;\"></span><div style=\"width: 100%; height: 2rem; display: flex; justify-content: space-evenly; padding: 0.25rem; text-align: center; font-weight: 700\"><span style=\"width: 6rem; margin-top: 0.25em; color: #EBCB8B\">AUROC</span><span style=\"width: 6rem; margin-top: 0.25em; color: #A3BE8C;\">Accuracy</span><span style=\"width: 6rem; margin-top: 0.25em; color: #BF616A\">F1</span><span style=\"width: 6rem; margin-top: 0.25em; color: #B48EAD\">Recall</span><span style=\"width: 6rem; margin-top: 0.25em; color: #B48EAD\">Precision</span><span style=\"width: 6rem; margin-top: 0.25em; color: #D08770\">R2</span></div></div><div style=\"max-width: 100%; height: 2rem; display: flex; margin-top: 0.5rem;\"><div style=\"min-width: 5rem; margin-top: 0.5rem; margin-right: 1rem; font-weight: 700; color: ghostwhite;\">Validation</div><div style=\"width: 100%; height: 2rem; display: flex; justify-content: space-evenly; padding: 0.25rem; border-radius: 4px; box-shadow: 0 4px 6px 2px black; text-align: center; background: #3B4252\"><span style=\"width: 6rem; margin-top: 0.25em; color: #EBCB8B\">0.6905927</span><span style=\"width: 6rem; margin-top: 0.25em; color: #A3BE8C\">0.65023474</span><span style=\"width: 6rem; margin-top: 0.25em; color: #BF616A\">0.64775414</span><span style=\"width: 6rem; margin-top: 0.25em; color: #B48EAD\">0.64319249</span><span style=\"width: 6rem; margin-top: 0.25em; color: #B48EAD\">0.65238095</span><span style=\"width: 6rem; margin-top: 0.25em; color: #D08770\">0.65023474</span></div></div><div style=\"max-width: 100%; height: 2rem; display: flex; margin-top: 1.5rem; margin-bottom: 1rem;\"><div style=\"min-width: 5rem; margin-top: 0.5rem; margin-right: 1rem; font-weight: 700; color: ghostwhite;\">Training</div><div style=\"width: 100%; height: 2rem; display: flex; justify-content: space-evenly; padding: 0.25rem; border-radius: 4px; box-shadow: 0 4px 6px 2px black; text-align: center; background: #3B4252\"><span style=\"width: 6rem; margin-top: 0.25em; color: #EBCB8B\">0.7180685</span><span style=\"width: 6rem; margin-top: 0.25em; color: #A3BE8C\">0.65648855</span><span style=\"width: 6rem; margin-top: 0.25em; color: #BF616A\">0.65486726</span><span style=\"width: 6rem; margin-top: 0.25em; color: #B48EAD\">0.65217391</span><span style=\"width: 6rem; margin-top: 0.25em; color: #B48EAD\">0.65758294</span><span style=\"width: 6rem; margin-top: 0.25em; color: #D08770\">0.65648855</span></div></div></div>"
      ],
      "text/plain": [
       "<IPython.core.display.HTML object>"
      ]
     },
     "metadata": {},
     "output_type": "display_data"
    },
    {
     "data": {
      "image/png": "[encoded data removed]",
      "text/plain": [
       "<Figure size 432x288 with 2 Axes>"
      ]
     },
     "metadata": {
      "needs_background": "light"
     },
     "output_type": "display_data"
    },
    {
     "name": "stdout",
     "output_type": "stream",
     "text": [
      "XGBClassifier(base_score=0.5, booster='gbtree', colsample_bylevel=1,\n",
      "              colsample_bynode=1, colsample_bytree=0.9, eval_metric='auc',\n",
      "              gamma=0, gpu_id=-1, importance_type='gain',\n",
      "              interaction_constraints='', learning_rate=0.1, max_delta_step=0,\n",
      "              max_depth=9, min_child_weight=44.0, missing=nan,\n",
      "              monotone_constraints='()', n_estimators=100, n_jobs=8,\n",
      "              num_parallel_tree=1, random_state=8, reg_alpha=0.55,\n",
      "              reg_lambda=0.2, scale_pos_weight=1, subsample=0.35000000000000003,\n",
      "              tree_method='exact', use_label_encoder=False,\n",
      "              validate_parameters=1, verbosity=None)\n"
     ]
    },
    {
     "data": {
      "text/plain": [
       "(XGBClassifier(base_score=0.5, booster='gbtree', colsample_bylevel=1,\n",
       "               colsample_bynode=1, colsample_bytree=0.9, eval_metric='auc',\n",
       "               gamma=0, gpu_id=-1, importance_type='gain',\n",
       "               interaction_constraints='', learning_rate=0.1, max_delta_step=0,\n",
       "               max_depth=9, min_child_weight=44.0, missing=nan,\n",
       "               monotone_constraints='()', n_estimators=100, n_jobs=8,\n",
       "               num_parallel_tree=1, random_state=8, reg_alpha=0.55,\n",
       "               reg_lambda=0.2, scale_pos_weight=1, subsample=0.35000000000000003,\n",
       "               tree_method='exact', use_label_encoder=False,\n",
       "               validate_parameters=1, verbosity=None),\n",
       " 0.7180684971560661,\n",
       " 0.6905926954528422)"
      ]
     },
     "execution_count": 12,
     "metadata": {},
     "output_type": "execute_result"
    }
   ],
   "source": [
    "xgboost4 = xgb.XGBClassifier(\n",
    "    random_state=8,\n",
    "    max_depth = int(best4['max_depth']),\n",
    "    learning_rate = best4['learning_rate'],\n",
    "    min_child_weight = best4['min_child_weight'],\n",
    "    colsample_bytree = best4['colsample_bytree'],\n",
    "    subsample = best4['subsample'],\n",
    "    reg_lambda = best4['reg_lambda'],\n",
    "    reg_alpha = best4['reg_alpha'],\n",
    "    use_label_encoder=False,\n",
    "    objective ='binary:logistic',\n",
    "    eval_metric ='auc'\n",
    ")\n",
    "evm.eval_model(xgboost4,x_train,y_train,x_val,y_val)"
   ]
  },
  {
   "cell_type": "markdown",
   "id": "opened-assurance",
   "metadata": {},
   "source": [
    "# Validating the results"
   ]
  },
  {
   "cell_type": "code",
   "execution_count": 13,
   "id": "interesting-asset",
   "metadata": {},
   "outputs": [
    {
     "data": {
      "text/html": [
       "<div style=\"padding: 1rem; background: #2E3440; font-family: Ubuntu, 'Helvetica Neue', 'Segoe UI';\"><div style=\"max-width: 100%; height: 2rem; display: flex;\"><span style=\"min-width: 5rem; margin-top: 0.5rem; margin-right: 1rem;\"></span><div style=\"width: 100%; height: 2rem; display: flex; justify-content: space-evenly; padding: 0.25rem; text-align: center; font-weight: 700\"><span style=\"width: 6rem; margin-top: 0.25em; color: #EBCB8B\">AUROC</span><span style=\"width: 6rem; margin-top: 0.25em; color: #A3BE8C;\">Accuracy</span><span style=\"width: 6rem; margin-top: 0.25em; color: #BF616A\">F1</span><span style=\"width: 6rem; margin-top: 0.25em; color: #B48EAD\">Recall</span><span style=\"width: 6rem; margin-top: 0.25em; color: #B48EAD\">Precision</span><span style=\"width: 6rem; margin-top: 0.25em; color: #D08770\">R2</span></div></div><div style=\"max-width: 100%; height: 2rem; display: flex; margin-top: 0.5rem;\"><div style=\"min-width: 5rem; margin-top: 0.5rem; margin-right: 1rem; font-weight: 700; color: ghostwhite;\">Validation</div><div style=\"width: 100%; height: 2rem; display: flex; justify-content: space-evenly; padding: 0.25rem; border-radius: 4px; box-shadow: 0 4px 6px 2px black; text-align: center; background: #3B4252\"><span style=\"width: 6rem; margin-top: 0.25em; color: #EBCB8B\">0.65547295</span><span style=\"width: 6rem; margin-top: 0.25em; color: #A3BE8C\">0.59849906</span><span style=\"width: 6rem; margin-top: 0.25em; color: #BF616A\">0.58527132</span><span style=\"width: 6rem; margin-top: 0.25em; color: #B48EAD\">0.56554307</span><span style=\"width: 6rem; margin-top: 0.25em; color: #B48EAD\">0.6064257</span><span style=\"width: 6rem; margin-top: 0.25em; color: #D08770\">0.59849906</span></div></div></div>"
      ],
      "text/plain": [
       "<IPython.core.display.HTML object>"
      ]
     },
     "metadata": {},
     "output_type": "display_data"
    },
    {
     "data": {
      "text/plain": [
       "(0.6554729520430289,\n",
       " 0.5984990619136961,\n",
       " 0.5852713178294574,\n",
       " 0.606425702811245,\n",
       " 0.5655430711610487,\n",
       " 0.5984990619136961)"
      ]
     },
     "execution_count": 13,
     "metadata": {},
     "output_type": "execute_result"
    },
    {
     "data": {
      "image/png": "[encoded data removed]",
      "text/plain": [
       "<Figure size 432x288 with 2 Axes>"
      ]
     },
     "metadata": {
      "needs_background": "light"
     },
     "output_type": "display_data"
    }
   ],
   "source": [
    "evm.get_performance(xgboost1, x_test, y_test, \"Test\", True)"
   ]
  },
  {
   "cell_type": "code",
   "execution_count": 14,
   "id": "loving-wrapping",
   "metadata": {},
   "outputs": [
    {
     "data": {
      "text/html": [
       "<div style=\"padding: 1rem; background: #2E3440; font-family: Ubuntu, 'Helvetica Neue', 'Segoe UI';\"><div style=\"max-width: 100%; height: 2rem; display: flex;\"><span style=\"min-width: 5rem; margin-top: 0.5rem; margin-right: 1rem;\"></span><div style=\"width: 100%; height: 2rem; display: flex; justify-content: space-evenly; padding: 0.25rem; text-align: center; font-weight: 700\"><span style=\"width: 6rem; margin-top: 0.25em; color: #EBCB8B\">AUROC</span><span style=\"width: 6rem; margin-top: 0.25em; color: #A3BE8C;\">Accuracy</span><span style=\"width: 6rem; margin-top: 0.25em; color: #BF616A\">F1</span><span style=\"width: 6rem; margin-top: 0.25em; color: #B48EAD\">Recall</span><span style=\"width: 6rem; margin-top: 0.25em; color: #B48EAD\">Precision</span><span style=\"width: 6rem; margin-top: 0.25em; color: #D08770\">R2</span></div></div><div style=\"max-width: 100%; height: 2rem; display: flex; margin-top: 0.5rem;\"><div style=\"min-width: 5rem; margin-top: 0.5rem; margin-right: 1rem; font-weight: 700; color: ghostwhite;\">Validation</div><div style=\"width: 100%; height: 2rem; display: flex; justify-content: space-evenly; padding: 0.25rem; border-radius: 4px; box-shadow: 0 4px 6px 2px black; text-align: center; background: #3B4252\"><span style=\"width: 6rem; margin-top: 0.25em; color: #EBCB8B\">0.67449523</span><span style=\"width: 6rem; margin-top: 0.25em; color: #A3BE8C\">0.62664165</span><span style=\"width: 6rem; margin-top: 0.25em; color: #BF616A\">0.61208577</span><span style=\"width: 6rem; margin-top: 0.25em; color: #B48EAD\">0.58801498</span><span style=\"width: 6rem; margin-top: 0.25em; color: #B48EAD\">0.63821138</span><span style=\"width: 6rem; margin-top: 0.25em; color: #D08770\">0.62664165</span></div></div></div>"
      ],
      "text/plain": [
       "<IPython.core.display.HTML object>"
      ]
     },
     "metadata": {},
     "output_type": "display_data"
    },
    {
     "data": {
      "text/plain": [
       "(0.6744952268311227,\n",
       " 0.626641651031895,\n",
       " 0.6120857699805069,\n",
       " 0.6382113821138211,\n",
       " 0.5880149812734082,\n",
       " 0.626641651031895)"
      ]
     },
     "execution_count": 14,
     "metadata": {},
     "output_type": "execute_result"
    },
    {
     "data": {
      "image/png": "[encoded data removed]",
      "text/plain": [
       "<Figure size 432x288 with 2 Axes>"
      ]
     },
     "metadata": {
      "needs_background": "light"
     },
     "output_type": "display_data"
    }
   ],
   "source": [
    "evm.get_performance(xgboost2, x_test, y_test, \"Test\", True)"
   ]
  },
  {
   "cell_type": "code",
   "execution_count": 15,
   "id": "ignored-awareness",
   "metadata": {},
   "outputs": [
    {
     "data": {
      "text/html": [
       "<div style=\"padding: 1rem; background: #2E3440; font-family: Ubuntu, 'Helvetica Neue', 'Segoe UI';\"><div style=\"max-width: 100%; height: 2rem; display: flex;\"><span style=\"min-width: 5rem; margin-top: 0.5rem; margin-right: 1rem;\"></span><div style=\"width: 100%; height: 2rem; display: flex; justify-content: space-evenly; padding: 0.25rem; text-align: center; font-weight: 700\"><span style=\"width: 6rem; margin-top: 0.25em; color: #EBCB8B\">AUROC</span><span style=\"width: 6rem; margin-top: 0.25em; color: #A3BE8C;\">Accuracy</span><span style=\"width: 6rem; margin-top: 0.25em; color: #BF616A\">F1</span><span style=\"width: 6rem; margin-top: 0.25em; color: #B48EAD\">Recall</span><span style=\"width: 6rem; margin-top: 0.25em; color: #B48EAD\">Precision</span><span style=\"width: 6rem; margin-top: 0.25em; color: #D08770\">R2</span></div></div><div style=\"max-width: 100%; height: 2rem; display: flex; margin-top: 0.5rem;\"><div style=\"min-width: 5rem; margin-top: 0.5rem; margin-right: 1rem; font-weight: 700; color: ghostwhite;\">Validation</div><div style=\"width: 100%; height: 2rem; display: flex; justify-content: space-evenly; padding: 0.25rem; border-radius: 4px; box-shadow: 0 4px 6px 2px black; text-align: center; background: #3B4252\"><span style=\"width: 6rem; margin-top: 0.25em; color: #EBCB8B\">0.66328039</span><span style=\"width: 6rem; margin-top: 0.25em; color: #A3BE8C\">0.60412758</span><span style=\"width: 6rem; margin-top: 0.25em; color: #BF616A\">0.58708415</span><span style=\"width: 6rem; margin-top: 0.25em; color: #B48EAD\">0.56179775</span><span style=\"width: 6rem; margin-top: 0.25em; color: #B48EAD\">0.6147541</span><span style=\"width: 6rem; margin-top: 0.25em; color: #D08770\">0.60412758</span></div></div></div>"
      ],
      "text/plain": [
       "<IPython.core.display.HTML object>"
      ]
     },
     "metadata": {},
     "output_type": "display_data"
    },
    {
     "data": {
      "text/plain": [
       "(0.663280391991214,\n",
       " 0.6041275797373359,\n",
       " 0.5870841487279844,\n",
       " 0.6147540983606558,\n",
       " 0.5617977528089888,\n",
       " 0.6041275797373359)"
      ]
     },
     "execution_count": 15,
     "metadata": {},
     "output_type": "execute_result"
    },
    {
     "data": {
      "image/png": "[encoded data removed]",
      "text/plain": [
       "<Figure size 432x288 with 2 Axes>"
      ]
     },
     "metadata": {
      "needs_background": "light"
     },
     "output_type": "display_data"
    }
   ],
   "source": [
    "evm.get_performance(xgboost3, x_test, y_test, \"Test\", True)"
   ]
  },
  {
   "cell_type": "code",
   "execution_count": 16,
   "id": "pregnant-lunch",
   "metadata": {},
   "outputs": [
    {
     "data": {
      "text/html": [
       "<div style=\"padding: 1rem; background: #2E3440; font-family: Ubuntu, 'Helvetica Neue', 'Segoe UI';\"><div style=\"max-width: 100%; height: 2rem; display: flex;\"><span style=\"min-width: 5rem; margin-top: 0.5rem; margin-right: 1rem;\"></span><div style=\"width: 100%; height: 2rem; display: flex; justify-content: space-evenly; padding: 0.25rem; text-align: center; font-weight: 700\"><span style=\"width: 6rem; margin-top: 0.25em; color: #EBCB8B\">AUROC</span><span style=\"width: 6rem; margin-top: 0.25em; color: #A3BE8C;\">Accuracy</span><span style=\"width: 6rem; margin-top: 0.25em; color: #BF616A\">F1</span><span style=\"width: 6rem; margin-top: 0.25em; color: #B48EAD\">Recall</span><span style=\"width: 6rem; margin-top: 0.25em; color: #B48EAD\">Precision</span><span style=\"width: 6rem; margin-top: 0.25em; color: #D08770\">R2</span></div></div><div style=\"max-width: 100%; height: 2rem; display: flex; margin-top: 0.5rem;\"><div style=\"min-width: 5rem; margin-top: 0.5rem; margin-right: 1rem; font-weight: 700; color: ghostwhite;\">Validation</div><div style=\"width: 100%; height: 2rem; display: flex; justify-content: space-evenly; padding: 0.25rem; border-radius: 4px; box-shadow: 0 4px 6px 2px black; text-align: center; background: #3B4252\"><span style=\"width: 6rem; margin-top: 0.25em; color: #EBCB8B\">0.6819225</span><span style=\"width: 6rem; margin-top: 0.25em; color: #A3BE8C\">0.63789869</span><span style=\"width: 6rem; margin-top: 0.25em; color: #BF616A\">0.61782178</span><span style=\"width: 6rem; margin-top: 0.25em; color: #B48EAD\">0.58426966</span><span style=\"width: 6rem; margin-top: 0.25em; color: #B48EAD\">0.65546218</span><span style=\"width: 6rem; margin-top: 0.25em; color: #D08770\">0.63789869</span></div></div></div>"
      ],
      "text/plain": [
       "<IPython.core.display.HTML object>"
      ]
     },
     "metadata": {},
     "output_type": "display_data"
    },
    {
     "data": {
      "text/plain": [
       "(0.6819225028864295,\n",
       " 0.6378986866791745,\n",
       " 0.6178217821782178,\n",
       " 0.6554621848739496,\n",
       " 0.5842696629213483,\n",
       " 0.6378986866791745)"
      ]
     },
     "execution_count": 16,
     "metadata": {},
     "output_type": "execute_result"
    },
    {
     "data": {
      "image/png": "[encoded data removed]",
      "text/plain": [
       "<Figure size 432x288 with 2 Axes>"
      ]
     },
     "metadata": {
      "needs_background": "light"
     },
     "output_type": "display_data"
    }
   ],
   "source": [
    "evm.get_performance(xgboost4, x_test, y_test, \"Test\", True)"
   ]
  },
  {
   "cell_type": "code",
   "execution_count": 34,
   "id": "herbal-short",
   "metadata": {},
   "outputs": [],
   "source": [
    "def predict_extract_result(infile,mod,outfile):\n",
    "    df = pd.read_csv(infile)\n",
    "    df_cleaned = df.copy()\n",
    "    print('Before Data Clean')\n",
    "    for cols in df_cleaned.columns:\n",
    "        chk_rows = df_cleaned[df_cleaned[cols]<0].shape[0]\n",
    "        if chk_rows > 0 :\n",
    "            print(f'Column Name {cols},\\tRows with Negative Value {chk_rows},\\tPercentage {chk_rows/len(df)*100}')\n",
    "    df_cleaned[ df_cleaned<0 ] = 0\n",
    "    df_cleaned.loc[df_cleaned['3P Made'] <= 0, ['3P Made', '3PA', 'CALC3P%']] = 0, 0, 0\n",
    "    df_cleaned.loc[df_cleaned['FGM'] <= 0, ['FGM', 'FGA', 'CALCFG%']] = 0, 0, 0\n",
    "    df_cleaned.loc[df_cleaned['FTM'] <= 0, ['FTM', 'FTA', 'CALCFT%']] = 0, 0, 0\n",
    "    df_cleaned.loc[df_cleaned['3P Made'] > df_cleaned['3PA'], ['3P Made' , '3PA', 'CALC3P%']] = 0, 0, 0\n",
    "    df_cleaned.loc[df_cleaned['FGM'] > df_cleaned['FGA'], ['FGM', 'FGA', 'CALCFG%']] = 0, 0, 0\n",
    "    df_cleaned.loc[df_cleaned['FTM'] > df_cleaned['FTA'], ['FTM', 'FTA', 'CALCFT%']] = 0, 0, 0\n",
    "    df_cleaned.loc[df_cleaned['3P Made'] > 0, ['CALC3P%']] = df_cleaned['3P Made']/df_cleaned['3PA']*100\n",
    "    df_cleaned.loc[df_cleaned['FGM'] > 0, ['CALCFG%']] =df_cleaned['FGM']/df_cleaned['FGA']*100\n",
    "    df_cleaned.loc[df_cleaned['FTM'] > 0, ['CALCFT%']] = df_cleaned['FTM']/df_cleaned['FTA']*100\n",
    "    print(df_cleaned.head(5))\n",
    "    print('After Data Clean')\n",
    "    for cols in df_cleaned.columns:\n",
    "        chk_rows = df_cleaned[df_cleaned[cols]<0].shape[0]\n",
    "        if chk_rows > 0 :\n",
    "            print(f'Column Name {cols},\\tRows with Negative Value {chk_rows},\\tPercentage {chk_rows/len(df)*100}')\n",
    "    x = df_cleaned.drop(['3P%','FT%','FG%','Id_old','Id'],axis=1)\n",
    "    print(df_cleaned.columns)\n",
    "    y_pred_proba=mod.predict_proba(x)\n",
    "    y_pred=mod.predict(x)\n",
    "    print(np.unique(y_pred,return_counts=True))\n",
    "    df_cleaned_result = df_cleaned.copy()\n",
    "    df_cleaned_result['TARGET_5Yrs'] = y_pred_proba[:,0]\n",
    "    print(df_cleaned_result['TARGET_5Yrs'].round().value_counts())\n",
    "    df_cleaned_result.to_csv(outfile,index=False,columns=['Id', 'TARGET_5Yrs'])\n",
    "    return x"
   ]
  },
  {
   "cell_type": "code",
   "execution_count": 35,
   "id": "natural-guinea",
   "metadata": {},
   "outputs": [
    {
     "name": "stdout",
     "output_type": "stream",
     "text": [
      "Before Data Clean\n",
      "Column Name 3P Made,\tRows with Negative Value 775,\tPercentage 20.400105290866016\n",
      "Column Name 3PA,\tRows with Negative Value 773,\tPercentage 20.34745985785733\n",
      "Column Name 3P%,\tRows with Negative Value 435,\tPercentage 11.450381679389313\n",
      "Column Name BLK,\tRows with Negative Value 456,\tPercentage 12.003158725980521\n",
      "   Id_old  Id  GP   MIN   PTS  FGM   FGA   FG%  3P Made  3PA  ...  OREB  DREB  \\\n",
      "0       1   0  56   9.1   4.0  1.6   3.7  43.7      0.1  0.3  ...   1.2   0.8   \n",
      "1    8194   1  43  19.3  10.1  3.7   8.1  46.0      0.6  1.7  ...   0.5   0.9   \n",
      "2       3   2  82  33.9  11.3  4.9  10.6  45.6      0.5  1.9  ...   1.3   3.3   \n",
      "3    8196   3  86  44.7  18.8  6.8  15.9  42.9      0.5  1.8  ...   1.5   3.2   \n",
      "4    8197   4  58  12.3   4.7  1.6   4.0  40.0      0.5  1.7  ...   0.2   0.6   \n",
      "\n",
      "   REB  AST  STL  BLK  TOV    CALC3P%    CALCFG%    CALCFT%  \n",
      "0  1.7  0.4  0.2  0.3  0.8  33.333333  43.243243  58.333333  \n",
      "1  1.5  3.5  0.6  0.0  1.8  35.294118  45.679012  72.000000  \n",
      "2  4.5  2.5  1.3  0.3  2.0  26.315789  46.226415  66.666667  \n",
      "3  5.0  4.1  0.9  0.1  3.6  27.777778  42.767296  71.428571  \n",
      "4  0.9  1.5  0.5  0.0  0.9  29.411765  40.000000  84.615385  \n",
      "\n",
      "[5 rows x 24 columns]\n",
      "After Data Clean\n",
      "Index(['Id_old', 'Id', 'GP', 'MIN', 'PTS', 'FGM', 'FGA', 'FG%', '3P Made',\n",
      "       '3PA', '3P%', 'FTM', 'FTA', 'FT%', 'OREB', 'DREB', 'REB', 'AST', 'STL',\n",
      "       'BLK', 'TOV', 'CALC3P%', 'CALCFG%', 'CALCFT%'],\n",
      "      dtype='object')\n",
      "(array([0, 1]), array([2222, 1577], dtype=int64))\n",
      "1.0    2222\n",
      "0.0    1577\n",
      "Name: TARGET_5Yrs, dtype: int64\n"
     ]
    }
   ],
   "source": [
    "df=predict_extract_result('../data/raw/test.csv',xgboost1,'../data/processed/TestResult_XG_DownSample.csv')"
   ]
  },
  {
   "cell_type": "code",
   "execution_count": 19,
   "id": "senior-nicholas",
   "metadata": {},
   "outputs": [
    {
     "data": {
      "image/png": "[encoded data removed]",
      "text/plain": [
       "<Figure size 432x288 with 1 Axes>"
      ]
     },
     "metadata": {
      "needs_background": "light"
     },
     "output_type": "display_data"
    }
   ],
   "source": [
    "from xgboost import plot_importance\n",
    "from matplotlib import pyplot\n",
    "plot_importance(xgboost1)\n",
    "pyplot.show()"
   ]
  }
 ],
 "metadata": {
  "kernelspec": {
   "display_name": "Python 3",
   "language": "python",
   "name": "python3"
  },
  "language_info": {
   "codemirror_mode": {
    "name": "ipython",
    "version": 3
   },
   "file_extension": ".py",
   "mimetype": "text/x-python",
   "name": "python",
   "nbconvert_exporter": "python",
   "pygments_lexer": "ipython3",
   "version": "3.9.1"
  }
 },
 "nbformat": 4,
 "nbformat_minor": 5
}
