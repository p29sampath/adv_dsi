{
 "cells": [
  {
   "cell_type": "code",
   "execution_count": 1,
   "id": "complete-spotlight",
   "metadata": {},
   "outputs": [],
   "source": [
    "import os\n",
    "import sys\n",
    "module_path = os.path.abspath(os.path.join('..'))\n",
    "if module_path not in sys.path:\n",
    "    sys.path.append(module_path)\n",
    "    \n",
    "import pandas as pd\n",
    "import numpy as np\n",
    "from sklearn.ensemble import RandomForestClassifier\n",
    "from sklearn.model_selection import GridSearchCV\n",
    "from joblib import dump\n",
    "from src.models import eval_model as evm\n",
    "from src.models import eval_baseline as evb\n",
    "from data import clean_and_split_nba_data as clean\n",
    "from models import plot_validation_curve as vc\n",
    "%load_ext autoreload\n",
    "%autoreload 2"
   ]
  },
  {
   "cell_type": "code",
   "execution_count": 2,
   "id": "beginning-freeze",
   "metadata": {},
   "outputs": [
    {
     "data": {
      "text/html": [
       "<div>\n",
       "<style scoped>\n",
       "    .dataframe tbody tr th:only-of-type {\n",
       "        vertical-align: middle;\n",
       "    }\n",
       "\n",
       "    .dataframe tbody tr th {\n",
       "        vertical-align: top;\n",
       "    }\n",
       "\n",
       "    .dataframe thead th {\n",
       "        text-align: right;\n",
       "    }\n",
       "</style>\n",
       "<table border=\"1\" class=\"dataframe\">\n",
       "  <thead>\n",
       "    <tr style=\"text-align: right;\">\n",
       "      <th></th>\n",
       "      <th>Id_old</th>\n",
       "      <th>Id</th>\n",
       "      <th>GP</th>\n",
       "      <th>MIN</th>\n",
       "      <th>PTS</th>\n",
       "      <th>FGM</th>\n",
       "      <th>FGA</th>\n",
       "      <th>FG%</th>\n",
       "      <th>3P Made</th>\n",
       "      <th>3PA</th>\n",
       "      <th>...</th>\n",
       "      <th>FTA</th>\n",
       "      <th>FT%</th>\n",
       "      <th>OREB</th>\n",
       "      <th>DREB</th>\n",
       "      <th>REB</th>\n",
       "      <th>AST</th>\n",
       "      <th>STL</th>\n",
       "      <th>BLK</th>\n",
       "      <th>TOV</th>\n",
       "      <th>TARGET_5Yrs</th>\n",
       "    </tr>\n",
       "  </thead>\n",
       "  <tbody>\n",
       "    <tr>\n",
       "      <th>0</th>\n",
       "      <td>10556</td>\n",
       "      <td>3799</td>\n",
       "      <td>80</td>\n",
       "      <td>24.3</td>\n",
       "      <td>7.8</td>\n",
       "      <td>3.0</td>\n",
       "      <td>6.4</td>\n",
       "      <td>45.7</td>\n",
       "      <td>0.1</td>\n",
       "      <td>0.3</td>\n",
       "      <td>...</td>\n",
       "      <td>2.9</td>\n",
       "      <td>72.1</td>\n",
       "      <td>2.2</td>\n",
       "      <td>2.0</td>\n",
       "      <td>3.8</td>\n",
       "      <td>3.2</td>\n",
       "      <td>1.1</td>\n",
       "      <td>0.2</td>\n",
       "      <td>1.6</td>\n",
       "      <td>1</td>\n",
       "    </tr>\n",
       "    <tr>\n",
       "      <th>1</th>\n",
       "      <td>5342</td>\n",
       "      <td>3800</td>\n",
       "      <td>75</td>\n",
       "      <td>21.8</td>\n",
       "      <td>10.5</td>\n",
       "      <td>4.2</td>\n",
       "      <td>7.9</td>\n",
       "      <td>55.1</td>\n",
       "      <td>-0.3</td>\n",
       "      <td>-1.0</td>\n",
       "      <td>...</td>\n",
       "      <td>3.6</td>\n",
       "      <td>67.8</td>\n",
       "      <td>3.6</td>\n",
       "      <td>3.7</td>\n",
       "      <td>6.6</td>\n",
       "      <td>0.7</td>\n",
       "      <td>0.5</td>\n",
       "      <td>0.6</td>\n",
       "      <td>1.4</td>\n",
       "      <td>1</td>\n",
       "    </tr>\n",
       "    <tr>\n",
       "      <th>2</th>\n",
       "      <td>5716</td>\n",
       "      <td>3801</td>\n",
       "      <td>85</td>\n",
       "      <td>19.1</td>\n",
       "      <td>4.5</td>\n",
       "      <td>1.9</td>\n",
       "      <td>4.5</td>\n",
       "      <td>42.8</td>\n",
       "      <td>0.4</td>\n",
       "      <td>1.2</td>\n",
       "      <td>...</td>\n",
       "      <td>0.6</td>\n",
       "      <td>75.7</td>\n",
       "      <td>0.6</td>\n",
       "      <td>1.8</td>\n",
       "      <td>2.4</td>\n",
       "      <td>0.8</td>\n",
       "      <td>0.4</td>\n",
       "      <td>0.2</td>\n",
       "      <td>0.6</td>\n",
       "      <td>1</td>\n",
       "    </tr>\n",
       "    <tr>\n",
       "      <th>3</th>\n",
       "      <td>13790</td>\n",
       "      <td>3802</td>\n",
       "      <td>63</td>\n",
       "      <td>19.1</td>\n",
       "      <td>8.2</td>\n",
       "      <td>3.5</td>\n",
       "      <td>6.7</td>\n",
       "      <td>52.5</td>\n",
       "      <td>0.3</td>\n",
       "      <td>0.8</td>\n",
       "      <td>...</td>\n",
       "      <td>1.5</td>\n",
       "      <td>66.9</td>\n",
       "      <td>0.8</td>\n",
       "      <td>2.0</td>\n",
       "      <td>3.0</td>\n",
       "      <td>1.8</td>\n",
       "      <td>0.4</td>\n",
       "      <td>0.1</td>\n",
       "      <td>1.9</td>\n",
       "      <td>1</td>\n",
       "    </tr>\n",
       "    <tr>\n",
       "      <th>4</th>\n",
       "      <td>5470</td>\n",
       "      <td>3803</td>\n",
       "      <td>63</td>\n",
       "      <td>17.8</td>\n",
       "      <td>3.7</td>\n",
       "      <td>1.7</td>\n",
       "      <td>3.4</td>\n",
       "      <td>50.8</td>\n",
       "      <td>0.5</td>\n",
       "      <td>1.4</td>\n",
       "      <td>...</td>\n",
       "      <td>0.5</td>\n",
       "      <td>54.0</td>\n",
       "      <td>2.4</td>\n",
       "      <td>2.7</td>\n",
       "      <td>4.9</td>\n",
       "      <td>0.4</td>\n",
       "      <td>0.4</td>\n",
       "      <td>0.6</td>\n",
       "      <td>0.7</td>\n",
       "      <td>1</td>\n",
       "    </tr>\n",
       "    <tr>\n",
       "      <th>...</th>\n",
       "      <td>...</td>\n",
       "      <td>...</td>\n",
       "      <td>...</td>\n",
       "      <td>...</td>\n",
       "      <td>...</td>\n",
       "      <td>...</td>\n",
       "      <td>...</td>\n",
       "      <td>...</td>\n",
       "      <td>...</td>\n",
       "      <td>...</td>\n",
       "      <td>...</td>\n",
       "      <td>...</td>\n",
       "      <td>...</td>\n",
       "      <td>...</td>\n",
       "      <td>...</td>\n",
       "      <td>...</td>\n",
       "      <td>...</td>\n",
       "      <td>...</td>\n",
       "      <td>...</td>\n",
       "      <td>...</td>\n",
       "      <td>...</td>\n",
       "    </tr>\n",
       "    <tr>\n",
       "      <th>7995</th>\n",
       "      <td>2996</td>\n",
       "      <td>11794</td>\n",
       "      <td>32</td>\n",
       "      <td>9.2</td>\n",
       "      <td>1.8</td>\n",
       "      <td>0.7</td>\n",
       "      <td>1.8</td>\n",
       "      <td>40.3</td>\n",
       "      <td>-0.1</td>\n",
       "      <td>-0.2</td>\n",
       "      <td>...</td>\n",
       "      <td>0.6</td>\n",
       "      <td>65.7</td>\n",
       "      <td>0.3</td>\n",
       "      <td>1.8</td>\n",
       "      <td>1.9</td>\n",
       "      <td>0.5</td>\n",
       "      <td>0.3</td>\n",
       "      <td>0.2</td>\n",
       "      <td>0.4</td>\n",
       "      <td>1</td>\n",
       "    </tr>\n",
       "    <tr>\n",
       "      <th>7996</th>\n",
       "      <td>11679</td>\n",
       "      <td>11795</td>\n",
       "      <td>54</td>\n",
       "      <td>6.0</td>\n",
       "      <td>1.8</td>\n",
       "      <td>0.7</td>\n",
       "      <td>1.4</td>\n",
       "      <td>48.7</td>\n",
       "      <td>0.1</td>\n",
       "      <td>0.1</td>\n",
       "      <td>...</td>\n",
       "      <td>0.4</td>\n",
       "      <td>70.1</td>\n",
       "      <td>1.0</td>\n",
       "      <td>1.1</td>\n",
       "      <td>2.0</td>\n",
       "      <td>0.1</td>\n",
       "      <td>0.0</td>\n",
       "      <td>0.3</td>\n",
       "      <td>0.3</td>\n",
       "      <td>1</td>\n",
       "    </tr>\n",
       "    <tr>\n",
       "      <th>7997</th>\n",
       "      <td>5537</td>\n",
       "      <td>11796</td>\n",
       "      <td>85</td>\n",
       "      <td>28.2</td>\n",
       "      <td>10.7</td>\n",
       "      <td>4.0</td>\n",
       "      <td>9.0</td>\n",
       "      <td>45.1</td>\n",
       "      <td>0.2</td>\n",
       "      <td>0.6</td>\n",
       "      <td>...</td>\n",
       "      <td>3.9</td>\n",
       "      <td>69.7</td>\n",
       "      <td>1.0</td>\n",
       "      <td>2.1</td>\n",
       "      <td>3.1</td>\n",
       "      <td>3.4</td>\n",
       "      <td>1.2</td>\n",
       "      <td>0.2</td>\n",
       "      <td>1.8</td>\n",
       "      <td>1</td>\n",
       "    </tr>\n",
       "    <tr>\n",
       "      <th>7998</th>\n",
       "      <td>1292</td>\n",
       "      <td>11797</td>\n",
       "      <td>39</td>\n",
       "      <td>7.7</td>\n",
       "      <td>2.5</td>\n",
       "      <td>1.0</td>\n",
       "      <td>2.3</td>\n",
       "      <td>40.1</td>\n",
       "      <td>-0.3</td>\n",
       "      <td>-0.5</td>\n",
       "      <td>...</td>\n",
       "      <td>0.7</td>\n",
       "      <td>74.3</td>\n",
       "      <td>0.4</td>\n",
       "      <td>0.6</td>\n",
       "      <td>0.9</td>\n",
       "      <td>0.2</td>\n",
       "      <td>0.3</td>\n",
       "      <td>0.3</td>\n",
       "      <td>0.5</td>\n",
       "      <td>1</td>\n",
       "    </tr>\n",
       "    <tr>\n",
       "      <th>7999</th>\n",
       "      <td>2900</td>\n",
       "      <td>11798</td>\n",
       "      <td>49</td>\n",
       "      <td>19.2</td>\n",
       "      <td>4.8</td>\n",
       "      <td>1.7</td>\n",
       "      <td>5.1</td>\n",
       "      <td>32.6</td>\n",
       "      <td>0.7</td>\n",
       "      <td>2.4</td>\n",
       "      <td>...</td>\n",
       "      <td>1.3</td>\n",
       "      <td>70.1</td>\n",
       "      <td>0.1</td>\n",
       "      <td>1.1</td>\n",
       "      <td>1.2</td>\n",
       "      <td>3.5</td>\n",
       "      <td>0.9</td>\n",
       "      <td>-0.3</td>\n",
       "      <td>1.4</td>\n",
       "      <td>1</td>\n",
       "    </tr>\n",
       "  </tbody>\n",
       "</table>\n",
       "<p>8000 rows × 22 columns</p>\n",
       "</div>"
      ],
      "text/plain": [
       "      Id_old     Id  GP   MIN   PTS  FGM  FGA   FG%  3P Made  3PA  ...  FTA  \\\n",
       "0      10556   3799  80  24.3   7.8  3.0  6.4  45.7      0.1  0.3  ...  2.9   \n",
       "1       5342   3800  75  21.8  10.5  4.2  7.9  55.1     -0.3 -1.0  ...  3.6   \n",
       "2       5716   3801  85  19.1   4.5  1.9  4.5  42.8      0.4  1.2  ...  0.6   \n",
       "3      13790   3802  63  19.1   8.2  3.5  6.7  52.5      0.3  0.8  ...  1.5   \n",
       "4       5470   3803  63  17.8   3.7  1.7  3.4  50.8      0.5  1.4  ...  0.5   \n",
       "...      ...    ...  ..   ...   ...  ...  ...   ...      ...  ...  ...  ...   \n",
       "7995    2996  11794  32   9.2   1.8  0.7  1.8  40.3     -0.1 -0.2  ...  0.6   \n",
       "7996   11679  11795  54   6.0   1.8  0.7  1.4  48.7      0.1  0.1  ...  0.4   \n",
       "7997    5537  11796  85  28.2  10.7  4.0  9.0  45.1      0.2  0.6  ...  3.9   \n",
       "7998    1292  11797  39   7.7   2.5  1.0  2.3  40.1     -0.3 -0.5  ...  0.7   \n",
       "7999    2900  11798  49  19.2   4.8  1.7  5.1  32.6      0.7  2.4  ...  1.3   \n",
       "\n",
       "       FT%  OREB  DREB  REB  AST  STL  BLK  TOV  TARGET_5Yrs  \n",
       "0     72.1   2.2   2.0  3.8  3.2  1.1  0.2  1.6            1  \n",
       "1     67.8   3.6   3.7  6.6  0.7  0.5  0.6  1.4            1  \n",
       "2     75.7   0.6   1.8  2.4  0.8  0.4  0.2  0.6            1  \n",
       "3     66.9   0.8   2.0  3.0  1.8  0.4  0.1  1.9            1  \n",
       "4     54.0   2.4   2.7  4.9  0.4  0.4  0.6  0.7            1  \n",
       "...    ...   ...   ...  ...  ...  ...  ...  ...          ...  \n",
       "7995  65.7   0.3   1.8  1.9  0.5  0.3  0.2  0.4            1  \n",
       "7996  70.1   1.0   1.1  2.0  0.1  0.0  0.3  0.3            1  \n",
       "7997  69.7   1.0   2.1  3.1  3.4  1.2  0.2  1.8            1  \n",
       "7998  74.3   0.4   0.6  0.9  0.2  0.3  0.3  0.5            1  \n",
       "7999  70.1   0.1   1.1  1.2  3.5  0.9 -0.3  1.4            1  \n",
       "\n",
       "[8000 rows x 22 columns]"
      ]
     },
     "execution_count": 2,
     "metadata": {},
     "output_type": "execute_result"
    }
   ],
   "source": [
    "df = pd.read_csv(\"../data/raw/train.csv\")\n",
    "df"
   ]
  },
  {
   "cell_type": "code",
   "execution_count": 3,
   "id": "expected-tennessee",
   "metadata": {},
   "outputs": [],
   "source": [
    "df_clean = df.copy()"
   ]
  },
  {
   "cell_type": "code",
   "execution_count": 4,
   "id": "scheduled-efficiency",
   "metadata": {},
   "outputs": [
    {
     "data": {
      "text/plain": [
       "(8000, 22)"
      ]
     },
     "execution_count": 4,
     "metadata": {},
     "output_type": "execute_result"
    }
   ],
   "source": [
    "df_clean.shape"
   ]
  },
  {
   "cell_type": "code",
   "execution_count": 5,
   "id": "ancient-tulsa",
   "metadata": {},
   "outputs": [
    {
     "data": {
      "text/html": [
       "<div>\n",
       "<style scoped>\n",
       "    .dataframe tbody tr th:only-of-type {\n",
       "        vertical-align: middle;\n",
       "    }\n",
       "\n",
       "    .dataframe tbody tr th {\n",
       "        vertical-align: top;\n",
       "    }\n",
       "\n",
       "    .dataframe thead th {\n",
       "        text-align: right;\n",
       "    }\n",
       "</style>\n",
       "<table border=\"1\" class=\"dataframe\">\n",
       "  <thead>\n",
       "    <tr style=\"text-align: right;\">\n",
       "      <th></th>\n",
       "      <th>GP</th>\n",
       "      <th>MIN</th>\n",
       "      <th>PTS</th>\n",
       "      <th>FGM</th>\n",
       "      <th>FGA</th>\n",
       "      <th>FG%</th>\n",
       "      <th>3P Made</th>\n",
       "      <th>3PA</th>\n",
       "      <th>3P%</th>\n",
       "      <th>FTM</th>\n",
       "      <th>FTA</th>\n",
       "      <th>FT%</th>\n",
       "      <th>OREB</th>\n",
       "      <th>DREB</th>\n",
       "      <th>REB</th>\n",
       "      <th>AST</th>\n",
       "      <th>STL</th>\n",
       "      <th>BLK</th>\n",
       "      <th>TOV</th>\n",
       "    </tr>\n",
       "  </thead>\n",
       "  <tbody>\n",
       "    <tr>\n",
       "      <th>0</th>\n",
       "      <td>80</td>\n",
       "      <td>24.3</td>\n",
       "      <td>7.8</td>\n",
       "      <td>3.0</td>\n",
       "      <td>6.4</td>\n",
       "      <td>45.7</td>\n",
       "      <td>0.1</td>\n",
       "      <td>0.3</td>\n",
       "      <td>22.6</td>\n",
       "      <td>2.0</td>\n",
       "      <td>2.9</td>\n",
       "      <td>72.1</td>\n",
       "      <td>2.2</td>\n",
       "      <td>2.0</td>\n",
       "      <td>3.8</td>\n",
       "      <td>3.2</td>\n",
       "      <td>1.1</td>\n",
       "      <td>0.2</td>\n",
       "      <td>1.6</td>\n",
       "    </tr>\n",
       "    <tr>\n",
       "      <th>1</th>\n",
       "      <td>75</td>\n",
       "      <td>21.8</td>\n",
       "      <td>10.5</td>\n",
       "      <td>4.2</td>\n",
       "      <td>7.9</td>\n",
       "      <td>55.1</td>\n",
       "      <td>-0.3</td>\n",
       "      <td>-1.0</td>\n",
       "      <td>34.9</td>\n",
       "      <td>2.4</td>\n",
       "      <td>3.6</td>\n",
       "      <td>67.8</td>\n",
       "      <td>3.6</td>\n",
       "      <td>3.7</td>\n",
       "      <td>6.6</td>\n",
       "      <td>0.7</td>\n",
       "      <td>0.5</td>\n",
       "      <td>0.6</td>\n",
       "      <td>1.4</td>\n",
       "    </tr>\n",
       "    <tr>\n",
       "      <th>2</th>\n",
       "      <td>85</td>\n",
       "      <td>19.1</td>\n",
       "      <td>4.5</td>\n",
       "      <td>1.9</td>\n",
       "      <td>4.5</td>\n",
       "      <td>42.8</td>\n",
       "      <td>0.4</td>\n",
       "      <td>1.2</td>\n",
       "      <td>34.3</td>\n",
       "      <td>0.4</td>\n",
       "      <td>0.6</td>\n",
       "      <td>75.7</td>\n",
       "      <td>0.6</td>\n",
       "      <td>1.8</td>\n",
       "      <td>2.4</td>\n",
       "      <td>0.8</td>\n",
       "      <td>0.4</td>\n",
       "      <td>0.2</td>\n",
       "      <td>0.6</td>\n",
       "    </tr>\n",
       "    <tr>\n",
       "      <th>3</th>\n",
       "      <td>63</td>\n",
       "      <td>19.1</td>\n",
       "      <td>8.2</td>\n",
       "      <td>3.5</td>\n",
       "      <td>6.7</td>\n",
       "      <td>52.5</td>\n",
       "      <td>0.3</td>\n",
       "      <td>0.8</td>\n",
       "      <td>23.7</td>\n",
       "      <td>0.9</td>\n",
       "      <td>1.5</td>\n",
       "      <td>66.9</td>\n",
       "      <td>0.8</td>\n",
       "      <td>2.0</td>\n",
       "      <td>3.0</td>\n",
       "      <td>1.8</td>\n",
       "      <td>0.4</td>\n",
       "      <td>0.1</td>\n",
       "      <td>1.9</td>\n",
       "    </tr>\n",
       "    <tr>\n",
       "      <th>4</th>\n",
       "      <td>63</td>\n",
       "      <td>17.8</td>\n",
       "      <td>3.7</td>\n",
       "      <td>1.7</td>\n",
       "      <td>3.4</td>\n",
       "      <td>50.8</td>\n",
       "      <td>0.5</td>\n",
       "      <td>1.4</td>\n",
       "      <td>13.7</td>\n",
       "      <td>0.2</td>\n",
       "      <td>0.5</td>\n",
       "      <td>54.0</td>\n",
       "      <td>2.4</td>\n",
       "      <td>2.7</td>\n",
       "      <td>4.9</td>\n",
       "      <td>0.4</td>\n",
       "      <td>0.4</td>\n",
       "      <td>0.6</td>\n",
       "      <td>0.7</td>\n",
       "    </tr>\n",
       "    <tr>\n",
       "      <th>...</th>\n",
       "      <td>...</td>\n",
       "      <td>...</td>\n",
       "      <td>...</td>\n",
       "      <td>...</td>\n",
       "      <td>...</td>\n",
       "      <td>...</td>\n",
       "      <td>...</td>\n",
       "      <td>...</td>\n",
       "      <td>...</td>\n",
       "      <td>...</td>\n",
       "      <td>...</td>\n",
       "      <td>...</td>\n",
       "      <td>...</td>\n",
       "      <td>...</td>\n",
       "      <td>...</td>\n",
       "      <td>...</td>\n",
       "      <td>...</td>\n",
       "      <td>...</td>\n",
       "      <td>...</td>\n",
       "    </tr>\n",
       "    <tr>\n",
       "      <th>7995</th>\n",
       "      <td>32</td>\n",
       "      <td>9.2</td>\n",
       "      <td>1.8</td>\n",
       "      <td>0.7</td>\n",
       "      <td>1.8</td>\n",
       "      <td>40.3</td>\n",
       "      <td>-0.1</td>\n",
       "      <td>-0.2</td>\n",
       "      <td>23.1</td>\n",
       "      <td>0.4</td>\n",
       "      <td>0.6</td>\n",
       "      <td>65.7</td>\n",
       "      <td>0.3</td>\n",
       "      <td>1.8</td>\n",
       "      <td>1.9</td>\n",
       "      <td>0.5</td>\n",
       "      <td>0.3</td>\n",
       "      <td>0.2</td>\n",
       "      <td>0.4</td>\n",
       "    </tr>\n",
       "    <tr>\n",
       "      <th>7996</th>\n",
       "      <td>54</td>\n",
       "      <td>6.0</td>\n",
       "      <td>1.8</td>\n",
       "      <td>0.7</td>\n",
       "      <td>1.4</td>\n",
       "      <td>48.7</td>\n",
       "      <td>0.1</td>\n",
       "      <td>0.1</td>\n",
       "      <td>3.1</td>\n",
       "      <td>0.2</td>\n",
       "      <td>0.4</td>\n",
       "      <td>70.1</td>\n",
       "      <td>1.0</td>\n",
       "      <td>1.1</td>\n",
       "      <td>2.0</td>\n",
       "      <td>0.1</td>\n",
       "      <td>0.0</td>\n",
       "      <td>0.3</td>\n",
       "      <td>0.3</td>\n",
       "    </tr>\n",
       "    <tr>\n",
       "      <th>7997</th>\n",
       "      <td>85</td>\n",
       "      <td>28.2</td>\n",
       "      <td>10.7</td>\n",
       "      <td>4.0</td>\n",
       "      <td>9.0</td>\n",
       "      <td>45.1</td>\n",
       "      <td>0.2</td>\n",
       "      <td>0.6</td>\n",
       "      <td>23.6</td>\n",
       "      <td>2.8</td>\n",
       "      <td>3.9</td>\n",
       "      <td>69.7</td>\n",
       "      <td>1.0</td>\n",
       "      <td>2.1</td>\n",
       "      <td>3.1</td>\n",
       "      <td>3.4</td>\n",
       "      <td>1.2</td>\n",
       "      <td>0.2</td>\n",
       "      <td>1.8</td>\n",
       "    </tr>\n",
       "    <tr>\n",
       "      <th>7998</th>\n",
       "      <td>39</td>\n",
       "      <td>7.7</td>\n",
       "      <td>2.5</td>\n",
       "      <td>1.0</td>\n",
       "      <td>2.3</td>\n",
       "      <td>40.1</td>\n",
       "      <td>-0.3</td>\n",
       "      <td>-0.5</td>\n",
       "      <td>13.3</td>\n",
       "      <td>0.6</td>\n",
       "      <td>0.7</td>\n",
       "      <td>74.3</td>\n",
       "      <td>0.4</td>\n",
       "      <td>0.6</td>\n",
       "      <td>0.9</td>\n",
       "      <td>0.2</td>\n",
       "      <td>0.3</td>\n",
       "      <td>0.3</td>\n",
       "      <td>0.5</td>\n",
       "    </tr>\n",
       "    <tr>\n",
       "      <th>7999</th>\n",
       "      <td>49</td>\n",
       "      <td>19.2</td>\n",
       "      <td>4.8</td>\n",
       "      <td>1.7</td>\n",
       "      <td>5.1</td>\n",
       "      <td>32.6</td>\n",
       "      <td>0.7</td>\n",
       "      <td>2.4</td>\n",
       "      <td>41.3</td>\n",
       "      <td>0.8</td>\n",
       "      <td>1.3</td>\n",
       "      <td>70.1</td>\n",
       "      <td>0.1</td>\n",
       "      <td>1.1</td>\n",
       "      <td>1.2</td>\n",
       "      <td>3.5</td>\n",
       "      <td>0.9</td>\n",
       "      <td>-0.3</td>\n",
       "      <td>1.4</td>\n",
       "    </tr>\n",
       "  </tbody>\n",
       "</table>\n",
       "<p>8000 rows × 19 columns</p>\n",
       "</div>"
      ],
      "text/plain": [
       "      GP   MIN   PTS  FGM  FGA   FG%  3P Made  3PA   3P%  FTM  FTA   FT%  \\\n",
       "0     80  24.3   7.8  3.0  6.4  45.7      0.1  0.3  22.6  2.0  2.9  72.1   \n",
       "1     75  21.8  10.5  4.2  7.9  55.1     -0.3 -1.0  34.9  2.4  3.6  67.8   \n",
       "2     85  19.1   4.5  1.9  4.5  42.8      0.4  1.2  34.3  0.4  0.6  75.7   \n",
       "3     63  19.1   8.2  3.5  6.7  52.5      0.3  0.8  23.7  0.9  1.5  66.9   \n",
       "4     63  17.8   3.7  1.7  3.4  50.8      0.5  1.4  13.7  0.2  0.5  54.0   \n",
       "...   ..   ...   ...  ...  ...   ...      ...  ...   ...  ...  ...   ...   \n",
       "7995  32   9.2   1.8  0.7  1.8  40.3     -0.1 -0.2  23.1  0.4  0.6  65.7   \n",
       "7996  54   6.0   1.8  0.7  1.4  48.7      0.1  0.1   3.1  0.2  0.4  70.1   \n",
       "7997  85  28.2  10.7  4.0  9.0  45.1      0.2  0.6  23.6  2.8  3.9  69.7   \n",
       "7998  39   7.7   2.5  1.0  2.3  40.1     -0.3 -0.5  13.3  0.6  0.7  74.3   \n",
       "7999  49  19.2   4.8  1.7  5.1  32.6      0.7  2.4  41.3  0.8  1.3  70.1   \n",
       "\n",
       "      OREB  DREB  REB  AST  STL  BLK  TOV  \n",
       "0      2.2   2.0  3.8  3.2  1.1  0.2  1.6  \n",
       "1      3.6   3.7  6.6  0.7  0.5  0.6  1.4  \n",
       "2      0.6   1.8  2.4  0.8  0.4  0.2  0.6  \n",
       "3      0.8   2.0  3.0  1.8  0.4  0.1  1.9  \n",
       "4      2.4   2.7  4.9  0.4  0.4  0.6  0.7  \n",
       "...    ...   ...  ...  ...  ...  ...  ...  \n",
       "7995   0.3   1.8  1.9  0.5  0.3  0.2  0.4  \n",
       "7996   1.0   1.1  2.0  0.1  0.0  0.3  0.3  \n",
       "7997   1.0   2.1  3.1  3.4  1.2  0.2  1.8  \n",
       "7998   0.4   0.6  0.9  0.2  0.3  0.3  0.5  \n",
       "7999   0.1   1.1  1.2  3.5  0.9 -0.3  1.4  \n",
       "\n",
       "[8000 rows x 19 columns]"
      ]
     },
     "execution_count": 5,
     "metadata": {},
     "output_type": "execute_result"
    }
   ],
   "source": [
    "df_clean.drop(['Id_old','Id','TARGET_5Yrs'],axis=1,inplace=True)\n",
    "df_clean"
   ]
  },
  {
   "cell_type": "code",
   "execution_count": 6,
   "id": "general-burner",
   "metadata": {},
   "outputs": [
    {
     "name": "stdout",
     "output_type": "stream",
     "text": [
      "Index(['GP', 'MIN', 'PTS', 'FGM', 'FGA', '3P Made', '3PA', 'FTM', 'FTA',\n",
      "       'OREB', 'DREB', 'REB', 'AST', 'STL', 'BLK', 'TOV', 'CALC3P%', 'CALCFG%',\n",
      "       'CALCFT%'],\n",
      "      dtype='object')\n"
     ]
    }
   ],
   "source": [
    "x_data, x_train, x_val, x_test, y_data , y_train, y_val,  y_test = clean.clean_and_split_nba_data(df)"
   ]
  },
  {
   "cell_type": "code",
   "execution_count": null,
   "id": "linear-viking",
   "metadata": {},
   "outputs": [],
   "source": [
    "x_data.drop(['GP'],axis=1, inplace=True)\n",
    "x_train.drop(['GP'],axis=1, inplace=True)\n",
    "x_val.drop(['GP'],axis=1, inplace=True)\n",
    "x_test.drop(['GP'],axis=1, inplace=True)"
   ]
  },
  {
   "cell_type": "code",
   "execution_count": null,
   "id": "registered-french",
   "metadata": {},
   "outputs": [],
   "source": [
    "x_data.shape"
   ]
  },
  {
   "cell_type": "code",
   "execution_count": null,
   "id": "institutional-elephant",
   "metadata": {},
   "outputs": [],
   "source": [
    "x_train.columns, x_val.columns, x_test.columns, "
   ]
  },
  {
   "cell_type": "code",
   "execution_count": 7,
   "id": "sought-judge",
   "metadata": {},
   "outputs": [
    {
     "name": "stdout",
     "output_type": "stream",
     "text": [
      "Accuracy Score:  0.83359375  F1 Score  0.9092458457605455  Precision Score  0.83359375  Recall Score  1.0 (BASELINE)\n"
     ]
    },
    {
     "data": {
      "image/png": "[encoded data removed]",
      "text/plain": [
       "<Figure size 432x288 with 2 Axes>"
      ]
     },
     "metadata": {
      "needs_background": "light"
     },
     "output_type": "display_data"
    }
   ],
   "source": [
    "evb.eval_baseline(x_train,y_train)"
   ]
  },
  {
   "cell_type": "code",
   "execution_count": 8,
   "id": "accredited-experiment",
   "metadata": {},
   "outputs": [
    {
     "data": {
      "text/html": [
       "<div style=\"padding: 1rem; background: #2E3440; font-family: Ubuntu, 'Helvetica Neue', 'Segoe UI';\"><div style=\"max-width: 100%; height: 2rem; display: flex;\"><span style=\"min-width: 5rem; margin-top: 0.5rem; margin-right: 1rem;\"></span><div style=\"width: 100%; height: 2rem; display: flex; justify-content: space-evenly; padding: 0.25rem; text-align: center; font-weight: 700\"><span style=\"width: 6rem; margin-top: 0.25em; color: #EBCB8B\">AUROC</span><span style=\"width: 6rem; margin-top: 0.25em; color: #A3BE8C;\">Accuracy</span><span style=\"width: 6rem; margin-top: 0.25em; color: #BF616A\">F1</span><span style=\"width: 6rem; margin-top: 0.25em; color: #B48EAD\">Recall</span><span style=\"width: 6rem; margin-top: 0.25em; color: #B48EAD\">Precision</span><span style=\"width: 6rem; margin-top: 0.25em; color: #D08770\">R2</span></div></div><div style=\"max-width: 100%; height: 2rem; display: flex; margin-top: 0.5rem;\"><div style=\"min-width: 5rem; margin-top: 0.5rem; margin-right: 1rem; font-weight: 700; color: ghostwhite;\">Validation</div><div style=\"width: 100%; height: 2rem; display: flex; justify-content: space-evenly; padding: 0.25rem; border-radius: 4px; box-shadow: 0 4px 6px 2px black; text-align: center; background: #3B4252\"><span style=\"width: 6rem; margin-top: 0.25em; color: #EBCB8B\">0.67398612</span><span style=\"width: 6rem; margin-top: 0.25em; color: #A3BE8C\">0.8375</span><span style=\"width: 6rem; margin-top: 0.25em; color: #BF616A\">0.91072961</span><span style=\"width: 6rem; margin-top: 0.25em; color: #B48EAD\">0.99437676</span><span style=\"width: 6rem; margin-top: 0.25em; color: #B48EAD\">0.84006334</span><span style=\"width: 6rem; margin-top: 0.25em; color: #D08770\">0.8375</span></div></div><div style=\"max-width: 100%; height: 2rem; display: flex; margin-top: 1.5rem; margin-bottom: 1rem;\"><div style=\"min-width: 5rem; margin-top: 0.5rem; margin-right: 1rem; font-weight: 700; color: ghostwhite;\">Training</div><div style=\"width: 100%; height: 2rem; display: flex; justify-content: space-evenly; padding: 0.25rem; border-radius: 4px; box-shadow: 0 4px 6px 2px black; text-align: center; background: #3B4252\"><span style=\"width: 6rem; margin-top: 0.25em; color: #EBCB8B\">1.0</span><span style=\"width: 6rem; margin-top: 0.25em; color: #A3BE8C\">1.0</span><span style=\"width: 6rem; margin-top: 0.25em; color: #BF616A\">1.0</span><span style=\"width: 6rem; margin-top: 0.25em; color: #B48EAD\">1.0</span><span style=\"width: 6rem; margin-top: 0.25em; color: #B48EAD\">1.0</span><span style=\"width: 6rem; margin-top: 0.25em; color: #D08770\">1.0</span></div></div></div>"
      ],
      "text/plain": [
       "<IPython.core.display.HTML object>"
      ]
     },
     "metadata": {},
     "output_type": "display_data"
    },
    {
     "data": {
      "image/png": "[encoded data removed]",
      "text/plain": [
       "<Figure size 432x288 with 2 Axes>"
      ]
     },
     "metadata": {
      "needs_background": "light"
     },
     "output_type": "display_data"
    },
    {
     "name": "stdout",
     "output_type": "stream",
     "text": [
      "RandomForestClassifier(random_state=8)\n"
     ]
    },
    {
     "data": {
      "text/plain": [
       "(RandomForestClassifier(random_state=8), 1.0, 0.6739861222945294)"
      ]
     },
     "execution_count": 8,
     "metadata": {},
     "output_type": "execute_result"
    }
   ],
   "source": [
    "evm.eval_model(RandomForestClassifier(random_state=8),x_train,y_train,x_val,y_val)"
   ]
  },
  {
   "cell_type": "code",
   "execution_count": null,
   "id": "seeing-bottle",
   "metadata": {},
   "outputs": [],
   "source": [
    "evm.eval_model(RandomForestClassifier(random_state=8,class_weight={0:0.84,1:0.16}),x_train,y_train,x_val,y_val)"
   ]
  },
  {
   "cell_type": "code",
   "execution_count": null,
   "id": "composite-renewal",
   "metadata": {},
   "outputs": [],
   "source": [
    "vc.plot_validation_curve(estimator=RandomForestClassifier(random_state=8,class_weight={0:0.84,1:0.16}),\n",
    "                    hyperparameter='min_samples_leaf',\n",
    "                    hyperparameter_value=range(1,1000,100),\n",
    "                    x=x_data,\n",
    "                    y=y_data,\n",
    "                    title=\"RandomForestClassifier\",\n",
    "                    cv=5)"
   ]
  },
  {
   "cell_type": "code",
   "execution_count": null,
   "id": "union-malawi",
   "metadata": {},
   "outputs": [],
   "source": [
    "vc.plot_validation_curve(estimator=RandomForestClassifier(random_state=8,class_weight={0:0.84,1:0.16}),\n",
    "                    hyperparameter='min_samples_leaf',\n",
    "                    hyperparameter_value=range(900,1000,20),\n",
    "                    x=x_data,\n",
    "                    y=y_data,\n",
    "                    title=\"RandomForestClassifier\",\n",
    "                    cv=5)"
   ]
  },
  {
   "cell_type": "code",
   "execution_count": null,
   "id": "willing-probability",
   "metadata": {},
   "outputs": [],
   "source": [
    "vc.plot_validation_curve(estimator=RandomForestClassifier(random_state=8,class_weight={0:0.84,1:0.16}),\n",
    "                    hyperparameter='min_samples_leaf',\n",
    "                    hyperparameter_value=range(1000,2000,100),\n",
    "                    x=x_data,\n",
    "                    y=y_data,\n",
    "                    title=\"RandomForestClassifier\",\n",
    "                    cv=5)"
   ]
  },
  {
   "cell_type": "code",
   "execution_count": null,
   "id": "coordinate-summary",
   "metadata": {},
   "outputs": [],
   "source": [
    "vc.plot_validation_curve(estimator=RandomForestClassifier(random_state=8,class_weight={0:0.84,1:0.16}),\n",
    "                    hyperparameter='min_samples_leaf',\n",
    "                    hyperparameter_value=range(1500,1690,10),\n",
    "                    x=x_data,\n",
    "                    y=y_data,\n",
    "                    title=\"RandomForestClassifier\",\n",
    "                    cv=5)"
   ]
  },
  {
   "cell_type": "code",
   "execution_count": null,
   "id": "lightweight-cylinder",
   "metadata": {},
   "outputs": [],
   "source": [
    "vc.plot_validation_curve(estimator=RandomForestClassifier(random_state=8,class_weight={0:0.84,1:0.16}),\n",
    "                    hyperparameter='min_samples_leaf',\n",
    "                    hyperparameter_value=range(1500,1640,10),\n",
    "                    x=x_data,\n",
    "                    y=y_data,\n",
    "                    title=\"RandomForestClassifier\",\n",
    "                    cv=5)"
   ]
  },
  {
   "cell_type": "code",
   "execution_count": null,
   "id": "advisory-shoot",
   "metadata": {},
   "outputs": [],
   "source": [
    "vc.plot_validation_curve(estimator=RandomForestClassifier(random_state=8,class_weight={0:0.84,1:0.16}),\n",
    "                    hyperparameter='min_samples_leaf',\n",
    "                    hyperparameter_value=range(1610,1640,10),\n",
    "                    x=x_data,\n",
    "                    y=y_data,\n",
    "                    title=\"RandomForestClassifier\",\n",
    "                    cv=5)"
   ]
  },
  {
   "cell_type": "code",
   "execution_count": null,
   "id": "extra-lafayette",
   "metadata": {},
   "outputs": [],
   "source": [
    "vc.plot_validation_curve(estimator=RandomForestClassifier(random_state=8,class_weight={0:0.84,1:0.16}),\n",
    "                    hyperparameter='min_samples_leaf',\n",
    "                    hyperparameter_value=range(1615,1625,1),\n",
    "                    x=x_data,\n",
    "                    y=y_data,\n",
    "                    title=\"RandomForestClassifier\",\n",
    "                    cv=5)"
   ]
  },
  {
   "cell_type": "code",
   "execution_count": null,
   "id": "nominated-intake",
   "metadata": {},
   "outputs": [],
   "source": [
    "vc.plot_validation_curve(estimator=RandomForestClassifier(random_state=8,min_samples_leaf=1619,class_weight={0:0.84,1:0.16}),\n",
    "                    hyperparameter='max_features',\n",
    "                    hyperparameter_value=range(1,18,1),\n",
    "                    x=x_data,\n",
    "                    y=y_data,\n",
    "                    title=\"RandomForestClassifier\",\n",
    "                    cv=5)"
   ]
  },
  {
   "cell_type": "code",
   "execution_count": null,
   "id": "former-drink",
   "metadata": {},
   "outputs": [],
   "source": [
    "vc.plot_validation_curve(estimator=RandomForestClassifier(random_state=8,min_samples_leaf=1619,class_weight={0:0.84,1:0.16}),\n",
    "                    hyperparameter='max_features',\n",
    "                    hyperparameter_value=[3,4,5,10,11,12],\n",
    "                    x=x_data,\n",
    "                    y=y_data,\n",
    "                    title=\"RandomForestClassifier\",\n",
    "                    cv=5)"
   ]
  },
  {
   "cell_type": "code",
   "execution_count": null,
   "id": "tight-briefs",
   "metadata": {},
   "outputs": [],
   "source": [
    "vc.plot_validation_curve(estimator=RandomForestClassifier(random_state=8,min_samples_leaf=1619,max_features=10,class_weight={0:0.84,1:0.16}),\n",
    "                    hyperparameter='max_depth',\n",
    "                    hyperparameter_value=range(1,100,10),\n",
    "                    x=x_data,\n",
    "                    y=y_data,\n",
    "                    title=\"RandomForestClassifier\",\n",
    "                    cv=5)"
   ]
  },
  {
   "cell_type": "code",
   "execution_count": null,
   "id": "continuing-gateway",
   "metadata": {},
   "outputs": [],
   "source": [
    "vc.plot_validation_curve(estimator=RandomForestClassifier(random_state=8,min_samples_leaf=1619,max_features=10,class_weight={0:0.84,1:0.16}),\n",
    "                    hyperparameter='n_estimators',\n",
    "                    hyperparameter_value=range(1,500,50),\n",
    "                    x=x_data,\n",
    "                    y=y_data,\n",
    "                    title=\"RandomForestClassifier\",\n",
    "                    cv=5)"
   ]
  },
  {
   "cell_type": "code",
   "execution_count": null,
   "id": "enabling-hearts",
   "metadata": {},
   "outputs": [],
   "source": [
    "vc.plot_validation_curve(estimator=RandomForestClassifier(random_state=8,min_samples_leaf=1619,max_features=10,class_weight={0:0.84,1:0.16}),\n",
    "                    hyperparameter='n_estimators',\n",
    "                    hyperparameter_value=range(100,500,100),\n",
    "                    x=x_data,\n",
    "                    y=y_data,\n",
    "                    title=\"RandomForestClassifier\",\n",
    "                    cv=5)"
   ]
  },
  {
   "cell_type": "code",
   "execution_count": 9,
   "id": "adequate-hampton",
   "metadata": {},
   "outputs": [
    {
     "data": {
      "text/html": [
       "<div style=\"padding: 1rem; background: #2E3440; font-family: Ubuntu, 'Helvetica Neue', 'Segoe UI';\"><div style=\"max-width: 100%; height: 2rem; display: flex;\"><span style=\"min-width: 5rem; margin-top: 0.5rem; margin-right: 1rem;\"></span><div style=\"width: 100%; height: 2rem; display: flex; justify-content: space-evenly; padding: 0.25rem; text-align: center; font-weight: 700\"><span style=\"width: 6rem; margin-top: 0.25em; color: #EBCB8B\">AUROC</span><span style=\"width: 6rem; margin-top: 0.25em; color: #A3BE8C;\">Accuracy</span><span style=\"width: 6rem; margin-top: 0.25em; color: #BF616A\">F1</span><span style=\"width: 6rem; margin-top: 0.25em; color: #B48EAD\">Recall</span><span style=\"width: 6rem; margin-top: 0.25em; color: #B48EAD\">Precision</span><span style=\"width: 6rem; margin-top: 0.25em; color: #D08770\">R2</span></div></div><div style=\"max-width: 100%; height: 2rem; display: flex; margin-top: 0.5rem;\"><div style=\"min-width: 5rem; margin-top: 0.5rem; margin-right: 1rem; font-weight: 700; color: ghostwhite;\">Validation</div><div style=\"width: 100%; height: 2rem; display: flex; justify-content: space-evenly; padding: 0.25rem; border-radius: 4px; box-shadow: 0 4px 6px 2px black; text-align: center; background: #3B4252\"><span style=\"width: 6rem; margin-top: 0.25em; color: #EBCB8B\">0.70346415</span><span style=\"width: 6rem; margin-top: 0.25em; color: #A3BE8C\">0.5140625</span><span style=\"width: 6rem; margin-top: 0.25em; color: #BF616A\">0.61027569</span><span style=\"width: 6rem; margin-top: 0.25em; color: #B48EAD\">0.45641987</span><span style=\"width: 6rem; margin-top: 0.25em; color: #B48EAD\">0.92060491</span><span style=\"width: 6rem; margin-top: 0.25em; color: #D08770\">0.5140625</span></div></div><div style=\"max-width: 100%; height: 2rem; display: flex; margin-top: 1.5rem; margin-bottom: 1rem;\"><div style=\"min-width: 5rem; margin-top: 0.5rem; margin-right: 1rem; font-weight: 700; color: ghostwhite;\">Training</div><div style=\"width: 100%; height: 2rem; display: flex; justify-content: space-evenly; padding: 0.25rem; border-radius: 4px; box-shadow: 0 4px 6px 2px black; text-align: center; background: #3B4252\"><span style=\"width: 6rem; margin-top: 0.25em; color: #EBCB8B\">0.67364457</span><span style=\"width: 6rem; margin-top: 0.25em; color: #A3BE8C\">0.51503906</span><span style=\"width: 6rem; margin-top: 0.25em; color: #BF616A\">0.61269693</span><span style=\"width: 6rem; margin-top: 0.25em; color: #B48EAD\">0.4601687</span><span style=\"width: 6rem; margin-top: 0.25em; color: #B48EAD\">0.91647224</span><span style=\"width: 6rem; margin-top: 0.25em; color: #D08770\">0.51503906</span></div></div></div>"
      ],
      "text/plain": [
       "<IPython.core.display.HTML object>"
      ]
     },
     "metadata": {},
     "output_type": "display_data"
    },
    {
     "data": {
      "image/png": "[encoded data removed]",
      "text/plain": [
       "<Figure size 432x288 with 2 Axes>"
      ]
     },
     "metadata": {
      "needs_background": "light"
     },
     "output_type": "display_data"
    },
    {
     "name": "stdout",
     "output_type": "stream",
     "text": [
      "RandomForestClassifier(class_weight={0: 0.84, 1: 0.16}, max_features=10,\n",
      "                       min_samples_leaf=1619, random_state=8)\n"
     ]
    },
    {
     "data": {
      "text/plain": [
       "(RandomForestClassifier(class_weight={0: 0.84, 1: 0.16}, max_features=10,\n",
       "                        min_samples_leaf=1619, random_state=8),\n",
       " 0.6736445696987298,\n",
       " 0.7034641463275121)"
      ]
     },
     "execution_count": 9,
     "metadata": {},
     "output_type": "execute_result"
    }
   ],
   "source": [
    "rf1=RandomForestClassifier(random_state=8,min_samples_leaf=1619,max_features=10,class_weight={0:0.84,1:0.16})\n",
    "evm.eval_model(rf1,x_train,y_train,x_val,y_val)"
   ]
  },
  {
   "cell_type": "code",
   "execution_count": 10,
   "id": "outstanding-invention",
   "metadata": {},
   "outputs": [
    {
     "name": "stdout",
     "output_type": "stream",
     "text": [
      "Accuracy Score:  0.83359375  F1 Score  0.9092458457605455  Precision Score  0.83359375  Recall Score  1.0 (BASELINE)\n"
     ]
    },
    {
     "data": {
      "image/png": "[encoded data removed]",
      "text/plain": [
       "<Figure size 432x288 with 2 Axes>"
      ]
     },
     "metadata": {
      "needs_background": "light"
     },
     "output_type": "display_data"
    }
   ],
   "source": [
    "evb.eval_baseline(x_train,y_train)"
   ]
  },
  {
   "cell_type": "code",
   "execution_count": 11,
   "id": "illegal-effects",
   "metadata": {},
   "outputs": [
    {
     "data": {
      "text/html": [
       "<div style=\"padding: 1rem; background: #2E3440; font-family: Ubuntu, 'Helvetica Neue', 'Segoe UI';\"><div style=\"max-width: 100%; height: 2rem; display: flex;\"><span style=\"min-width: 5rem; margin-top: 0.5rem; margin-right: 1rem;\"></span><div style=\"width: 100%; height: 2rem; display: flex; justify-content: space-evenly; padding: 0.25rem; text-align: center; font-weight: 700\"><span style=\"width: 6rem; margin-top: 0.25em; color: #EBCB8B\">AUROC</span><span style=\"width: 6rem; margin-top: 0.25em; color: #A3BE8C;\">Accuracy</span><span style=\"width: 6rem; margin-top: 0.25em; color: #BF616A\">F1</span><span style=\"width: 6rem; margin-top: 0.25em; color: #B48EAD\">Recall</span><span style=\"width: 6rem; margin-top: 0.25em; color: #B48EAD\">Precision</span><span style=\"width: 6rem; margin-top: 0.25em; color: #D08770\">R2</span></div></div><div style=\"max-width: 100%; height: 2rem; display: flex; margin-top: 0.5rem;\"><div style=\"min-width: 5rem; margin-top: 0.5rem; margin-right: 1rem; font-weight: 700; color: ghostwhite;\">Validation</div><div style=\"width: 100%; height: 2rem; display: flex; justify-content: space-evenly; padding: 0.25rem; border-radius: 4px; box-shadow: 0 4px 6px 2px black; text-align: center; background: #3B4252\"><span style=\"width: 6rem; margin-top: 0.25em; color: #EBCB8B\">0.67398612</span><span style=\"width: 6rem; margin-top: 0.25em; color: #A3BE8C\">0.8375</span><span style=\"width: 6rem; margin-top: 0.25em; color: #BF616A\">0.91072961</span><span style=\"width: 6rem; margin-top: 0.25em; color: #B48EAD\">0.99437676</span><span style=\"width: 6rem; margin-top: 0.25em; color: #B48EAD\">0.84006334</span><span style=\"width: 6rem; margin-top: 0.25em; color: #D08770\">0.8375</span></div></div><div style=\"max-width: 100%; height: 2rem; display: flex; margin-top: 1.5rem; margin-bottom: 1rem;\"><div style=\"min-width: 5rem; margin-top: 0.5rem; margin-right: 1rem; font-weight: 700; color: ghostwhite;\">Training</div><div style=\"width: 100%; height: 2rem; display: flex; justify-content: space-evenly; padding: 0.25rem; border-radius: 4px; box-shadow: 0 4px 6px 2px black; text-align: center; background: #3B4252\"><span style=\"width: 6rem; margin-top: 0.25em; color: #EBCB8B\">1.0</span><span style=\"width: 6rem; margin-top: 0.25em; color: #A3BE8C\">1.0</span><span style=\"width: 6rem; margin-top: 0.25em; color: #BF616A\">1.0</span><span style=\"width: 6rem; margin-top: 0.25em; color: #B48EAD\">1.0</span><span style=\"width: 6rem; margin-top: 0.25em; color: #B48EAD\">1.0</span><span style=\"width: 6rem; margin-top: 0.25em; color: #D08770\">1.0</span></div></div></div>"
      ],
      "text/plain": [
       "<IPython.core.display.HTML object>"
      ]
     },
     "metadata": {},
     "output_type": "display_data"
    },
    {
     "data": {
      "image/png": "[encoded data removed]",
      "text/plain": [
       "<Figure size 432x288 with 2 Axes>"
      ]
     },
     "metadata": {
      "needs_background": "light"
     },
     "output_type": "display_data"
    },
    {
     "name": "stdout",
     "output_type": "stream",
     "text": [
      "RandomForestClassifier(random_state=8)\n"
     ]
    },
    {
     "data": {
      "text/plain": [
       "(RandomForestClassifier(random_state=8), 1.0, 0.6739861222945294)"
      ]
     },
     "execution_count": 11,
     "metadata": {},
     "output_type": "execute_result"
    }
   ],
   "source": [
    "evm.eval_model(RandomForestClassifier(random_state=8),x_train,y_train,x_val,y_val)"
   ]
  },
  {
   "cell_type": "code",
   "execution_count": null,
   "id": "coated-verification",
   "metadata": {},
   "outputs": [],
   "source": []
  }
 ],
 "metadata": {
  "kernelspec": {
   "display_name": "Python 3",
   "language": "python",
   "name": "python3"
  },
  "language_info": {
   "codemirror_mode": {
    "name": "ipython",
    "version": 3
   },
   "file_extension": ".py",
   "mimetype": "text/x-python",
   "name": "python",
   "nbconvert_exporter": "python",
   "pygments_lexer": "ipython3",
   "version": "3.9.1"
  }
 },
 "nbformat": 4,
 "nbformat_minor": 5
}
