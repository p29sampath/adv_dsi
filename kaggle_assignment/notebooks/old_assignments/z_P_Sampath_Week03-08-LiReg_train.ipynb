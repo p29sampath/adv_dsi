{
 "cells": [
  {
   "cell_type": "code",
   "execution_count": 5,
   "metadata": {},
   "outputs": [
    {
     "ename": "ImportError",
     "evalue": "cannot import name 'resample_nba_data' from 'data' (unknown location)",
     "output_type": "error",
     "traceback": [
      "\u001b[0;31m\u001b[0m",
      "\u001b[0;31mImportError\u001b[0mTraceback (most recent call last)",
      "\u001b[0;32m<ipython-input-5-b7365a05e8e6>\u001b[0m in \u001b[0;36m<module>\u001b[0;34m\u001b[0m\n\u001b[1;32m      9\u001b[0m \u001b[0;32mfrom\u001b[0m \u001b[0msklearn\u001b[0m\u001b[0;34m.\u001b[0m\u001b[0mpreprocessing\u001b[0m \u001b[0;32mimport\u001b[0m \u001b[0mStandardScaler\u001b[0m\u001b[0;34m\u001b[0m\u001b[0;34m\u001b[0m\u001b[0m\n\u001b[1;32m     10\u001b[0m \u001b[0;32mfrom\u001b[0m \u001b[0msklearn\u001b[0m\u001b[0;34m.\u001b[0m\u001b[0mmixture\u001b[0m \u001b[0;32mimport\u001b[0m \u001b[0mGaussianMixture\u001b[0m\u001b[0;34m\u001b[0m\u001b[0;34m\u001b[0m\u001b[0m\n\u001b[0;32m---> 11\u001b[0;31m \u001b[0;32mfrom\u001b[0m \u001b[0mdata\u001b[0m \u001b[0;32mimport\u001b[0m \u001b[0mresample_nba_data\u001b[0m \u001b[0;32mas\u001b[0m \u001b[0mre\u001b[0m\u001b[0;34m\u001b[0m\u001b[0;34m\u001b[0m\u001b[0m\n\u001b[0m\u001b[1;32m     12\u001b[0m \u001b[0;32mfrom\u001b[0m \u001b[0mdata\u001b[0m \u001b[0;32mimport\u001b[0m \u001b[0mclean_and_split_nba_data\u001b[0m \u001b[0;32mas\u001b[0m \u001b[0mclean\u001b[0m\u001b[0;34m\u001b[0m\u001b[0;34m\u001b[0m\u001b[0m\n\u001b[1;32m     13\u001b[0m \u001b[0;32mfrom\u001b[0m \u001b[0msklearn\u001b[0m\u001b[0;34m.\u001b[0m\u001b[0mlinear_model\u001b[0m \u001b[0;32mimport\u001b[0m \u001b[0mLinearRegression\u001b[0m\u001b[0;34m\u001b[0m\u001b[0;34m\u001b[0m\u001b[0m\n",
      "\u001b[0;31mImportError\u001b[0m: cannot import name 'resample_nba_data' from 'data' (unknown location)"
     ]
    }
   ],
   "source": [
    "import os\n",
    "import sys\n",
    "module_path = os.path.abspath(os.path.join('..'))\n",
    "if module_path not in sys.path:\n",
    "    sys.path.append(module_path)\n",
    "import pandas as pd\n",
    "import numpy as np\n",
    "from sklearn.cluster import KMeans\n",
    "from sklearn.preprocessing import StandardScaler\n",
    "from sklearn.mixture import GaussianMixture\n",
    "from data import resample_nba_data as re\n",
    "from data import clean_and_split_nba_data as clean\n",
    "from sklearn.linear_model import LinearRegression\n",
    "from models import plot_validation_curve as vc\n",
    "from models import eval_model as evm\n",
    "from joblib import dump\n",
    "import altair as alt"
   ]
  },
  {
   "cell_type": "code",
   "execution_count": 6,
   "metadata": {},
   "outputs": [
    {
     "data": {
      "text/plain": [
       "['/home/jovyan/work/notebooks',\n",
       " '/opt/conda/lib/python37.zip',\n",
       " '/opt/conda/lib/python3.7',\n",
       " '/opt/conda/lib/python3.7/lib-dynload',\n",
       " '',\n",
       " '/opt/conda/lib/python3.7/site-packages',\n",
       " '/opt/conda/lib/python3.7/site-packages/IPython/extensions',\n",
       " '/home/jovyan/.ipython',\n",
       " '/home/jovyan/work']"
      ]
     },
     "execution_count": 6,
     "metadata": {},
     "output_type": "execute_result"
    }
   ],
   "source": [
    "# import os\n",
    "# import sys\n",
    "sys.path"
   ]
  },
  {
   "cell_type": "code",
   "execution_count": 4,
   "metadata": {},
   "outputs": [
    {
     "data": {
      "text/plain": [
       "'/home/jovyan/work'"
      ]
     },
     "execution_count": 4,
     "metadata": {},
     "output_type": "execute_result"
    }
   ],
   "source": [
    "os.path.abspath(os.path.join('..'))"
   ]
  },
  {
   "cell_type": "code",
   "execution_count": 1,
   "metadata": {},
   "outputs": [
    {
     "ename": "NameError",
     "evalue": "name 'pd' is not defined",
     "output_type": "error",
     "traceback": [
      "\u001b[0;31m\u001b[0m",
      "\u001b[0;31mNameError\u001b[0mTraceback (most recent call last)",
      "\u001b[0;32m<ipython-input-1-67fc8260b20b>\u001b[0m in \u001b[0;36m<module>\u001b[0;34m\u001b[0m\n\u001b[0;32m----> 1\u001b[0;31m \u001b[0mdf\u001b[0m \u001b[0;34m=\u001b[0m \u001b[0mpd\u001b[0m\u001b[0;34m.\u001b[0m\u001b[0mread_csv\u001b[0m\u001b[0;34m(\u001b[0m\u001b[0;34m\"../data/raw/train.csv\"\u001b[0m\u001b[0;34m)\u001b[0m\u001b[0;34m\u001b[0m\u001b[0;34m\u001b[0m\u001b[0m\n\u001b[0m\u001b[1;32m      2\u001b[0m \u001b[0mdf\u001b[0m\u001b[0;34m\u001b[0m\u001b[0;34m\u001b[0m\u001b[0m\n",
      "\u001b[0;31mNameError\u001b[0m: name 'pd' is not defined"
     ]
    }
   ],
   "source": [
    "df = pd.read_csv(\"../data/raw/train.csv\")\n",
    "df"
   ]
  },
  {
   "cell_type": "code",
   "execution_count": 17,
   "metadata": {},
   "outputs": [
    {
     "name": "stdout",
     "output_type": "stream",
     "text": [
      "Index(['GP', 'MIN', 'PTS', 'FGM', 'FGA', '3P Made', '3PA', 'FTM', 'FTA',\n",
      "       'OREB', 'DREB', 'REB', 'AST', 'STL', 'BLK', 'TOV', 'CALC3P%', 'CALCFG%',\n",
      "       'CALCFT%'],\n",
      "      dtype='object')\n"
     ]
    }
   ],
   "source": [
    "x_data, x_train, x_val, x_test, y_data , y_train, y_val,  y_test = clean.clean_and_split_nba_data(df)"
   ]
  },
  {
   "cell_type": "code",
   "execution_count": 18,
   "metadata": {},
   "outputs": [],
   "source": [
    "scaler = np.load('../models/sp_wk3_scaler_logistic_regression.joblib',allow_pickle=True)"
   ]
  },
  {
   "cell_type": "code",
   "execution_count": 19,
   "metadata": {},
   "outputs": [],
   "source": [
    "def calculateVIF(data):\n",
    "    features = list(data.columns)\n",
    "    num_features = len(features)\n",
    "\n",
    "    model = LinearRegression()\n",
    "\n",
    "    result = pd.DataFrame(index = ['VIF'], columns = features)\n",
    "    result = result.fillna(0)\n",
    "\n",
    "    for ite in range(num_features):\n",
    "        x_features = features[:]\n",
    "        y_featue = features[ite]\n",
    "        x_features.remove(y_featue)\n",
    "\n",
    "        x = data[x_features]\n",
    "        y = data[y_featue]\n",
    "\n",
    "        model.fit(data[x_features], data[y_featue])\n",
    "\n",
    "        result[y_featue] = 1/(1 - model.score(data[x_features], data[y_featue]))\n",
    "\n",
    "    return result"
   ]
  },
  {
   "cell_type": "code",
   "execution_count": 20,
   "metadata": {},
   "outputs": [
    {
     "data": {
      "text/html": [
       "<div>\n",
       "<style scoped>\n",
       "    .dataframe tbody tr th:only-of-type {\n",
       "        vertical-align: middle;\n",
       "    }\n",
       "\n",
       "    .dataframe tbody tr th {\n",
       "        vertical-align: top;\n",
       "    }\n",
       "\n",
       "    .dataframe thead th {\n",
       "        text-align: right;\n",
       "    }\n",
       "</style>\n",
       "<table border=\"1\" class=\"dataframe\">\n",
       "  <thead>\n",
       "    <tr style=\"text-align: right;\">\n",
       "      <th></th>\n",
       "      <th>GP</th>\n",
       "      <th>MIN</th>\n",
       "      <th>PTS</th>\n",
       "      <th>FGM</th>\n",
       "      <th>FGA</th>\n",
       "      <th>3P Made</th>\n",
       "      <th>3PA</th>\n",
       "      <th>FTM</th>\n",
       "      <th>FTA</th>\n",
       "      <th>OREB</th>\n",
       "      <th>DREB</th>\n",
       "      <th>REB</th>\n",
       "      <th>AST</th>\n",
       "      <th>STL</th>\n",
       "      <th>BLK</th>\n",
       "      <th>TOV</th>\n",
       "      <th>CALC3P%</th>\n",
       "      <th>CALCFG%</th>\n",
       "      <th>CALCFT%</th>\n",
       "    </tr>\n",
       "  </thead>\n",
       "  <tbody>\n",
       "    <tr>\n",
       "      <th>VIF</th>\n",
       "      <td>1.692939</td>\n",
       "      <td>13.494565</td>\n",
       "      <td>216.548951</td>\n",
       "      <td>197.185109</td>\n",
       "      <td>83.220899</td>\n",
       "      <td>30.051728</td>\n",
       "      <td>29.579763</td>\n",
       "      <td>68.58087</td>\n",
       "      <td>50.866608</td>\n",
       "      <td>21.890676</td>\n",
       "      <td>72.400261</td>\n",
       "      <td>143.344486</td>\n",
       "      <td>4.325144</td>\n",
       "      <td>3.373008</td>\n",
       "      <td>1.392078</td>\n",
       "      <td>5.679168</td>\n",
       "      <td>1.696666</td>\n",
       "      <td>4.378739</td>\n",
       "      <td>2.097601</td>\n",
       "    </tr>\n",
       "  </tbody>\n",
       "</table>\n",
       "</div>"
      ],
      "text/plain": [
       "           GP        MIN         PTS         FGM        FGA    3P Made  \\\n",
       "VIF  1.692939  13.494565  216.548951  197.185109  83.220899  30.051728   \n",
       "\n",
       "           3PA       FTM        FTA       OREB       DREB         REB  \\\n",
       "VIF  29.579763  68.58087  50.866608  21.890676  72.400261  143.344486   \n",
       "\n",
       "          AST       STL       BLK       TOV   CALC3P%   CALCFG%   CALCFT%  \n",
       "VIF  4.325144  3.373008  1.392078  5.679168  1.696666  4.378739  2.097601  "
      ]
     },
     "execution_count": 20,
     "metadata": {},
     "output_type": "execute_result"
    }
   ],
   "source": [
    "calculateVIF(x_data)"
   ]
  },
  {
   "cell_type": "code",
   "execution_count": 21,
   "metadata": {},
   "outputs": [
    {
     "data": {
      "text/html": [
       "<div>\n",
       "<style scoped>\n",
       "    .dataframe tbody tr th:only-of-type {\n",
       "        vertical-align: middle;\n",
       "    }\n",
       "\n",
       "    .dataframe tbody tr th {\n",
       "        vertical-align: top;\n",
       "    }\n",
       "\n",
       "    .dataframe thead th {\n",
       "        text-align: right;\n",
       "    }\n",
       "</style>\n",
       "<table border=\"1\" class=\"dataframe\">\n",
       "  <thead>\n",
       "    <tr style=\"text-align: right;\">\n",
       "      <th></th>\n",
       "      <th>GP</th>\n",
       "      <th>FGA</th>\n",
       "      <th>3PA</th>\n",
       "      <th>FTA</th>\n",
       "      <th>OREB</th>\n",
       "      <th>DREB</th>\n",
       "      <th>AST</th>\n",
       "      <th>STL</th>\n",
       "      <th>BLK</th>\n",
       "      <th>TOV</th>\n",
       "      <th>CALC3P%</th>\n",
       "      <th>CALCFG%</th>\n",
       "      <th>CALCFT%</th>\n",
       "    </tr>\n",
       "  </thead>\n",
       "  <tbody>\n",
       "    <tr>\n",
       "      <th>VIF</th>\n",
       "      <td>1.646472</td>\n",
       "      <td>5.124633</td>\n",
       "      <td>2.094167</td>\n",
       "      <td>3.787726</td>\n",
       "      <td>4.002836</td>\n",
       "      <td>3.754432</td>\n",
       "      <td>3.972429</td>\n",
       "      <td>2.926084</td>\n",
       "      <td>1.386413</td>\n",
       "      <td>5.542465</td>\n",
       "      <td>1.334113</td>\n",
       "      <td>1.563669</td>\n",
       "      <td>1.121485</td>\n",
       "    </tr>\n",
       "  </tbody>\n",
       "</table>\n",
       "</div>"
      ],
      "text/plain": [
       "           GP       FGA       3PA       FTA      OREB      DREB       AST  \\\n",
       "VIF  1.646472  5.124633  2.094167  3.787726  4.002836  3.754432  3.972429   \n",
       "\n",
       "          STL       BLK       TOV   CALC3P%   CALCFG%   CALCFT%  \n",
       "VIF  2.926084  1.386413  5.542465  1.334113  1.563669  1.121485  "
      ]
     },
     "execution_count": 21,
     "metadata": {},
     "output_type": "execute_result"
    }
   ],
   "source": [
    "x = x_data.drop(['PTS','REB','FGM','FTM','3P Made','MIN'], axis=1)\n",
    "calculateVIF(x)"
   ]
  },
  {
   "cell_type": "code",
   "execution_count": 22,
   "metadata": {},
   "outputs": [],
   "source": [
    "x_data= x_data.drop(['PTS','REB','FGM','FTM','3P Made','MIN'], axis=1)\n",
    "x_train= x_train.drop(['PTS','REB','FGM','FTM','3P Made','MIN'], axis=1)\n",
    "x_test= x_test.drop(['PTS','REB','FGM','FTM','3P Made','MIN'], axis=1)\n",
    "x_val= x_val.drop(['PTS','REB','FGM','FTM','3P Made','MIN'], axis=1)"
   ]
  },
  {
   "cell_type": "code",
   "execution_count": 9,
   "metadata": {},
   "outputs": [],
   "source": [
    "x_data= scaler.fit_transform(x_data) \n",
    "x_train= scaler.fit_transform(x_train) \n",
    "x_test= scaler.fit_transform(x_test) \n",
    "x_val= scaler.fit_transform(x_val) "
   ]
  },
  {
   "cell_type": "code",
   "execution_count": 23,
   "metadata": {},
   "outputs": [
    {
     "data": {
      "text/html": [
       "<div style=\"padding: 1rem; background: #2E3440; font-family: Ubuntu, 'Helvetica Neue', 'Segoe UI';\"><div style=\"max-width: 100%; height: 2rem; display: flex;\"><span style=\"min-width: 5rem; margin-top: 0.5rem; margin-right: 1rem;\"></span><div style=\"width: 100%; height: 2rem; display: flex; justify-content: space-evenly; padding: 0.25rem; text-align: center; font-weight: 700\"><span style=\"width: 6rem; margin-top: 0.25em; color: #EBCB8B\">AUROC</span><span style=\"width: 6rem; margin-top: 0.25em; color: #A3BE8C;\">Accuracy</span><span style=\"width: 6rem; margin-top: 0.25em; color: #BF616A\">F1</span><span style=\"width: 6rem; margin-top: 0.25em; color: #B48EAD\">Recall</span><span style=\"width: 6rem; margin-top: 0.25em; color: #B48EAD\">Precision</span><span style=\"width: 6rem; margin-top: 0.25em; color: #D08770\">R2</span></div></div><div style=\"max-width: 100%; height: 2rem; display: flex; margin-top: 0.5rem;\"><div style=\"min-width: 5rem; margin-top: 0.5rem; margin-right: 1rem; font-weight: 700; color: ghostwhite;\">Validation</div><div style=\"width: 100%; height: 2rem; display: flex; justify-content: space-evenly; padding: 0.25rem; border-radius: 4px; box-shadow: 0 4px 6px 2px black; text-align: center; background: #3B4252\"><span style=\"width: 6rem; margin-top: 0.25em; color: #EBCB8B\">0.71349182</span><span style=\"width: 6rem; margin-top: 0.25em; color: #A3BE8C\">0.83359375</span><span style=\"width: 6rem; margin-top: 0.25em; color: #BF616A\">0.90924585</span><span style=\"width: 6rem; margin-top: 0.25em; color: #B48EAD\">1.0</span><span style=\"width: 6rem; margin-top: 0.25em; color: #B48EAD\">0.83359375</span><span style=\"width: 6rem; margin-top: 0.25em; color: #D08770\">0.0811642</span></div></div><div style=\"max-width: 100%; height: 2rem; display: flex; margin-top: 1.5rem; margin-bottom: 1rem;\"><div style=\"min-width: 5rem; margin-top: 0.5rem; margin-right: 1rem; font-weight: 700; color: ghostwhite;\">Training</div><div style=\"width: 100%; height: 2rem; display: flex; justify-content: space-evenly; padding: 0.25rem; border-radius: 4px; box-shadow: 0 4px 6px 2px black; text-align: center; background: #3B4252\"><span style=\"width: 6rem; margin-top: 0.25em; color: #EBCB8B\">0.70259816</span><span style=\"width: 6rem; margin-top: 0.25em; color: #A3BE8C\">0.83378906</span><span style=\"width: 6rem; margin-top: 0.25em; color: #BF616A\">0.90932339</span><span style=\"width: 6rem; margin-top: 0.25em; color: #B48EAD\">0.9997657</span><span style=\"width: 6rem; margin-top: 0.25em; color: #B48EAD\">0.83388704</span><span style=\"width: 6rem; margin-top: 0.25em; color: #D08770\">0.07275743</span></div></div></div>"
      ],
      "text/plain": [
       "<IPython.core.display.HTML object>"
      ]
     },
     "metadata": {},
     "output_type": "display_data"
    },
    {
     "data": {
      "text/plain": [
       "(LinearRegression(), 0.7025981647460522, 0.7134918225378513)"
      ]
     },
     "execution_count": 23,
     "metadata": {},
     "output_type": "execute_result"
    },
    {
     "data": {
      "image/png": "[encoded data removed]",
      "text/plain": [
       "<Figure size 432x288 with 2 Axes>"
      ]
     },
     "metadata": {
      "needs_background": "light"
     },
     "output_type": "display_data"
    }
   ],
   "source": [
    "lir=LinearRegression()\n",
    "evm.eval_model(lir,x_train,y_train,x_val,y_val,False)"
   ]
  },
  {
   "cell_type": "code",
   "execution_count": 24,
   "metadata": {},
   "outputs": [
    {
     "data": {
      "text/plain": [
       "['../models/sp_wk3_linear_reg_model.joblib']"
      ]
     },
     "execution_count": 24,
     "metadata": {},
     "output_type": "execute_result"
    }
   ],
   "source": [
    "dump(lir,  '../models/sp_wk3_linear_reg_model.joblib')"
   ]
  },
  {
   "cell_type": "code",
   "execution_count": 25,
   "metadata": {},
   "outputs": [
    {
     "data": {
      "text/html": [
       "<div style=\"padding: 1rem; background: #2E3440; font-family: Ubuntu, 'Helvetica Neue', 'Segoe UI';\"><div style=\"max-width: 100%; height: 2rem; display: flex;\"><span style=\"min-width: 5rem; margin-top: 0.5rem; margin-right: 1rem;\"></span><div style=\"width: 100%; height: 2rem; display: flex; justify-content: space-evenly; padding: 0.25rem; text-align: center; font-weight: 700\"><span style=\"width: 6rem; margin-top: 0.25em; color: #EBCB8B\">AUROC</span><span style=\"width: 6rem; margin-top: 0.25em; color: #A3BE8C;\">Accuracy</span><span style=\"width: 6rem; margin-top: 0.25em; color: #BF616A\">F1</span><span style=\"width: 6rem; margin-top: 0.25em; color: #B48EAD\">Recall</span><span style=\"width: 6rem; margin-top: 0.25em; color: #B48EAD\">Precision</span><span style=\"width: 6rem; margin-top: 0.25em; color: #D08770\">R2</span></div></div><div style=\"max-width: 100%; height: 2rem; display: flex; margin-top: 0.5rem;\"><div style=\"min-width: 5rem; margin-top: 0.5rem; margin-right: 1rem; font-weight: 700; color: ghostwhite;\">Validation</div><div style=\"width: 100%; height: 2rem; display: flex; justify-content: space-evenly; padding: 0.25rem; border-radius: 4px; box-shadow: 0 4px 6px 2px black; text-align: center; background: #3B4252\"><span style=\"width: 6rem; margin-top: 0.25em; color: #EBCB8B\">0.69665261</span><span style=\"width: 6rem; margin-top: 0.25em; color: #A3BE8C\">0.834375</span><span style=\"width: 6rem; margin-top: 0.25em; color: #BF616A\">0.90964882</span><span style=\"width: 6rem; margin-top: 0.25em; color: #B48EAD\">1.0</span><span style=\"width: 6rem; margin-top: 0.25em; color: #B48EAD\">0.83427142</span><span style=\"width: 6rem; margin-top: 0.25em; color: #D08770\">0.06622273</span></div></div></div>"
      ],
      "text/plain": [
       "<IPython.core.display.HTML object>"
      ]
     },
     "metadata": {},
     "output_type": "display_data"
    },
    {
     "ename": "ValueError",
     "evalue": "plot_confusion_matrix only supports classifiers",
     "output_type": "error",
     "traceback": [
      "\u001b[1;31m---------------------------------------------------------------------------\u001b[0m",
      "\u001b[1;31mValueError\u001b[0m                                Traceback (most recent call last)",
      "\u001b[1;32m<ipython-input-25-ccbbd650d453>\u001b[0m in \u001b[0;36m<module>\u001b[1;34m\u001b[0m\n\u001b[1;32m----> 1\u001b[1;33m \u001b[0mevm\u001b[0m\u001b[1;33m.\u001b[0m\u001b[0mget_performance\u001b[0m\u001b[1;33m(\u001b[0m\u001b[0mlir\u001b[0m\u001b[1;33m,\u001b[0m \u001b[0mx_test\u001b[0m\u001b[1;33m,\u001b[0m \u001b[0my_test\u001b[0m\u001b[1;33m,\u001b[0m \u001b[1;34m\"Test\"\u001b[0m\u001b[1;33m,\u001b[0m \u001b[1;32mTrue\u001b[0m\u001b[1;33m)\u001b[0m\u001b[1;33m\u001b[0m\u001b[1;33m\u001b[0m\u001b[0m\n\u001b[0m",
      "\u001b[1;32m~\\Documents\\git_repository\\adv_dsi\\kaggle_assignment\\src\\models\\eval_model.py\u001b[0m in \u001b[0;36mget_performance\u001b[1;34m(mod, xvar, yvar, runtype, show)\u001b[0m\n\u001b[0;32m    105\u001b[0m     \u001b[0mhtml\u001b[0m \u001b[1;33m=\u001b[0m \u001b[1;34mf'<div style=\"padding: 1rem; background: #2E3440; font-family: Ubuntu, \\'Helvetica Neue\\', \\'Segoe UI\\';\"><div style=\"max-width: 100%; height: 2rem; display: flex;\"><span style=\"min-width: 5rem; margin-top: 0.5rem; margin-right: 1rem;\"></span><div style=\"width: 100%; height: 2rem; display: flex; justify-content: space-evenly; padding: 0.25rem; text-align: center; font-weight: 700\"><span style=\"width: 6rem; margin-top: 0.25em; color: #EBCB8B\">AUROC</span><span style=\"width: 6rem; margin-top: 0.25em; color: #A3BE8C;\">Accuracy</span><span style=\"width: 6rem; margin-top: 0.25em; color: #BF616A\">F1</span><span style=\"width: 6rem; margin-top: 0.25em; color: #B48EAD\">Recall</span><span style=\"width: 6rem; margin-top: 0.25em; color: #B48EAD\">Precision</span><span style=\"width: 6rem; margin-top: 0.25em; color: #D08770\">R2</span></div></div><div style=\"max-width: 100%; height: 2rem; display: flex; margin-top: 0.5rem;\"><div style=\"min-width: 5rem; margin-top: 0.5rem; margin-right: 1rem; font-weight: 700; color: ghostwhite;\">Validation</div><div style=\"width: 100%; height: 2rem; display: flex; justify-content: space-evenly; padding: 0.25rem; border-radius: 4px; box-shadow: 0 4px 6px 2px black; text-align: center; background: #3B4252\"><span style=\"width: 6rem; margin-top: 0.25em; color: #EBCB8B\">{round(mod_roc_score, 8)}</span><span style=\"width: 6rem; margin-top: 0.25em; color: #A3BE8C\">{round(accuracy, 8)}</span><span style=\"width: 6rem; margin-top: 0.25em; color: #BF616A\">{round(f1, 8)}</span><span style=\"width: 6rem; margin-top: 0.25em; color: #B48EAD\">{round(recall, 8)}</span><span style=\"width: 6rem; margin-top: 0.25em; color: #B48EAD\">{round(precision, 8)}</span><span style=\"width: 6rem; margin-top: 0.25em; color: #D08770\">{round(r2, 8)}</span></div></div></div>'\u001b[0m\u001b[1;33m\u001b[0m\u001b[1;33m\u001b[0m\u001b[0m\n\u001b[0;32m    106\u001b[0m     \u001b[0mdisplay\u001b[0m\u001b[1;33m(\u001b[0m\u001b[0mHTML\u001b[0m\u001b[1;33m(\u001b[0m\u001b[0mhtml\u001b[0m\u001b[1;33m)\u001b[0m\u001b[1;33m)\u001b[0m\u001b[1;33m\u001b[0m\u001b[1;33m\u001b[0m\u001b[0m\n\u001b[1;32m--> 107\u001b[1;33m     \u001b[0mdisp\u001b[0m \u001b[1;33m=\u001b[0m \u001b[0mplot_confusion_matrix\u001b[0m\u001b[1;33m(\u001b[0m\u001b[0mmod\u001b[0m\u001b[1;33m,\u001b[0m \u001b[0mxvar\u001b[0m\u001b[1;33m,\u001b[0m \u001b[0myvar\u001b[0m\u001b[1;33m,\u001b[0m \u001b[0mcmap\u001b[0m\u001b[1;33m=\u001b[0m\u001b[0mplt\u001b[0m\u001b[1;33m.\u001b[0m\u001b[0mcm\u001b[0m\u001b[1;33m.\u001b[0m\u001b[0mBlues\u001b[0m\u001b[1;33m)\u001b[0m\u001b[1;33m\u001b[0m\u001b[1;33m\u001b[0m\u001b[0m\n\u001b[0m\u001b[0;32m    108\u001b[0m     \u001b[0mdisp\u001b[0m\u001b[1;33m.\u001b[0m\u001b[0max_\u001b[0m\u001b[1;33m.\u001b[0m\u001b[0mset_title\u001b[0m\u001b[1;33m(\u001b[0m\u001b[1;34m'Confusion matrix '\u001b[0m\u001b[1;33m+\u001b[0m\u001b[0mruntype\u001b[0m\u001b[1;33m)\u001b[0m\u001b[1;33m\u001b[0m\u001b[1;33m\u001b[0m\u001b[0m\n\u001b[0;32m    109\u001b[0m \u001b[1;33m\u001b[0m\u001b[0m\n",
      "\u001b[1;32mc:\\users\\xauspi\\.virtualenvs\\kaggle_assignment-dq2gjalz\\lib\\site-packages\\sklearn\\utils\\validation.py\u001b[0m in \u001b[0;36minner_f\u001b[1;34m(*args, **kwargs)\u001b[0m\n\u001b[0;32m     61\u001b[0m             \u001b[0mextra_args\u001b[0m \u001b[1;33m=\u001b[0m \u001b[0mlen\u001b[0m\u001b[1;33m(\u001b[0m\u001b[0margs\u001b[0m\u001b[1;33m)\u001b[0m \u001b[1;33m-\u001b[0m \u001b[0mlen\u001b[0m\u001b[1;33m(\u001b[0m\u001b[0mall_args\u001b[0m\u001b[1;33m)\u001b[0m\u001b[1;33m\u001b[0m\u001b[1;33m\u001b[0m\u001b[0m\n\u001b[0;32m     62\u001b[0m             \u001b[1;32mif\u001b[0m \u001b[0mextra_args\u001b[0m \u001b[1;33m<=\u001b[0m \u001b[1;36m0\u001b[0m\u001b[1;33m:\u001b[0m\u001b[1;33m\u001b[0m\u001b[1;33m\u001b[0m\u001b[0m\n\u001b[1;32m---> 63\u001b[1;33m                 \u001b[1;32mreturn\u001b[0m \u001b[0mf\u001b[0m\u001b[1;33m(\u001b[0m\u001b[1;33m*\u001b[0m\u001b[0margs\u001b[0m\u001b[1;33m,\u001b[0m \u001b[1;33m**\u001b[0m\u001b[0mkwargs\u001b[0m\u001b[1;33m)\u001b[0m\u001b[1;33m\u001b[0m\u001b[1;33m\u001b[0m\u001b[0m\n\u001b[0m\u001b[0;32m     64\u001b[0m \u001b[1;33m\u001b[0m\u001b[0m\n\u001b[0;32m     65\u001b[0m             \u001b[1;31m# extra_args > 0\u001b[0m\u001b[1;33m\u001b[0m\u001b[1;33m\u001b[0m\u001b[1;33m\u001b[0m\u001b[0m\n",
      "\u001b[1;32mc:\\users\\xauspi\\.virtualenvs\\kaggle_assignment-dq2gjalz\\lib\\site-packages\\sklearn\\metrics\\_plot\\confusion_matrix.py\u001b[0m in \u001b[0;36mplot_confusion_matrix\u001b[1;34m(estimator, X, y_true, labels, sample_weight, normalize, display_labels, include_values, xticks_rotation, values_format, cmap, ax, colorbar)\u001b[0m\n\u001b[0;32m    256\u001b[0m \u001b[1;33m\u001b[0m\u001b[0m\n\u001b[0;32m    257\u001b[0m     \u001b[1;32mif\u001b[0m \u001b[1;32mnot\u001b[0m \u001b[0mis_classifier\u001b[0m\u001b[1;33m(\u001b[0m\u001b[0mestimator\u001b[0m\u001b[1;33m)\u001b[0m\u001b[1;33m:\u001b[0m\u001b[1;33m\u001b[0m\u001b[1;33m\u001b[0m\u001b[0m\n\u001b[1;32m--> 258\u001b[1;33m         \u001b[1;32mraise\u001b[0m \u001b[0mValueError\u001b[0m\u001b[1;33m(\u001b[0m\u001b[1;34m\"plot_confusion_matrix only supports classifiers\"\u001b[0m\u001b[1;33m)\u001b[0m\u001b[1;33m\u001b[0m\u001b[1;33m\u001b[0m\u001b[0m\n\u001b[0m\u001b[0;32m    259\u001b[0m \u001b[1;33m\u001b[0m\u001b[0m\n\u001b[0;32m    260\u001b[0m     \u001b[0my_pred\u001b[0m \u001b[1;33m=\u001b[0m \u001b[0mestimator\u001b[0m\u001b[1;33m.\u001b[0m\u001b[0mpredict\u001b[0m\u001b[1;33m(\u001b[0m\u001b[0mX\u001b[0m\u001b[1;33m)\u001b[0m\u001b[1;33m\u001b[0m\u001b[1;33m\u001b[0m\u001b[0m\n",
      "\u001b[1;31mValueError\u001b[0m: plot_confusion_matrix only supports classifiers"
     ]
    }
   ],
   "source": [
    "evm.get_performance(lir, x_test, y_test, \"Test\", True)"
   ]
  },
  {
   "cell_type": "code",
   "execution_count": null,
   "metadata": {},
   "outputs": [],
   "source": []
  },
  {
   "cell_type": "code",
   "execution_count": null,
   "metadata": {},
   "outputs": [],
   "source": []
  },
  {
   "cell_type": "code",
   "execution_count": null,
   "metadata": {},
   "outputs": [],
   "source": []
  }
 ],
 "metadata": {
  "kernelspec": {
   "display_name": "Python 3",
   "language": "python",
   "name": "python3"
  },
  "language_info": {
   "codemirror_mode": {
    "name": "ipython",
    "version": 3
   },
   "file_extension": ".py",
   "mimetype": "text/x-python",
   "name": "python",
   "nbconvert_exporter": "python",
   "pygments_lexer": "ipython3",
   "version": "3.7.6"
  }
 },
 "nbformat": 4,
 "nbformat_minor": 5
}
